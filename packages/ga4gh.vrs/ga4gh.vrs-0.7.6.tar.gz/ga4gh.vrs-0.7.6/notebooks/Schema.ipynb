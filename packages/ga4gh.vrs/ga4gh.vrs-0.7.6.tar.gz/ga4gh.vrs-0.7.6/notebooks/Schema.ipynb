{
 "cells": [
  {
   "cell_type": "markdown",
   "metadata": {},
   "source": [
    "# GA4GH Variation Representation Schema\n",
    "\n",
    "This notebook demonstrates the use of the VR schema to represent variation in APOE.  Objects created in this notebook are saved at the end and used by other notebooks to demonstrate other features of the VR specification.\n",
    "\n",
    "\n",
    "## APOE Variation\n",
    "\n",
    "                                 rs7412 \n",
    "                                 NC_000019.10:g.44908822\n",
    "                                 NM_000041.3:c.526\n",
    "                                 C          T\n",
    "    rs429358                 C   APOE-ε4    APOE-ε1\n",
    "    NC_000019.10:g.44908684  T   APOE-ε3    APOE-ε2\n",
    "    NM_000041.3:c.388\n",
    "\n",
    "Note: The example currently uses only rs7412:T. Future versions of the schema will support haplotypes and genotypes, and these examples will be extended appropriately."
   ]
  },
  {
   "cell_type": "markdown",
   "metadata": {},
   "source": [
    "## Using the VR Reference Implemention\n",
    "\n",
    "See https://github.com/ga4gh/vr-python for information about installing the reference implementation."
   ]
  },
  {
   "cell_type": "code",
   "execution_count": 1,
   "metadata": {
    "scrolled": true
   },
   "outputs": [
    {
     "data": {
      "text/plain": [
       "'0.6.0rc1.dev7+g1a5bd28.d20201222'"
      ]
     },
     "execution_count": 1,
     "metadata": {},
     "output_type": "execute_result"
    }
   ],
   "source": [
    "from ga4gh.vrs import __version__, models\n",
    "__version__"
   ]
  },
  {
   "cell_type": "markdown",
   "metadata": {},
   "source": [
    "## Schema Overview\n",
    "\n",
    "<img src=\"images/schema-current.png\" width=\"75%\" alt=\"Current Schema\"/>"
   ]
  },
  {
   "cell_type": "markdown",
   "metadata": {},
   "source": [
    "## Sequences\n",
    "\n",
    "The VR Specfication expects the existence of a repository of biological sequences. At a minimum, these sequences must be indexed using whatever accessions are available. Implementations that wish to use the computed identifier mechanism should also have precomputed ga4gh sequence accessions. Either way, sequences must be referred to using [W3C Compact URIs (CURIEs)](https://w3.org/TR/curie/). In the examples below, we'll use \"refseq:NC_000019.10\" to refer to chromosome 19 from GRCh38."
   ]
  },
  {
   "cell_type": "markdown",
   "metadata": {},
   "source": [
    "## Locations\n",
    "A Location is an *abstract* object that refer to contiguous regions of biological sequences.\n",
    "\n",
    "In the initial release of VR, the only Location is a SequenceLocation, which represents a precise interval (`SimpleInterval`) on a sequence.  GA4GH VR uses interbase coordinates exclusively; therefore the 1-based residue position 44908822 is referred to using the 0-based interbase interval <44908821, 44908822>.\n",
    "\n",
    "Future Location subclasses will provide for approximate coordinates, gene symbols, and cytogenetic bands."
   ]
  },
  {
   "cell_type": "markdown",
   "metadata": {},
   "source": [
    "#### SequenceLocation"
   ]
  },
  {
   "cell_type": "code",
   "execution_count": 2,
   "metadata": {
    "scrolled": true
   },
   "outputs": [],
   "source": [
    "location = models.SequenceLocation(\n",
    "    sequence_id=\"refseq:NC_000019.10\",\n",
    "    interval=models.SimpleInterval(start=44908821, end=44908822))"
   ]
  },
  {
   "cell_type": "code",
   "execution_count": 3,
   "metadata": {},
   "outputs": [
    {
     "data": {
      "text/plain": [
       "{'interval': {'end': 44908822, 'start': 44908821, 'type': 'SimpleInterval'},\n",
       " 'sequence_id': 'refseq:NC_000019.10',\n",
       " 'type': 'SequenceLocation'}"
      ]
     },
     "execution_count": 3,
     "metadata": {},
     "output_type": "execute_result"
    }
   ],
   "source": [
    "location.as_dict()"
   ]
  },
  {
   "cell_type": "markdown",
   "metadata": {},
   "source": [
    "## Variation\n",
    "\n",
    "### Text Variation\n",
    "\n",
    "The TextVariation class represents variation descriptions that cannot be parsed, or cannot be parsed yet.  The primary use for this class is to allow unparsed variation to be represented within the VR framework and be associated with annotations."
   ]
  },
  {
   "cell_type": "code",
   "execution_count": 4,
   "metadata": {},
   "outputs": [
    {
     "data": {
      "text/plain": [
       "{'definition': 'APO loss', 'type': 'Text'}"
      ]
     },
     "execution_count": 4,
     "metadata": {},
     "output_type": "execute_result"
    }
   ],
   "source": [
    "variation = models.Text(definition=\"APO loss\")\n",
    "variation.as_dict()"
   ]
  },
  {
   "cell_type": "markdown",
   "metadata": {},
   "source": [
    "### Alleles\n",
    "\n",
    "An Allele is an asserion of a state of biological sequence at a Location.  In the first version of the VR Schema, the only State subclass is SequenceState, which represents the replacement of sequence.  Future versions of State will enable representations of copy number variation."
   ]
  },
  {
   "cell_type": "markdown",
   "metadata": {},
   "source": [
    "### \"Simple\" sequence replacements\n",
    "This case covers any \"ref-alt\" style variation, which includes SNVs, MNVs, del, ins, and delins."
   ]
  },
  {
   "cell_type": "code",
   "execution_count": 5,
   "metadata": {
    "scrolled": true
   },
   "outputs": [
    {
     "data": {
      "text/plain": [
       "{'location': {'interval': {'end': 44908822,\n",
       "   'start': 44908821,\n",
       "   'type': 'SimpleInterval'},\n",
       "  'sequence_id': 'refseq:NC_000019.10',\n",
       "  'type': 'SequenceLocation'},\n",
       " 'state': {'sequence': 'A', 'type': 'SequenceState'},\n",
       " 'type': 'Allele'}"
      ]
     },
     "execution_count": 5,
     "metadata": {},
     "output_type": "execute_result"
    }
   ],
   "source": [
    "allele = models.Allele(location=location,\n",
    "                       state=models.SequenceState(sequence=\"A\"))\n",
    "allele.as_dict()"
   ]
  },
  {
   "cell_type": "markdown",
   "metadata": {},
   "source": [
    "----\n",
    "\n",
    "## Saving the objects\n",
    "\n",
    "Objects created in this notebook will be saved as a json file and loaded by subsequent notebooks."
   ]
  },
  {
   "cell_type": "code",
   "execution_count": 6,
   "metadata": {},
   "outputs": [],
   "source": [
    "import json\n",
    "filename = \"objects.json\""
   ]
  },
  {
   "cell_type": "code",
   "execution_count": 7,
   "metadata": {},
   "outputs": [],
   "source": [
    "data = {\n",
    "    \"alleles\": [allele.as_dict()],\n",
    "    \"locations\": [location.as_dict()]\n",
    "}"
   ]
  },
  {
   "cell_type": "code",
   "execution_count": 8,
   "metadata": {},
   "outputs": [],
   "source": [
    "json.dump(data, open(filename, \"w\"))"
   ]
  }
 ],
 "metadata": {
  "kernelspec": {
   "display_name": "Python 3",
   "language": "python",
   "name": "python3"
  },
  "language_info": {
   "codemirror_mode": {
    "name": "ipython",
    "version": 3
   },
   "file_extension": ".py",
   "mimetype": "text/x-python",
   "name": "python",
   "nbconvert_exporter": "python",
   "pygments_lexer": "ipython3",
   "version": "3.8.5"
  }
 },
 "nbformat": 4,
 "nbformat_minor": 2
}
