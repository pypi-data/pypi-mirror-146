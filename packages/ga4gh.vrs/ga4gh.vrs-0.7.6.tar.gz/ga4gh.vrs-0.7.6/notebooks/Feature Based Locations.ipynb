{
 "cells": [
  {
   "cell_type": "markdown",
   "metadata": {},
   "source": [
    "# Feature-Based Locations\n",
    "\n",
    "Feature-based locations are VRS Locations that are defined by reference to certain landmarks or features. The currently supported Feature-Based Locations are ChromosomeLocation and GeneLocation classes."
   ]
  },
  {
   "cell_type": "code",
   "execution_count": 29,
   "metadata": {},
   "outputs": [],
   "source": [
    "from ga4gh.vrs import models\n",
    "from ga4gh.core import ga4gh_identify, ga4gh_serialize"
   ]
  },
  {
   "cell_type": "markdown",
   "metadata": {},
   "source": [
    "## ChromosomeLocation"
   ]
  },
  {
   "cell_type": "code",
   "execution_count": 30,
   "metadata": {},
   "outputs": [
    {
     "data": {
      "text/plain": [
       "{'chr': '11',\n",
       " 'interval': {'end': 'q22.3', 'start': 'q22.2', 'type': 'CytobandInterval'},\n",
       " 'species_id': 'taxonomy:9606',\n",
       " 'type': 'ChromosomeLocation'}"
      ]
     },
     "execution_count": 30,
     "metadata": {},
     "output_type": "execute_result"
    }
   ],
   "source": [
    "cbl1 = models.ChromosomeLocation(species_id=\"taxonomy:9606\", \n",
    "                                 chr=\"11\", \n",
    "                                 interval=models.CytobandInterval(start=\"q22.2\", end=\"q22.3\")\n",
    "                                )\n",
    "cbl1.as_dict()"
   ]
  },
  {
   "cell_type": "markdown",
   "metadata": {},
   "source": [
    "## Serialization and Identification"
   ]
  },
  {
   "cell_type": "code",
   "execution_count": 41,
   "metadata": {},
   "outputs": [
    {
     "data": {
      "text/plain": [
       "b'{\"chr\":\"11\",\"interval\":{\"end\":\"q22.3\",\"start\":\"q22.2\",\"type\":\"CytobandInterval\"},\"species_id\":\"taxonomy:9606\",\"type\":\"ChromosomeLocation\"}'"
      ]
     },
     "execution_count": 41,
     "metadata": {},
     "output_type": "execute_result"
    }
   ],
   "source": [
    "ga4gh_serialize(cbl1)"
   ]
  },
  {
   "cell_type": "code",
   "execution_count": 42,
   "metadata": {},
   "outputs": [
    {
     "data": {
      "text/plain": [
       "'ga4gh:VCL.eLG0pS7t_p8cqfm_SG4xLFDCPbkyGt0t'"
      ]
     },
     "execution_count": 42,
     "metadata": {},
     "output_type": "execute_result"
    }
   ],
   "source": [
    "ga4gh_identify(cbl1)"
   ]
  },
  {
   "cell_type": "code",
   "execution_count": 43,
   "metadata": {},
   "outputs": [],
   "source": [
    "## Localization"
   ]
  },
  {
   "cell_type": "code",
   "execution_count": 44,
   "metadata": {},
   "outputs": [
    {
     "data": {
      "text/plain": [
       "{'interval': {'end': 110400000, 'start': 102100000, 'type': 'SimpleInterval'},\n",
       " 'sequence_id': 'refseq:NC_000011.9',\n",
       " 'type': 'SequenceLocation'}"
      ]
     },
     "execution_count": 44,
     "metadata": {},
     "output_type": "execute_result"
    }
   ],
   "source": [
    "cbl1sl37 = lr.localize_named_feature(cbl1, \"GRCh37\")\n",
    "cbl1sl37.as_dict()"
   ]
  },
  {
   "cell_type": "code",
   "execution_count": 45,
   "metadata": {},
   "outputs": [
    {
     "data": {
      "text/plain": [
       "{'interval': {'end': 110600000, 'start': 102300000, 'type': 'SimpleInterval'},\n",
       " 'sequence_id': 'refseq:NC_000011.10',\n",
       " 'type': 'SequenceLocation'}"
      ]
     },
     "execution_count": 45,
     "metadata": {},
     "output_type": "execute_result"
    }
   ],
   "source": [
    "cbl1sl38 = lr.localize_named_feature(cbl1, \"GRCh38\")\n",
    "cbl1sl38.as_dict()"
   ]
  },
  {
   "cell_type": "code",
   "execution_count": null,
   "metadata": {},
   "outputs": [],
   "source": []
  }
 ],
 "metadata": {
  "kernelspec": {
   "display_name": "Python 3",
   "language": "python",
   "name": "python3"
  },
  "language_info": {
   "codemirror_mode": {
    "name": "ipython",
    "version": 3
   },
   "file_extension": ".py",
   "mimetype": "text/x-python",
   "name": "python",
   "nbconvert_exporter": "python",
   "pygments_lexer": "ipython3",
   "version": "3.8.5"
  }
 },
 "nbformat": 4,
 "nbformat_minor": 4
}
