{
 "cells": [
  {
   "cell_type": "markdown",
   "metadata": {},
   "source": [
    "# Variation Set Examples"
   ]
  },
  {
   "cell_type": "code",
   "execution_count": 3,
   "metadata": {},
   "outputs": [],
   "source": [
    "from ga4gh.vrs import models, vr_enref, vr_deref\n",
    "from ga4gh.core import ga4gh_identify, ga4gh_serialize, ga4gh_digest, ga4gh_enref, ga4gh_deref\n",
    "\n",
    "import json\n",
    "def ppo(o):\n",
    "    \"\"\"pretty print object as json\"\"\"\n",
    "    print(json.dumps(o.as_dict(), indent=2))"
   ]
  },
  {
   "cell_type": "markdown",
   "metadata": {},
   "source": [
    "## Setup Sample Alleles\n",
    "VariationSet objects may contain any kind of Variation and need not be homogeneous. For example, a VariationSet might contain two genomic Alleles (perhaps on different primary assemblies), a transcript Allele, and a protein Allele. We'll use three Alleles below on a fake sequence_id."
   ]
  },
  {
   "cell_type": "code",
   "execution_count": 4,
   "metadata": {},
   "outputs": [],
   "source": [
    "a1 = models.Allele(\n",
    "    location=models.SequenceLocation(\n",
    "        sequence_id=\"ga4gh:SQ.01234abcde\",\n",
    "        interval=models.SimpleInterval(start=10, end=11)\n",
    "    ),\n",
    "    state=models.SequenceState(sequence=\"C\")\n",
    ")\n",
    "a2 = models.Allele(\n",
    "    location=models.SequenceLocation(\n",
    "        sequence_id=\"ga4gh:SQ.01234abcde\",\n",
    "        interval=models.SimpleInterval(start=20, end=21)\n",
    "    ),\n",
    "    state=models.SequenceState(sequence=\"C\")\n",
    ")\n",
    "a3 = models.Allele(\n",
    "    location=models.SequenceLocation(\n",
    "        sequence_id=\"ga4gh:SQ.01234abcde\",\n",
    "        interval=models.SimpleInterval(start=30, end=31)\n",
    "    ),\n",
    "    state=models.SequenceState(sequence=\"C\")\n",
    ")"
   ]
  },
  {
   "cell_type": "code",
   "execution_count": 5,
   "metadata": {},
   "outputs": [
    {
     "data": {
      "text/plain": [
       "[<Allele _id=None location=<SequenceLocation _id=None interval=<SimpleInterval end=<Literal<int> 11> start=<Literal<int> 10> type=<Literal<str> SimpleInterval>> sequence_id=<Literal<str> ga4gh:SQ.01234abcde> type=<Literal<str> SequenceLocation>> state=<SequenceState sequence=<Literal<str> C> type=<Literal<str> SequenceState>> type=<Literal<str> Allele>>,\n",
       " <Allele _id=None location=<SequenceLocation _id=None interval=<SimpleInterval end=<Literal<int> 21> start=<Literal<int> 20> type=<Literal<str> SimpleInterval>> sequence_id=<Literal<str> ga4gh:SQ.01234abcde> type=<Literal<str> SequenceLocation>> state=<SequenceState sequence=<Literal<str> C> type=<Literal<str> SequenceState>> type=<Literal<str> Allele>>,\n",
       " <Allele _id=None location=<SequenceLocation _id=None interval=<SimpleInterval end=<Literal<int> 31> start=<Literal<int> 30> type=<Literal<str> SimpleInterval>> sequence_id=<Literal<str> ga4gh:SQ.01234abcde> type=<Literal<str> SequenceLocation>> state=<SequenceState sequence=<Literal<str> C> type=<Literal<str> SequenceState>> type=<Literal<str> Allele>>]"
      ]
     },
     "execution_count": 5,
     "metadata": {},
     "output_type": "execute_result"
    }
   ],
   "source": [
    "alleles = [a1,a2,a3]\n",
    "alleles"
   ]
  },
  {
   "cell_type": "markdown",
   "metadata": {},
   "source": [
    "## VariationSet"
   ]
  },
  {
   "cell_type": "markdown",
   "metadata": {},
   "source": [
    "### Inlined\n",
    "\"Inlined\" VR objects are those that have identifiable objects nested within them. Because the objects are nested, they are self-contained. "
   ]
  },
  {
   "cell_type": "code",
   "execution_count": 6,
   "metadata": {},
   "outputs": [],
   "source": [
    "vs_inlined = models.VariationSet(members=[a1,a2,a3])"
   ]
  },
  {
   "cell_type": "code",
   "execution_count": 7,
   "metadata": {},
   "outputs": [
    {
     "name": "stdout",
     "output_type": "stream",
     "text": [
      "{\n",
      "  \"members\": [\n",
      "    {\n",
      "      \"location\": {\n",
      "        \"interval\": {\n",
      "          \"end\": 11,\n",
      "          \"start\": 10,\n",
      "          \"type\": \"SimpleInterval\"\n",
      "        },\n",
      "        \"sequence_id\": \"ga4gh:SQ.01234abcde\",\n",
      "        \"type\": \"SequenceLocation\"\n",
      "      },\n",
      "      \"state\": {\n",
      "        \"sequence\": \"C\",\n",
      "        \"type\": \"SequenceState\"\n",
      "      },\n",
      "      \"type\": \"Allele\"\n",
      "    },\n",
      "    {\n",
      "      \"location\": {\n",
      "        \"interval\": {\n",
      "          \"end\": 21,\n",
      "          \"start\": 20,\n",
      "          \"type\": \"SimpleInterval\"\n",
      "        },\n",
      "        \"sequence_id\": \"ga4gh:SQ.01234abcde\",\n",
      "        \"type\": \"SequenceLocation\"\n",
      "      },\n",
      "      \"state\": {\n",
      "        \"sequence\": \"C\",\n",
      "        \"type\": \"SequenceState\"\n",
      "      },\n",
      "      \"type\": \"Allele\"\n",
      "    },\n",
      "    {\n",
      "      \"location\": {\n",
      "        \"interval\": {\n",
      "          \"end\": 31,\n",
      "          \"start\": 30,\n",
      "          \"type\": \"SimpleInterval\"\n",
      "        },\n",
      "        \"sequence_id\": \"ga4gh:SQ.01234abcde\",\n",
      "        \"type\": \"SequenceLocation\"\n",
      "      },\n",
      "      \"state\": {\n",
      "        \"sequence\": \"C\",\n",
      "        \"type\": \"SequenceState\"\n",
      "      },\n",
      "      \"type\": \"Allele\"\n",
      "    }\n",
      "  ],\n",
      "  \"type\": \"VariationSet\"\n",
      "}\n"
     ]
    }
   ],
   "source": [
    "ppo(vs_inlined)"
   ]
  },
  {
   "cell_type": "code",
   "execution_count": 8,
   "metadata": {},
   "outputs": [
    {
     "data": {
      "text/plain": [
       "'ga4gh:VS.WVC_R7OJ688EQX3NrgpJfsf_ctQUsVP3'"
      ]
     },
     "execution_count": 8,
     "metadata": {},
     "output_type": "execute_result"
    }
   ],
   "source": [
    "ga4gh_identify(vs_inlined)"
   ]
  },
  {
   "cell_type": "code",
   "execution_count": 9,
   "metadata": {},
   "outputs": [
    {
     "data": {
      "text/plain": [
       "'ga4gh:VS.AajzQroZB9ZUK4tNzVuDOiG2WhMczHUe'"
      ]
     },
     "execution_count": 9,
     "metadata": {},
     "output_type": "execute_result"
    }
   ],
   "source": [
    "# computed id does not depend on order of members\n",
    "vs_inlined2 = models.VariationSet(members=[a3,a2,a1])\n",
    "ga4gh_identify(vs_inlined2)"
   ]
  },
  {
   "cell_type": "markdown",
   "metadata": {},
   "source": [
    "### Referenced Objects\n",
    "\"Referenced\" VR objects are those that refer to other objects by identifiers. The examples in this section show the referenced form of the previous inlined examples. "
   ]
  },
  {
   "cell_type": "code",
   "execution_count": 10,
   "metadata": {},
   "outputs": [
    {
     "data": {
      "text/plain": [
       "['ga4gh:VA.6xjH0Ikz88s7MhcyN5GJTa1p712-M10W',\n",
       " 'ga4gh:VA.7k2lyIsIsoBgRFPlfnIOeCeEgj_2BO7F',\n",
       " 'ga4gh:VA.ikcK330gH3bYO2sw9QcTsoptTFnk_Xjh']"
      ]
     },
     "execution_count": 10,
     "metadata": {},
     "output_type": "execute_result"
    }
   ],
   "source": [
    "allele_ids = [ga4gh_identify(a) for a in alleles]\n",
    "allele_ids"
   ]
  },
  {
   "cell_type": "code",
   "execution_count": 11,
   "metadata": {},
   "outputs": [
    {
     "data": {
      "text/plain": [
       "{'members': ['ga4gh:VA.6xjH0Ikz88s7MhcyN5GJTa1p712-M10W',\n",
       "  'ga4gh:VA.7k2lyIsIsoBgRFPlfnIOeCeEgj_2BO7F',\n",
       "  'ga4gh:VA.ikcK330gH3bYO2sw9QcTsoptTFnk_Xjh'],\n",
       " 'type': 'VariationSet'}"
      ]
     },
     "execution_count": 11,
     "metadata": {},
     "output_type": "execute_result"
    }
   ],
   "source": [
    "# computed id is the same when members are defined by id\n",
    "vs_referenced = models.VariationSet(members=allele_ids)\n",
    "vs_referenced.as_dict()"
   ]
  },
  {
   "cell_type": "code",
   "execution_count": 12,
   "metadata": {},
   "outputs": [
    {
     "data": {
      "text/plain": [
       "'ga4gh:VS.WVC_R7OJ688EQX3NrgpJfsf_ctQUsVP3'"
      ]
     },
     "execution_count": 12,
     "metadata": {},
     "output_type": "execute_result"
    }
   ],
   "source": [
    "ga4gh_identify(vs_referenced)"
   ]
  },
  {
   "cell_type": "markdown",
   "metadata": {},
   "source": [
    "**IMPORTANT** Notice that the computed identifiers for inlined and referenced VariationSets are identical. "
   ]
  },
  {
   "cell_type": "code",
   "execution_count": 14,
   "metadata": {},
   "outputs": [],
   "source": [
    "assert ga4gh_identify(vs_inlined) == ga4gh_identify(vs_referenced)"
   ]
  },
  {
   "cell_type": "markdown",
   "metadata": {},
   "source": [
    "## Enref / Deref"
   ]
  },
  {
   "cell_type": "code",
   "execution_count": 15,
   "metadata": {},
   "outputs": [
    {
     "data": {
      "text/plain": [
       "{'members': [{'location': {'interval': {'end': 11,\n",
       "     'start': 10,\n",
       "     'type': 'SimpleInterval'},\n",
       "    'sequence_id': 'ga4gh:SQ.01234abcde',\n",
       "    'type': 'SequenceLocation'},\n",
       "   'state': {'sequence': 'C', 'type': 'SequenceState'},\n",
       "   'type': 'Allele'},\n",
       "  {'location': {'interval': {'end': 21, 'start': 20, 'type': 'SimpleInterval'},\n",
       "    'sequence_id': 'ga4gh:SQ.01234abcde',\n",
       "    'type': 'SequenceLocation'},\n",
       "   'state': {'sequence': 'C', 'type': 'SequenceState'},\n",
       "   'type': 'Allele'},\n",
       "  {'location': {'interval': {'end': 31, 'start': 30, 'type': 'SimpleInterval'},\n",
       "    'sequence_id': 'ga4gh:SQ.01234abcde',\n",
       "    'type': 'SequenceLocation'},\n",
       "   'state': {'sequence': 'C', 'type': 'SequenceState'},\n",
       "   'type': 'Allele'}],\n",
       " 'type': 'VariationSet'}"
      ]
     },
     "execution_count": 15,
     "metadata": {},
     "output_type": "execute_result"
    }
   ],
   "source": [
    "vs = models.VariationSet(members=[a1,a2,a3]) \n",
    "vs.as_dict()"
   ]
  },
  {
   "cell_type": "code",
   "execution_count": 19,
   "metadata": {},
   "outputs": [
    {
     "data": {
      "text/plain": [
       "{'members': ['ga4gh:VA.6xjH0Ikz88s7MhcyN5GJTa1p712-M10W',\n",
       "  'ga4gh:VA.7k2lyIsIsoBgRFPlfnIOeCeEgj_2BO7F',\n",
       "  'ga4gh:VA.ikcK330gH3bYO2sw9QcTsoptTFnk_Xjh'],\n",
       " 'type': 'VariationSet'}"
      ]
     },
     "execution_count": 19,
     "metadata": {},
     "output_type": "execute_result"
    }
   ],
   "source": [
    "# \"enref\" recursively identifies and stores the embedded objects in the object store\n",
    "object_store={}\n",
    "vs2 = vr_enref(vs, object_store=object_store)\n",
    "vs2.as_dict()"
   ]
  },
  {
   "cell_type": "code",
   "execution_count": 20,
   "metadata": {},
   "outputs": [
    {
     "data": {
      "text/plain": [
       "['ga4gh:VSL.EIy4ssWCI2YW3XDTSaf26A75Zjxqu0qD',\n",
       " 'ga4gh:VA.6xjH0Ikz88s7MhcyN5GJTa1p712-M10W',\n",
       " 'ga4gh:VSL.SHAyou8BM660a9u9OXzn7h-DYOX9OSMD',\n",
       " 'ga4gh:VA.7k2lyIsIsoBgRFPlfnIOeCeEgj_2BO7F',\n",
       " 'ga4gh:VSL.FEJTkuL6G4U2WUJ2LgejLm--ZUDnCiV7',\n",
       " 'ga4gh:VA.ikcK330gH3bYO2sw9QcTsoptTFnk_Xjh',\n",
       " 'ga4gh:VS.WVC_R7OJ688EQX3NrgpJfsf_ctQUsVP3']"
      ]
     },
     "execution_count": 20,
     "metadata": {},
     "output_type": "execute_result"
    }
   ],
   "source": [
    "# object_store now contains the fully-referenced forms of all objects, recursively\n",
    "list(object_store.keys())"
   ]
  },
  {
   "cell_type": "code",
   "execution_count": 22,
   "metadata": {},
   "outputs": [
    {
     "data": {
      "text/plain": [
       "{'members': [{'location': {'interval': {'end': 11,\n",
       "     'start': 10,\n",
       "     'type': 'SimpleInterval'},\n",
       "    'sequence_id': 'ga4gh:SQ.01234abcde',\n",
       "    'type': 'SequenceLocation'},\n",
       "   'state': {'sequence': 'C', 'type': 'SequenceState'},\n",
       "   'type': 'Allele'},\n",
       "  {'location': {'interval': {'end': 21, 'start': 20, 'type': 'SimpleInterval'},\n",
       "    'sequence_id': 'ga4gh:SQ.01234abcde',\n",
       "    'type': 'SequenceLocation'},\n",
       "   'state': {'sequence': 'C', 'type': 'SequenceState'},\n",
       "   'type': 'Allele'},\n",
       "  {'location': {'interval': {'end': 31, 'start': 30, 'type': 'SimpleInterval'},\n",
       "    'sequence_id': 'ga4gh:SQ.01234abcde',\n",
       "    'type': 'SequenceLocation'},\n",
       "   'state': {'sequence': 'C', 'type': 'SequenceState'},\n",
       "   'type': 'Allele'}],\n",
       " 'type': 'VariationSet'}"
      ]
     },
     "execution_count": 22,
     "metadata": {},
     "output_type": "execute_result"
    }
   ],
   "source": [
    "# \"deref\" reconstitutes the fully inlined objects\n",
    "vs3 = vr_deref(vs2, object_store=object_store)\n",
    "vs3.as_dict()"
   ]
  },
  {
   "cell_type": "code",
   "execution_count": 23,
   "metadata": {
    "scrolled": true
   },
   "outputs": [
    {
     "data": {
      "text/plain": [
       "True"
      ]
     },
     "execution_count": 23,
     "metadata": {},
     "output_type": "execute_result"
    }
   ],
   "source": [
    "vs == vs3"
   ]
  },
  {
   "cell_type": "markdown",
   "metadata": {},
   "source": [
    "## Error cases\n",
    "The following examples show intentional errors"
   ]
  },
  {
   "cell_type": "markdown",
   "metadata": {},
   "source": [
    "### Members must be unique (a set)"
   ]
  },
  {
   "cell_type": "code",
   "execution_count": 24,
   "metadata": {
    "scrolled": false
   },
   "outputs": [
    {
     "name": "stdout",
     "output_type": "stream",
     "text": [
      "[<Allele _id=None location=<SequenceLocation _id=None interval=<SimpleInterval end=<Literal<int> 11> start=<Literal<int> 10> type=<Literal<str> SimpleInterval>> sequence_id=<Literal<str> ga4gh:SQ.01234abcde> type=<Literal<str> SequenceLocation>> state=<SequenceState sequence=<Literal<str> C> type=<Literal<str> SequenceState>> type=<Literal<str> Allele>>, <Allele _id=None location=<SequenceLocation _id=None interval=<SimpleInterval end=<Literal<int> 21> start=<Literal<int> 20> type=<Literal<str> SimpleInterval>> sequence_id=<Literal<str> ga4gh:SQ.01234abcde> type=<Literal<str> SequenceLocation>> state=<SequenceState sequence=<Literal<str> C> type=<Literal<str> SequenceState>> type=<Literal<str> Allele>>, <Allele _id=None location=<SequenceLocation _id=None interval=<SimpleInterval end=<Literal<int> 31> start=<Literal<int> 30> type=<Literal<str> SimpleInterval>> sequence_id=<Literal<str> ga4gh:SQ.01234abcde> type=<Literal<str> SequenceLocation>> state=<SequenceState sequence=<Literal<str> C> type=<Literal<str> SequenceState>> type=<Literal<str> Allele>>, <Allele _id=None location=<SequenceLocation _id=None interval=<SimpleInterval end=<Literal<int> 31> start=<Literal<int> 30> type=<Literal<str> SimpleInterval>> sequence_id=<Literal<str> ga4gh:SQ.01234abcde> type=<Literal<str> SequenceLocation>> state=<SequenceState sequence=<Literal<str> C> type=<Literal<str> SequenceState>> type=<Literal<str> Allele>>] has duplicate elements, but uniqueness required \n",
      "while setting 'members' in VariationSet\n"
     ]
    }
   ],
   "source": [
    "import python_jsonschema_objects as pjs\n",
    "try:\n",
    "    vs = models.VariationSet(members=[a1,a2,a3,a3])\n",
    "except pjs.ValidationError as e:\n",
    "    print(e)"
   ]
  },
  {
   "cell_type": "code",
   "execution_count": null,
   "metadata": {},
   "outputs": [],
   "source": []
  }
 ],
 "metadata": {
  "kernelspec": {
   "display_name": "Python 3",
   "language": "python",
   "name": "python3"
  },
  "language_info": {
   "codemirror_mode": {
    "name": "ipython",
    "version": 3
   },
   "file_extension": ".py",
   "mimetype": "text/x-python",
   "name": "python",
   "nbconvert_exporter": "python",
   "pygments_lexer": "ipython3",
   "version": "3.8.5"
  }
 },
 "nbformat": 4,
 "nbformat_minor": 2
}
