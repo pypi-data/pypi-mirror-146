{
 "cells": [
  {
   "cell_type": "markdown",
   "metadata": {},
   "source": [
    "# Haplotypes\n",
    "\n",
    "This notebook demonstrates VRS Haplotypes using ApoE alleles.\n",
    "\n",
    "The ApoE gene is associated with risks of Alzheimer's disease and hypercholesterolemia. Risk of AD is attributed to haplotypes comprised of two locations, [rs429358](https://www.ncbi.nlm.nih.gov/snp/rs429358) and [rs7412](https://www.ncbi.nlm.nih.gov/snp/rs7412), both of which are C/T transitions.  The four ApoE haplotypes are defined by the two states (C and T) at the two locations shown below. (Each location is shown with GRCh37 , GRCh38, and RefSeq transcript coordinates.) \n",
    "\n",
    "```\n",
    "                             rs7412 \n",
    "                             NC_000019.9:g.45411941\n",
    "                             NC_000019.10:g.44908822\n",
    "                             NM_000041.3:c.526\n",
    "rs429358                        C          T\n",
    "NC_000019.9:g.45412079   C   APOE-ε4    APOE-ε1\n",
    "NC_000019.10:g.44908684  T   APOE-ε3    APOE-ε2\n",
    "NM_000041.3:c.388\n",
    "```\n",
    "\n",
    "Links:\n",
    "* [NCBI APOE Gene record](https://ghr.nlm.nih.gov/gene/APOE)\n",
    "* [ClinVar APO E4 record](https://www.ncbi.nlm.nih.gov/clinvar/variation/441269/)\n",
    "* [Snpedia APOE page](http://snpedia.com/index.php/APOE)"
   ]
  },
  {
   "cell_type": "markdown",
   "metadata": {},
   "source": [
    "# Setup"
   ]
  },
  {
   "cell_type": "code",
   "execution_count": 28,
   "metadata": {},
   "outputs": [],
   "source": [
    "from ga4gh.vrs import models, vr_deref, vr_enref\n",
    "from ga4gh.core import ga4gh_identify, ga4gh_serialize, ga4gh_digest, ga4gh_deref\n",
    "\n",
    "import json\n",
    "def ppo(o, indent=2):\n",
    "    \"\"\"pretty print object as json\"\"\"\n",
    "    print(json.dumps(o.as_dict(), sort_keys=True, indent=indent))\n",
    "    \n"
   ]
  },
  {
   "cell_type": "markdown",
   "metadata": {},
   "source": [
    "## APOE Alleles\n",
    "Construct the four Alleles above on GRCh38."
   ]
  },
  {
   "cell_type": "code",
   "execution_count": 29,
   "metadata": {},
   "outputs": [],
   "source": [
    "# NC_000019.10 (GRCh38 chr 19 primary assembly) sequence id\n",
    "# The sequence id would typically be provided by a sequence repository\n",
    "sequence_id = \"ga4gh:SQ.IIB53T8CNeJJdUqzn9V_JnRtQadwWCbl\""
   ]
  },
  {
   "cell_type": "code",
   "execution_count": 30,
   "metadata": {},
   "outputs": [],
   "source": [
    "locations = {\n",
    "    \"rs429358_38\": models.SequenceLocation(\n",
    "        sequence_id = sequence_id,\n",
    "        interval = models.SequenceInterval(start=44908683, end=44908684)),\n",
    "    \"rs7412_38\": models.SequenceLocation(\n",
    "        sequence_id = sequence_id,\n",
    "        interval=models.SequenceInterval(start=44908821, end=44908822))\n",
    "}"
   ]
  },
  {
   "cell_type": "code",
   "execution_count": 31,
   "metadata": {},
   "outputs": [],
   "source": [
    "alleles = {\n",
    "    \"rs429358_38_C\": models.Allele(location=locations[\"rs429358_38\"], state=models.SequenceState(sequence=\"C\")),\n",
    "    \"rs429358_38_T\": models.Allele(location=locations[\"rs429358_38\"], state=models.SequenceState(sequence=\"T\")),\n",
    "    \"rs7412_38_C\":   models.Allele(location=locations[\"rs7412_38\"],   state=models.SequenceState(sequence=\"C\")),\n",
    "    \"rs7412_38_T\":   models.Allele(location=locations[\"rs7412_38\"],   state=models.SequenceState(sequence=\"T\")),\n",
    "}"
   ]
  },
  {
   "cell_type": "code",
   "execution_count": 32,
   "metadata": {},
   "outputs": [],
   "source": [
    "haplotypes = {\n",
    "    \"APOE-ε1\": models.Haplotype(members=[alleles[\"rs429358_38_C\"], alleles[\"rs7412_38_T\"]]),\n",
    "    \"APOE-ε2\": models.Haplotype(members=[alleles[\"rs429358_38_T\"], alleles[\"rs7412_38_T\"]]),\n",
    "    \"APOE-ε3\": models.Haplotype(members=[alleles[\"rs429358_38_T\"], alleles[\"rs7412_38_C\"]]),\n",
    "    \"APOE-ε4\": models.Haplotype(members=[alleles[\"rs429358_38_C\"], alleles[\"rs7412_38_C\"]]),\n",
    "}"
   ]
  },
  {
   "cell_type": "code",
   "execution_count": 33,
   "metadata": {
    "scrolled": true
   },
   "outputs": [
    {
     "name": "stdout",
     "output_type": "stream",
     "text": [
      "{\n",
      "  \"members\": [\n",
      "    {\n",
      "      \"location\": {\n",
      "        \"interval\": {\n",
      "          \"end\": 44908684,\n",
      "          \"start\": 44908683,\n",
      "          \"type\": \"SimpleInterval\"\n",
      "        },\n",
      "        \"sequence_id\": \"ga4gh:SQ.IIB53T8CNeJJdUqzn9V_JnRtQadwWCbl\",\n",
      "        \"type\": \"SequenceLocation\"\n",
      "      },\n",
      "      \"state\": {\n",
      "        \"sequence\": \"C\",\n",
      "        \"type\": \"SequenceState\"\n",
      "      },\n",
      "      \"type\": \"Allele\"\n",
      "    },\n",
      "    {\n",
      "      \"location\": {\n",
      "        \"interval\": {\n",
      "          \"end\": 44908822,\n",
      "          \"start\": 44908821,\n",
      "          \"type\": \"SimpleInterval\"\n",
      "        },\n",
      "        \"sequence_id\": \"ga4gh:SQ.IIB53T8CNeJJdUqzn9V_JnRtQadwWCbl\",\n",
      "        \"type\": \"SequenceLocation\"\n",
      "      },\n",
      "      \"state\": {\n",
      "        \"sequence\": \"T\",\n",
      "        \"type\": \"SequenceState\"\n",
      "      },\n",
      "      \"type\": \"Allele\"\n",
      "    }\n",
      "  ],\n",
      "  \"type\": \"Haplotype\"\n",
      "}\n"
     ]
    }
   ],
   "source": [
    "ppo(haplotypes[\"APOE-ε1\"])"
   ]
  },
  {
   "cell_type": "code",
   "execution_count": 34,
   "metadata": {},
   "outputs": [
    {
     "data": {
      "text/plain": [
       "'ga4gh:VH.aLDdUhRu-UcFo9HNeTg1SkYsiCmwqNvC'"
      ]
     },
     "execution_count": 34,
     "metadata": {},
     "output_type": "execute_result"
    }
   ],
   "source": [
    "# Generated a computed identifier for the Haplotype\n",
    "ga4gh_identify(haplotypes[\"APOE-ε1\"])"
   ]
  },
  {
   "cell_type": "code",
   "execution_count": 41,
   "metadata": {},
   "outputs": [
    {
     "name": "stdout",
     "output_type": "stream",
     "text": [
      "ga4gh:VH.NAVnEuaP9gf41OxnPM56XxWQfdFNcUxJ\n",
      "ga4gh:VH.aLDdUhRu-UcFo9HNeTg1SkYsiCmwqNvC\n"
     ]
    }
   ],
   "source": [
    "# The order of haplotype members does not change GA4GH Computed Identifier\n",
    "apoe1_alleles = (alleles[\"rs7412_38_T\"], alleles[\"rs429358_38_C\"])\n",
    "\n",
    "#note: this should be the same, but currently is not?\n",
    "print(ga4gh_identify(models.Haplotype(members=apoe1_alleles)))\n",
    "print(ga4gh_identify(models.Haplotype(members=tuple(reversed(apoe1_alleles)))))\n",
    "# assert (ga4gh_identify(models.Haplotype(members=apoe1_alleles)) ==\n",
    "#        ga4gh_identify(models.Haplotype(members=tuple(reversed(apoe1_alleles)))))"
   ]
  },
  {
   "cell_type": "code",
   "execution_count": 42,
   "metadata": {},
   "outputs": [
    {
     "name": "stdout",
     "output_type": "stream",
     "text": [
      "{\n",
      "  \"members\": [\n",
      "    \"ga4gh:VA.iXjilHZiyCEoD3wVMPMXG3B8BtYfL88H\",\n",
      "    \"ga4gh:VA.EgHPXXhULTwoP4-ACfs-YCXaeUQJBjH_\"\n",
      "  ],\n",
      "  \"type\": \"Haplotype\"\n",
      "}\n"
     ]
    }
   ],
   "source": [
    "# Haplotype members may be referenced (rather than inline) for more concise representations\n",
    "apoe1_haplotype_ref = vr_enref(haplotypes[\"APOE-ε1\"])\n",
    "ppo(apoe1_haplotype_ref)"
   ]
  },
  {
   "cell_type": "code",
   "execution_count": null,
   "metadata": {},
   "outputs": [],
   "source": []
  }
 ],
 "metadata": {
  "kernelspec": {
   "display_name": "Python 3",
   "language": "python",
   "name": "python3"
  },
  "language_info": {
   "codemirror_mode": {
    "name": "ipython",
    "version": 3
   },
   "file_extension": ".py",
   "mimetype": "text/x-python",
   "name": "python",
   "nbconvert_exporter": "python",
   "pygments_lexer": "ipython3",
   "version": "3.8.5"
  }
 },
 "nbformat": 4,
 "nbformat_minor": 2
}
