{
 "cells": [
  {
   "cell_type": "code",
   "execution_count": 1,
   "metadata": {},
   "outputs": [],
   "source": [
    "%load_ext autoreload\n",
    "%autoreload 2"
   ]
  },
  {
   "cell_type": "code",
   "execution_count": 2,
   "metadata": {},
   "outputs": [
    {
     "name": "stdout",
     "output_type": "stream",
     "text": [
      "don't have phil's colormaps\n"
     ]
    }
   ],
   "source": [
    "import numpy as np\n",
    "import os\n",
    "\n",
    "import sys\n",
    "sys.path.insert(0, '/Users/ageller/VISUALIZATIONS/Firefly')\n",
    "sys.path.insert(0,'/Users/agurvich/research/repos/firefly/src')\n",
    "from firefly.data_reader import FIREreader,SimpleFIREreader,TweenParams\n",
    "from abg_python.galaxy.gal_utils import Galaxy"
   ]
  },
  {
   "cell_type": "markdown",
   "metadata": {},
   "source": [
    "# Convert FIRE data\n",
    "In this example notebook we demonstrate how to use the `firefly.data_reader.FIREreader` sub-class which creates specialized data files for FIRE formatted data. The details of how the `FIREreader` class is \"specialized\" see the <a href=\"https://ageller.github.io/Firefly/docs/build/html/reference/api/api.html\">API documentation</a> and to see the example of this output visit <a href=\"https://ageller.github.io/firefly/src/firefly/index.html\">the live demo version</a>."
   ]
  },
  {
   "cell_type": "code",
   "execution_count": 3,
   "metadata": {},
   "outputs": [
    {
     "name": "stdout",
     "output_type": "stream",
     "text": [
      "Couldn't find a metadata file... for\n",
      " Metadata object at /Users/agurvich/scratch/data/metal_diffusion/m12b_res57000/metadata/meta_Galaxy_600.hdf5\n",
      "Tracing the rockstar halo files with fancy:True and None Gyr smoothing.\n",
      "No rstar 1/2 in halo or metadata files, we will need to calculate it ourselves.\n",
      "Loading star particles of m12b_res57000 at 600 at /Users/agurvich/snaps/metal_diffusion/m12b_res57000/output\n",
      "Failed to open saved sub-snapshots AssertionError('Told not to use saved sub-snapshots')\n",
      "Loading gas particles of m12b_res57000 at 600 at /Users/agurvich/snaps/metal_diffusion/m12b_res57000/output\n",
      "Loading dark matter particles of m12b_res57000 at 600 at /Users/agurvich/snaps/metal_diffusion/m12b_res57000/output\n",
      "Reorienting...\n",
      "Done.\n",
      "extract_halo_inner(m12b_res57000 at 600,){'orient_stars': True, 'use_saved_subsnapshots': False} 11.34 s elapsed\n",
      "Snapshot memory free\n"
     ]
    },
    {
     "data": {
      "text/plain": [
       "(12.27201256901771,\n",
       " True,\n",
       " 13.610546783496492,\n",
       " -23.753615253930974,\n",
       " 331.60968,\n",
       " 2.454402513803542,\n",
       " 140.56429531755958)"
      ]
     },
     "execution_count": 3,
     "metadata": {},
     "output_type": "execute_result"
    }
   ],
   "source": [
    "galaxy = Galaxy('m12b_res57000',600)\n",
    "galaxy.extractMainHalo(use_saved_subsnapshots=False)"
   ]
  },
  {
   "cell_type": "code",
   "execution_count": 6,
   "metadata": {},
   "outputs": [],
   "source": [
    "thetas = np.linspace(0,360,1000)/180*np.pi\n",
    "coords = np.zeros((thetas.size,3))\n",
    "coords[:,0] = 0\n",
    "coords[:,1] = np.cos(thetas)\n",
    "coords[:,2] = np.sin(thetas)\n",
    "coords*=150\n",
    "my_tweenParams = TweenParams(coords,30) ## dt = 3000 ms between frames"
   ]
  },
  {
   "cell_type": "code",
   "execution_count": 12,
   "metadata": {},
   "outputs": [
    {
     "name": "stdout",
     "output_type": "stream",
     "text": [
      "Loading ptype 2\n",
      "Loading ptype 1\n",
      "Loading ptype 4\n",
      "Loading ptype 0\n"
     ]
    },
    {
     "data": {
      "text/plain": [
       "array([Gas - 622573/6225729 particles - 4 tracked fields,\n",
       "       Stars - 326473/3264723 particles - 3 tracked fields,\n",
       "       HRDM - 932304/9323040 particles - 2 tracked fields,\n",
       "       LRDM - 304227/3042265 particles - 2 tracked fields], dtype=object)"
      ]
     },
     "execution_count": 12,
     "metadata": {},
     "output_type": "execute_result"
    }
   ],
   "source": [
    "## create a FIRE reader object\n",
    "reader = FIREreader(\n",
    "    ## path to directory containing (optionally multiple) .hdf5 files\n",
    "    snapdir = \"/Users/agurvich/research/snaps/metal_diffusion/m12b_res57000/output/\",\n",
    "    ## the snapshot number, best to provide separately in order to disambiguate\n",
    "    snapnum = 600,\n",
    "    ## particle types one would like to extract from .hdf5 files\n",
    "    ptypes=[0,4,1,2],\n",
    "    ## what to call them in the UI\n",
    "    UInames=['Gas','Stars','HRDM','LRDM'],\n",
    "    ## by what factor would we like to reduce the data for performance stability and disk space concerns\n",
    "    decimation_factors=[10,10,10,10],\n",
    "    ## what fields would we like to extract\n",
    "    fields=['Density','Temperature','AgeGyr','GCRadius'],\n",
    "    ## do we want to take the magnitude of any of these fields?\n",
    "    ## do we want to take the log? \n",
    "    logFlags=[True,True,False,False],\n",
    "    ## which fields do we want to be able to filter on?\n",
    "    filterFlags=[True,True,True,True],\n",
    "    ## which fields do we want to be able to colormap by?\n",
    "    colormapFlags=[True,True,True,True],\n",
    "    radiusFlags=[False,True,True,False],\n",
    "    ## where should the output .json files be saved to? \n",
    "    ##  if a relative path is given, like here, saves to $HOME/<JSONdir>\n",
    "    ##  and creates a soft-link to firefly/static/data\n",
    "    JSONdir=os.path.abspath(os.path.join(os.getcwd(),'..','static','data','FIRESampleData')),\n",
    "    ## overwrite the existing startup.json file\n",
    "    write_startup=True,\n",
    "    tweenParams=my_tweenParams)\n",
    "\n",
    "## fetch data from .hdf5 files\n",
    "reader.loadData(com=galaxy.scom,vcom=galaxy.sub_snap['vscom'])"
   ]
  },
  {
   "cell_type": "code",
   "execution_count": 13,
   "metadata": {},
   "outputs": [],
   "source": [
    "## set the color and size of the gas and star particles\n",
    "##  to be aesthetically pleasing\n",
    "camera = np.array([251,-117,82])\n",
    "camera = camera/np.linalg.norm(camera)*250\n",
    "\n",
    "reader.settings['color']['Gas']=[1,0,0,1]\n",
    "reader.settings['color']['Stars']=[0,0,1,1]\n",
    "reader.settings['color']['HRDM'] = [0.5,0,0.5,1]\n",
    "reader.settings['color']['LRDM'] = [0.5,0,0.5,1]\n",
    "reader.settings['sizeMult']['Gas']=0.1\n",
    "reader.settings['sizeMult']['Stars']=0.1\n",
    "reader.settings['sizeMult']['HRDM']=0.1\n",
    "reader.settings['sizeMult']['LRDM']=0.1\n",
    "reader.settings['camera'] = camera"
   ]
  },
  {
   "cell_type": "code",
   "execution_count": 14,
   "metadata": {},
   "outputs": [],
   "source": [
    "reader.settings['showColormap']['Gas'] = True\n",
    "reader.settings['colormapVariable']['Gas'] = 3\n",
    "reader.settings['radiusVariable']['Gas'] = 1\n",
    "reader.settings['colormapLims']['Gas']['Velocity'] = [50,500]\n",
    "reader.settings['colormapVals']['Gas']['Velocity'] = [50,500]\n",
    "reader.settings['showVel']['Gas'] = True\n",
    "reader.settings['velType']['Gas'] = 'arrow'\n",
    "reader.settings['sizeMult']['Gas']=0.25\n",
    "reader.settings['color']['Stars'] = [1,1,1,0.025]"
   ]
  },
  {
   "cell_type": "code",
   "execution_count": 15,
   "metadata": {},
   "outputs": [],
   "source": [
    "reader.settings['sizeMult']['HRDM']=1\n",
    "reader.settings['sizeMult']['LRDM']=1\n",
    "reader.settings['filterVals']['HRDM']['GCRadius'] = [300,5000]\n",
    "reader.settings['filterLims']['HRDM']['GCRadius'] = [0,5000]\n",
    "#reader.dumpSettingsToJSON()"
   ]
  },
  {
   "cell_type": "code",
   "execution_count": 16,
   "metadata": {},
   "outputs": [
    {
     "data": {
      "text/plain": [
       "''"
      ]
     },
     "execution_count": 16,
     "metadata": {},
     "output_type": "execute_result"
    }
   ],
   "source": [
    "## dump output to .ffly files\n",
    "reader.writeToDisk()"
   ]
  },
  {
   "cell_type": "markdown",
   "metadata": {},
   "source": [
    "## Using `firefly.data_reader.SimpleFIREreader`\n",
    "To simplify this process we have provided `firefly.data_reader.SimpleFIREreader` which takes a path to a FIRE snapshot and creates a \"standard\" iteration of Firefly given only a path to the data."
   ]
  },
  {
   "cell_type": "code",
   "execution_count": 4,
   "metadata": {},
   "outputs": [
    {
     "name": "stdout",
     "output_type": "stream",
     "text": [
      "Loading ptype 4\n",
      "/Users/agurvich/research/snaps/isolated_disks/Control_G4_20/snapdir_050/snapshot_050.hdf5\n",
      "Loading ptype 0\n",
      "/Users/agurvich/research/snaps/isolated_disks/Control_G4_20/snapdir_050/snapshot_050.hdf5\n",
      "Outputting: Gas - 106666/1066668 particles - 3 tracked fields\n",
      "Outputting: Stars - 51411/514118 particles - 3 tracked fields\n"
     ]
    }
   ],
   "source": [
    "reader = SimpleFIREreader(\n",
    "    ## path to directory containing (optionally multiple) .hdf5 files\n",
    "    \"/Users/agurvich/research/snaps/isolated_disks/Control_G4_20/snapdir_050/\",\n",
    "    ## overwrite the existing startup.json file\n",
    "    write_startup=True, \n",
    "    ## pass absolute path to avoid symlink\n",
    "    JSONdir=os.path.abspath(os.path.join(os.getcwd(),'..','static','data','FIREData_50')))"
   ]
  }
 ],
 "metadata": {
  "anaconda-cloud": {},
  "kernelspec": {
   "display_name": "Python 3 (ipykernel)",
   "language": "python",
   "name": "python3"
  },
  "language_info": {
   "codemirror_mode": {
    "name": "ipython",
    "version": 3
   },
   "file_extension": ".py",
   "mimetype": "text/x-python",
   "name": "python",
   "nbconvert_exporter": "python",
   "pygments_lexer": "ipython3",
   "version": "3.9.7"
  }
 },
 "nbformat": 4,
 "nbformat_minor": 4
}
