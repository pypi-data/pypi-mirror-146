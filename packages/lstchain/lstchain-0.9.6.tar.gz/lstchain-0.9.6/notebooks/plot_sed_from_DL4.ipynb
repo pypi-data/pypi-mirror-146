{
 "cells": [
  {
   "cell_type": "markdown",
   "id": "0a7d9ae2",
   "metadata": {},
   "source": [
    "# This example notebook, uses the provided OGIP files, to plot the Spectral Energy Distribution and Differential Spectrum"
   ]
  },
  {
   "cell_type": "markdown",
   "id": "da5d550e",
   "metadata": {},
   "source": [
    "One can follow the tutorial from gammapy here https://docs.gammapy.org/0.19/tutorials/analysis/1D/spectral_analysis.html\n",
    "\n",
    "# This notebook follows the following steps:\n",
    "## 1. Get the dataset from OGIP files\n",
    "## 2. Get the reference energy for a Log Parabola model Fit\n",
    "## 3. Perform Modeling and Fitting and check some statistics\n",
    "## 4. Plot the various plots\n",
    "## 5. Save Flux Points Dataset and Models to separate files"
   ]
  },
  {
   "cell_type": "code",
   "execution_count": 1,
   "id": "eb96ec6a",
   "metadata": {},
   "outputs": [],
   "source": [
    "%matplotlib inline\n",
    "import matplotlib.pyplot as plt\n",
    "from matplotlib.gridspec import GridSpec\n",
    "\n",
    "import pickle\n",
    "from pathlib import Path\n",
    "\n",
    "import astropy.units as u\n",
    "from astropy.time import Time\n",
    "from astropy.io import fits\n",
    "from astropy.table import Table\n",
    "import numpy as np\n",
    "\n",
    "from gammapy.maps import MapAxis\n",
    "from gammapy.modeling import Fit\n",
    "from gammapy.modeling.models import (\n",
    "    PowerLawSpectralModel,\n",
    "    LogParabolaSpectralModel,\n",
    "    create_crab_spectral_model,\n",
    "    SkyModel,\n",
    ")\n",
    "from gammapy.datasets import Datasets, SpectrumDatasetOnOff, FluxPointsDataset\n",
    "\n",
    "from gammapy.estimators import FluxPointsEstimator"
   ]
  },
  {
   "cell_type": "markdown",
   "id": "c99ae67a",
   "metadata": {},
   "source": [
    "# 1. Get the OGIP files and make some selections if need be"
   ]
  },
  {
   "cell_type": "code",
   "execution_count": 2,
   "id": "9dec3c7e",
   "metadata": {},
   "outputs": [],
   "source": [
    "base_dir = \"/fefs/aswg/workspace/analysis-school-2022/DL3/\"\n",
    "dir_path = \"Crab_src_indep/\"\n",
    "\n",
    "ogip_path = Path(base_dir+dir_path+\"OGIP/\")\n",
    "\n",
    "# Create the Paths if they do not exist already\n",
    "ogip_path.mkdir(exist_ok=True)"
   ]
  },
  {
   "cell_type": "code",
   "execution_count": 3,
   "id": "309b8ff2",
   "metadata": {},
   "outputs": [],
   "source": [
    "# read all obs ids of the pha files in the given directory\n",
    "obs_ids = []\n",
    "pha_files = list(ogip_path.glob(\"obs_*_arf.fits.gz\"))\n",
    "    \n",
    "for p in pha_files:\n",
    "    run = int(p.name[4:8])\n",
    "    obs_ids.append(run)\n",
    "obs_ids = np.sort(np.array(obs_ids))"
   ]
  },
  {
   "cell_type": "code",
   "execution_count": 4,
   "id": "6e33e77a",
   "metadata": {
    "scrolled": true
   },
   "outputs": [],
   "source": [
    "# Generate the Datasets object back from the OGIP files\n",
    "datasets = Datasets()\n",
    "for obs in obs_ids:\n",
    "    file = ogip_path / f\"obs_{obs}.fits.gz\"\n",
    "    datasets.append(SpectrumDatasetOnOff.read(file))"
   ]
  },
  {
   "cell_type": "markdown",
   "id": "9d07c064",
   "metadata": {},
   "source": [
    "# 2. Get some parameters to use from the datasets"
   ]
  },
  {
   "cell_type": "code",
   "execution_count": 5,
   "id": "46f07c6a",
   "metadata": {},
   "outputs": [
    {
     "name": "stdout",
     "output_type": "stream",
     "text": [
      "[2967 2968 2969 2970 2971 2972 2973 2974 2975 2976 2977]\n"
     ]
    }
   ],
   "source": [
    "obj_name = []\n",
    "\n",
    "for obs in obs_ids:\n",
    "    file = ogip_path / f\"obs_{obs}.fits.gz\"\n",
    "    r = Table.read(file, hdu=\"REGION\").meta\n",
    "    \n",
    "    obj_name.append(r[\"OBJECT\"])\n",
    "print(obs_ids)\n",
    "\n",
    "obj_name = np.unique(np.array(obj_name))[0]"
   ]
  },
  {
   "cell_type": "code",
   "execution_count": 6,
   "id": "f97ccd79",
   "metadata": {},
   "outputs": [],
   "source": [
    "e_reco_edges = datasets[0].counts.geom.axes[\"energy\"].edges"
   ]
  },
  {
   "cell_type": "code",
   "execution_count": 7,
   "id": "4ef84ba0",
   "metadata": {},
   "outputs": [],
   "source": [
    "# Energy range for spectral fitting the dataset.\n",
    "# One can play with different energy bins to check the different spectral fits\n",
    "e_fit_min = 0.01\n",
    "e_fit_max = 40\n",
    "\n",
    "# Using bins per decade\n",
    "e_fit_bin_p_dec = 5\n",
    "\n",
    "energy_fit_edges = MapAxis.from_energy_bounds(\n",
    "    e_fit_min, e_fit_max, \n",
    "    nbin=e_fit_bin_p_dec, per_decade=True, \n",
    "    unit=\"TeV\"\n",
    ").edges\n"
   ]
  },
  {
   "cell_type": "markdown",
   "id": "910069e1",
   "metadata": {},
   "source": [
    "# 3. Get Pivot energy to fix the reference energy and define the Spectrum Model"
   ]
  },
  {
   "cell_type": "code",
   "execution_count": 8,
   "id": "b895404f",
   "metadata": {},
   "outputs": [],
   "source": [
    "# Find pivot (decorrelation) energy for a Power Law model to get the reference energy for Log Parabola model\n",
    "def get_pivot_energy(datasets, e_ref, e_edges, obj_name):\n",
    "    \"\"\"\n",
    "    Using Power Law spectral model with the given reference energy and \n",
    "    get the decorrelation energy of the fit, within the fit energy range, e_edges\n",
    "    \"\"\"\n",
    "    spectral_model = PowerLawSpectralModel(\n",
    "        index=2, amplitude=2e-11 * u.Unit(\"cm-2 s-1 TeV-1\"), reference=e_ref\n",
    "    )\n",
    "    model = SkyModel(spectral_model=spectral_model, name=obj_name)\n",
    "    model_check = model.copy()\n",
    "\n",
    "    # Stacked dataset method\n",
    "    stacked_dataset = Datasets(datasets).stack_reduce()\n",
    "    stacked_dataset.models = model_check\n",
    "\n",
    "    fit_stacked = Fit()\n",
    "    result_stacked = fit_stacked.run(datasets=stacked_dataset)\n",
    "\n",
    "    return model_check.spectral_model.pivot_energy\n"
   ]
  },
  {
   "cell_type": "code",
   "execution_count": 9,
   "id": "ce38a20b",
   "metadata": {},
   "outputs": [
    {
     "name": "stdout",
     "output_type": "stream",
     "text": [
      "475.79579463258864\n"
     ]
    }
   ],
   "source": [
    "# Using a reference energy close to the expected decorrelation energy\n",
    "ref = get_pivot_energy(datasets, 0.4 * u.TeV, e_reco_edges, obj_name)\n",
    "print(ref.to_value(u.GeV))"
   ]
  },
  {
   "cell_type": "code",
   "execution_count": 10,
   "id": "28fc178f",
   "metadata": {},
   "outputs": [],
   "source": [
    "# Final spectral model of Log Parabola, to be used for estimating the LC.\n",
    "# One can try different Spectral Models as well.\n",
    "# Be careful in the choice of Spectral Model being used for the 2 examples presented here\n",
    "\n",
    "# Crab\n",
    "spectral_model_lp = LogParabolaSpectralModel(\n",
    "        amplitude = 5e-12 * u.Unit('cm-2 s-1 TeV-1'),\n",
    "        reference = ref,\n",
    "        alpha = 2 * u.Unit(''),\n",
    "        beta = 0.1 * u.Unit('')\n",
    ")\n",
    "model_lp = SkyModel(spectral_model=spectral_model_lp, name=obj_name)\n"
   ]
  },
  {
   "cell_type": "code",
   "execution_count": 11,
   "id": "ba7b1e05",
   "metadata": {},
   "outputs": [
    {
     "data": {
      "text/plain": [
       "[{'name': 'amplitude', 'value': 5e-12, 'unit': 'cm-2 s-1 TeV-1'},\n",
       " {'name': 'reference',\n",
       "  'value': 0.47579579463258864,\n",
       "  'unit': 'TeV',\n",
       "  'frozen': True},\n",
       " {'name': 'alpha', 'value': 2.0},\n",
       " {'name': 'beta', 'value': 0.1}]"
      ]
     },
     "execution_count": 11,
     "metadata": {},
     "output_type": "execute_result"
    }
   ],
   "source": [
    "# Use the appropriate models, as per the selection of the source/dataset\n",
    "params=model_lp.to_dict()['spectral']['parameters']\n",
    "params"
   ]
  },
  {
   "cell_type": "markdown",
   "id": "17f61c2c",
   "metadata": {},
   "source": [
    "# 4. Spectral Fitting\n",
    "One can check for a more comprehensive tutorial on Modelling and Fitting, here are the gammapy tutorials -\n",
    "* https://docs.gammapy.org/0.19/tutorials/api/fitting.html\n",
    "* https://docs.gammapy.org/0.19/tutorials/api/model_management.html"
   ]
  },
  {
   "cell_type": "code",
   "execution_count": 12,
   "id": "3fa1a454",
   "metadata": {
    "scrolled": true
   },
   "outputs": [],
   "source": [
    "# Using stacked analysis method, where we stack together all Datasets into 1 Dataset and add the model afterwards\n",
    "stacked_dataset = Datasets(datasets).stack_reduce()\n",
    "stacked_dataset.models = model_lp"
   ]
  },
  {
   "cell_type": "code",
   "execution_count": 13,
   "id": "006acdb4",
   "metadata": {},
   "outputs": [],
   "source": [
    "# Fitting the model to the dataset\n",
    "fit = Fit()\n",
    "result = fit.run(datasets=stacked_dataset)\n",
    "model_best = model_lp.copy() # creating a copy of the model, to avoid overwriting of the original object"
   ]
  },
  {
   "cell_type": "code",
   "execution_count": 14,
   "id": "260c1998",
   "metadata": {},
   "outputs": [],
   "source": [
    "# Compute the Flux Points after Fitting the model\n",
    "# We do not do too many optimizations here. \n",
    "# If one wants, can try and check the various attributes of the Estimator\n",
    "fpe = FluxPointsEstimator(\n",
    "    energy_edges=energy_fit_edges, \n",
    "    reoptimize = False, # Re-optimizing other free model parameters (not belonging to the source)\n",
    "    source=obj_name,\n",
    "    selection_optional=\"all\" # Estimates asymmetric errors, upper limits and fit statistic profiles\n",
    ")\n",
    "flux_points = fpe.run(datasets=stacked_dataset)\n",
    "\n",
    "flux_points_dataset = FluxPointsDataset(\n",
    "    data=flux_points, models=model_best\n",
    ")"
   ]
  },
  {
   "cell_type": "code",
   "execution_count": 15,
   "id": "dfdce50a",
   "metadata": {},
   "outputs": [
    {
     "data": {
      "text/plain": [
       "OptimizeResult\n",
       "\n",
       "\tbackend    : minuit\n",
       "\tmethod     : migrad\n",
       "\tsuccess    : True\n",
       "\tmessage    : Optimization terminated successfully.\n",
       "\tnfev       : 213\n",
       "\ttotal stat : 7.79\n",
       "\n",
       "OptimizeResult\n",
       "\n",
       "\tbackend    : minuit\n",
       "\tmethod     : migrad\n",
       "\tsuccess    : True\n",
       "\tmessage    : Optimization terminated successfully.\n",
       "\tnfev       : 213\n",
       "\ttotal stat : 7.79\n"
      ]
     },
     "execution_count": 15,
     "metadata": {},
     "output_type": "execute_result"
    }
   ],
   "source": [
    "result\n",
    "# Gammapy bug, which will be fixed in the next release"
   ]
  },
  {
   "cell_type": "code",
   "execution_count": 16,
   "id": "810aa480",
   "metadata": {},
   "outputs": [
    {
     "data": {
      "text/plain": [
       "[{'name': 'amplitude',\n",
       "  'value': 1.7518325507674288e-10,\n",
       "  'unit': 'cm-2 s-1 TeV-1',\n",
       "  'error': 4.949293274342747e-12},\n",
       " {'name': 'reference',\n",
       "  'value': 0.47579579463258864,\n",
       "  'unit': 'TeV',\n",
       "  'frozen': True},\n",
       " {'name': 'alpha', 'value': 2.325421008380945, 'error': 0.026755115362972065},\n",
       " {'name': 'beta', 'value': 0.06972637228927822, 'error': 0.017179151944931963}]"
      ]
     },
     "execution_count": 16,
     "metadata": {},
     "output_type": "execute_result"
    }
   ],
   "source": [
    "model_best.to_dict()['spectral']['parameters']"
   ]
  },
  {
   "cell_type": "code",
   "execution_count": 17,
   "id": "85793b31",
   "metadata": {},
   "outputs": [
    {
     "name": "stdout",
     "output_type": "stream",
     "text": [
      "FluxPoints\n",
      "----------\n",
      "\n",
      "  geom                   : RegionGeom\n",
      "  axes                   : ['lon', 'lat', 'energy']\n",
      "  shape                  : (1, 1, 19)\n",
      "  quantities             : ['norm', 'norm_err', 'norm_errn', 'norm_errp', 'norm_ul', 'ts', 'npred', 'npred_excess', 'stat', 'counts', 'success', 'stat_scan']\n",
      "  ref. model             : lp\n",
      "  n_sigma                : 1\n",
      "  n_sigma_ul             : 2\n",
      "  sqrt_ts_threshold_ul   : 2\n",
      "  sed type init          : likelihood\n",
      "\n"
     ]
    }
   ],
   "source": [
    "print(flux_points)"
   ]
  },
  {
   "cell_type": "markdown",
   "id": "a158e5a7",
   "metadata": {},
   "source": [
    "# 5. Check some features of the Flux points"
   ]
  },
  {
   "cell_type": "code",
   "execution_count": 18,
   "id": "b0da937f",
   "metadata": {},
   "outputs": [
    {
     "data": {
      "text/html": [
       "<div><i>Table length=19</i>\n",
       "<table id=\"table140120184697520\" class=\"table-striped table-bordered table-condensed\">\n",
       "<thead><tr><th>e_ref</th><th>e_min</th><th>e_max</th><th>e2dnde</th><th>e2dnde_err</th><th>e2dnde_errp</th><th>e2dnde_errn</th><th>e2dnde_ul</th><th>ts</th><th>sqrt_ts</th><th>npred [1]</th><th>npred_excess [1]</th><th>stat</th><th>is_ul</th><th>counts [1]</th><th>success</th><th>norm_scan [11]</th><th>stat_scan [11]</th></tr></thead>\n",
       "<thead><tr><th>TeV</th><th>TeV</th><th>TeV</th><th>TeV / (cm2 s)</th><th>TeV / (cm2 s)</th><th>TeV / (cm2 s)</th><th>TeV / (cm2 s)</th><th>TeV / (cm2 s)</th><th></th><th></th><th></th><th></th><th></th><th></th><th></th><th></th><th></th><th></th></tr></thead>\n",
       "<thead><tr><th>float64</th><th>float64</th><th>float64</th><th>float64</th><th>float64</th><th>float64</th><th>float64</th><th>float64</th><th>float64</th><th>float64</th><th>float64</th><th>float32</th><th>float64</th><th>bool</th><th>float64</th><th>bool</th><th>float64</th><th>float64</th></tr></thead>\n",
       "<tr><td>0.012</td><td>0.010</td><td>0.015</td><td>nan</td><td>nan</td><td>nan</td><td>nan</td><td>nan</td><td>nan</td><td>nan</td><td>nan</td><td>0.0</td><td>0.000</td><td>False</td><td>0.0</td><td>False</td><td>0.200 .. 5.000</td><td>nan .. nan</td></tr>\n",
       "<tr><td>0.019</td><td>0.015</td><td>0.024</td><td>nan</td><td>nan</td><td>nan</td><td>nan</td><td>nan</td><td>nan</td><td>nan</td><td>nan</td><td>0.0</td><td>0.000</td><td>False</td><td>0.0</td><td>False</td><td>0.200 .. 5.000</td><td>nan .. nan</td></tr>\n",
       "<tr><td>0.030</td><td>0.024</td><td>0.037</td><td>nan</td><td>nan</td><td>nan</td><td>nan</td><td>nan</td><td>nan</td><td>nan</td><td>nan</td><td>0.0</td><td>0.000</td><td>False</td><td>0.0</td><td>False</td><td>0.200 .. 5.000</td><td>nan .. nan</td></tr>\n",
       "<tr><td>0.046</td><td>0.037</td><td>0.057</td><td>nan</td><td>nan</td><td>nan</td><td>nan</td><td>nan</td><td>nan</td><td>nan</td><td>nan</td><td>0.0</td><td>0.000</td><td>False</td><td>0.0</td><td>False</td><td>0.200 .. 5.000</td><td>nan .. nan</td></tr>\n",
       "<tr><td>0.071</td><td>0.057</td><td>0.089</td><td>nan</td><td>nan</td><td>nan</td><td>nan</td><td>nan</td><td>nan</td><td>nan</td><td>nan</td><td>0.0</td><td>0.000</td><td>False</td><td>0.0</td><td>False</td><td>0.200 .. 5.000</td><td>nan .. nan</td></tr>\n",
       "<tr><td>0.110</td><td>0.089</td><td>0.137</td><td>5.594e-11</td><td>5.905e-12</td><td>5.905e-12</td><td>5.904e-12</td><td>6.775e-11</td><td>89.796</td><td>9.476</td><td>17163.999288541745</td><td>1710.9987</td><td>0.000</td><td>False</td><td>17164.0</td><td>True</td><td>0.200 .. 5.000</td><td>57.972 .. 1338.711</td></tr>\n",
       "<tr><td>0.171</td><td>0.137</td><td>0.212</td><td>4.938e-11</td><td>3.376e-12</td><td>3.377e-12</td><td>3.375e-12</td><td>5.614e-11</td><td>214.481</td><td>14.645</td><td>7562.9710690414995</td><td>1694.9486</td><td>0.000</td><td>False</td><td>7563.0</td><td>True</td><td>0.200 .. 5.000</td><td>134.508 .. 3293.537</td></tr>\n",
       "<tr><td>0.264</td><td>0.212</td><td>0.329</td><td>4.749e-11</td><td>2.554e-12</td><td>2.556e-12</td><td>2.552e-12</td><td>5.261e-11</td><td>348.671</td><td>18.673</td><td>4293.992538043787</td><td>1558.9878</td><td>0.000</td><td>False</td><td>4294.0</td><td>True</td><td>0.200 .. 5.000</td><td>225.101 .. 4004.811</td></tr>\n",
       "<tr><td>0.409</td><td>0.329</td><td>0.508</td><td>4.234e-11</td><td>2.175e-12</td><td>2.179e-12</td><td>2.171e-12</td><td>4.671e-11</td><td>386.098</td><td>19.649</td><td>2333.9756658134047</td><td>1153.9634</td><td>0.000</td><td>False</td><td>2334.0</td><td>True</td><td>0.200 .. 5.000</td><td>250.563 .. 3655.688</td></tr>\n",
       "<tr><td>0.632</td><td>0.508</td><td>0.787</td><td>3.650e-11</td><td>2.012e-12</td><td>2.019e-12</td><td>2.005e-12</td><td>4.056e-11</td><td>340.280</td><td>18.447</td><td>1251.9769118099462</td><td>757.9678</td><td>0.000</td><td>False</td><td>1252.0</td><td>True</td><td>0.200 .. 5.000</td><td>221.519 .. 2736.435</td></tr>\n",
       "<tr><td>0.979</td><td>0.787</td><td>1.217</td><td>2.975e-11</td><td>1.953e-12</td><td>1.965e-12</td><td>1.941e-12</td><td>3.371e-11</td><td>244.400</td><td>15.633</td><td>629.9730337442801</td><td>436.96478</td><td>0.000</td><td>False</td><td>630.0</td><td>True</td><td>0.200 .. 5.000</td><td>157.460 .. 1805.261</td></tr>\n",
       "<tr><td>1.514</td><td>1.217</td><td>1.884</td><td>2.375e-11</td><td>1.939e-12</td><td>1.959e-12</td><td>1.921e-12</td><td>2.771e-11</td><td>160.839</td><td>12.682</td><td>329.0023738807067</td><td>248.00296</td><td>0.000</td><td>False</td><td>329.0</td><td>True</td><td>0.200 .. 5.000</td><td>102.813 .. 1119.541</td></tr>\n",
       "<tr><td>2.343</td><td>1.884</td><td>2.915</td><td>2.142e-11</td><td>2.035e-12</td><td>2.069e-12</td><td>2.003e-12</td><td>2.563e-11</td><td>123.197</td><td>11.099</td><td>183.9858078057248</td><td>153.98349</td><td>0.000</td><td>False</td><td>184.0</td><td>True</td><td>0.200 .. 5.000</td><td>84.357 .. 589.649</td></tr>\n",
       "<tr><td>3.625</td><td>2.915</td><td>4.510</td><td>1.256e-11</td><td>1.901e-12</td><td>1.950e-12</td><td>1.859e-12</td><td>1.656e-11</td><td>48.016</td><td>6.929</td><td>76.99971788491465</td><td>62.99967</td><td>0.000</td><td>False</td><td>77.0</td><td>True</td><td>0.200 .. 5.000</td><td>28.272 .. 385.222</td></tr>\n",
       "<tr><td>5.610</td><td>4.510</td><td>6.978</td><td>1.291e-11</td><td>2.186e-12</td><td>2.271e-12</td><td>2.110e-12</td><td>1.764e-11</td><td>40.352</td><td>6.352</td><td>47.99965007297775</td><td>42.999615</td><td>0.000</td><td>False</td><td>48.0</td><td>True</td><td>0.200 .. 5.000</td><td>28.250 .. 162.810</td></tr>\n",
       "<tr><td>8.680</td><td>6.978</td><td>10.797</td><td>7.987e-12</td><td>2.349e-12</td><td>2.467e-12</td><td>2.258e-12</td><td>1.319e-11</td><td>12.674</td><td>3.560</td><td>21.001275753906135</td><td>17.001518</td><td>0.000</td><td>False</td><td>21.0</td><td>True</td><td>0.200 .. 5.000</td><td>8.043 .. 83.206</td></tr>\n",
       "<tr><td>13.431</td><td>10.797</td><td>16.707</td><td>8.849e-12</td><td>2.454e-12</td><td>2.687e-12</td><td>2.233e-12</td><td>1.471e-11</td><td>18.022</td><td>4.245</td><td>12.998057930963288</td><td>12.998058</td><td>0.000</td><td>False</td><td>13.0</td><td>True</td><td>0.200 .. 5.000</td><td>14.412 .. 31.882</td></tr>\n",
       "<tr><td>20.782</td><td>16.707</td><td>25.851</td><td>8.436e-18</td><td>2.868e-12</td><td>2.953e-12</td><td>nan</td><td>6.343e-12</td><td>-0.000</td><td>0.000</td><td>4.000004160236309</td><td>8.320464e-06</td><td>0.000</td><td>True</td><td>4.0</td><td>True</td><td>0.200 .. 5.000</td><td>0.089 .. 25.791</td></tr>\n",
       "<tr><td>32.157</td><td>25.851</td><td>40.000</td><td>3.802e-12</td><td>2.689e-12</td><td>3.382e-12</td><td>2.133e-12</td><td>1.205e-11</td><td>2.772</td><td>1.665</td><td>1.9852207978938465</td><td>1.9852208</td><td>0.000</td><td>True</td><td>2.0</td><td>True</td><td>0.200 .. 5.000</td><td>2.163 .. 5.891</td></tr>\n",
       "</table></div>"
      ],
      "text/plain": [
       "<Table length=19>\n",
       " e_ref   e_min   e_max  ... success norm_scan [11]    stat_scan [11]  \n",
       "  TeV     TeV     TeV   ...                                           \n",
       "float64 float64 float64 ...   bool     float64           float64      \n",
       "------- ------- ------- ... ------- -------------- -------------------\n",
       "  0.012   0.010   0.015 ...   False 0.200 .. 5.000          nan .. nan\n",
       "  0.019   0.015   0.024 ...   False 0.200 .. 5.000          nan .. nan\n",
       "  0.030   0.024   0.037 ...   False 0.200 .. 5.000          nan .. nan\n",
       "  0.046   0.037   0.057 ...   False 0.200 .. 5.000          nan .. nan\n",
       "  0.071   0.057   0.089 ...   False 0.200 .. 5.000          nan .. nan\n",
       "  0.110   0.089   0.137 ...    True 0.200 .. 5.000  57.972 .. 1338.711\n",
       "  0.171   0.137   0.212 ...    True 0.200 .. 5.000 134.508 .. 3293.537\n",
       "  0.264   0.212   0.329 ...    True 0.200 .. 5.000 225.101 .. 4004.811\n",
       "  0.409   0.329   0.508 ...    True 0.200 .. 5.000 250.563 .. 3655.688\n",
       "  0.632   0.508   0.787 ...    True 0.200 .. 5.000 221.519 .. 2736.435\n",
       "  0.979   0.787   1.217 ...    True 0.200 .. 5.000 157.460 .. 1805.261\n",
       "  1.514   1.217   1.884 ...    True 0.200 .. 5.000 102.813 .. 1119.541\n",
       "  2.343   1.884   2.915 ...    True 0.200 .. 5.000   84.357 .. 589.649\n",
       "  3.625   2.915   4.510 ...    True 0.200 .. 5.000   28.272 .. 385.222\n",
       "  5.610   4.510   6.978 ...    True 0.200 .. 5.000   28.250 .. 162.810\n",
       "  8.680   6.978  10.797 ...    True 0.200 .. 5.000     8.043 .. 83.206\n",
       " 13.431  10.797  16.707 ...    True 0.200 .. 5.000    14.412 .. 31.882\n",
       " 20.782  16.707  25.851 ...    True 0.200 .. 5.000     0.089 .. 25.791\n",
       " 32.157  25.851  40.000 ...    True 0.200 .. 5.000      2.163 .. 5.891"
      ]
     },
     "execution_count": 18,
     "metadata": {},
     "output_type": "execute_result"
    }
   ],
   "source": [
    "# Check the Flux table\n",
    "# sed_type options are {“likelihood”, “dnde”, “e2dnde”, “flux”, “eflux”} with \"likelihood\" being default\n",
    "# format options are {“gadf-sed”, “lightcurve”, “binned-time-series”, “profile”} with \"gadf-sed\" being default\n",
    "flux_points.to_table(formatted=True, sed_type=\"e2dnde\")"
   ]
  },
  {
   "cell_type": "code",
   "execution_count": 19,
   "id": "b51652dc",
   "metadata": {},
   "outputs": [
    {
     "name": "stdout",
     "output_type": "stream",
     "text": [
      "[       nan        nan        nan        nan        nan 0.02651217\n",
      " 0.37665004 0.05649163 0.11486448 0.07574174 0.06551641 0.28401459\n",
      " 0.65322061 2.17645529 0.34829633 0.06014367 1.21561409 2.23949139\n",
      " 0.10787751]\n",
      "nan 7.800889964284552\n"
     ]
    }
   ],
   "source": [
    "# Fit Statistic array\n",
    "print(flux_points_dataset.stat_array())\n",
    "\n",
    "# Total statistics sum\n",
    "print(flux_points_dataset.stat_sum(), np.nansum(flux_points_dataset.stat_array()))"
   ]
  },
  {
   "cell_type": "code",
   "execution_count": 20,
   "id": "dd6d3c6e",
   "metadata": {},
   "outputs": [
    {
     "data": {
      "text/html": [
       "<div><i>Table length=4</i>\n",
       "<table id=\"table140120175359600\" class=\"table-striped table-bordered table-condensed\">\n",
       "<thead><tr><th>type</th><th>name</th><th>value</th><th>unit</th><th>error</th><th>min</th><th>max</th><th>frozen</th><th>link</th></tr></thead>\n",
       "<thead><tr><th>str8</th><th>str9</th><th>float64</th><th>str14</th><th>float64</th><th>float64</th><th>float64</th><th>bool</th><th>str1</th></tr></thead>\n",
       "<tr><td>spectral</td><td>amplitude</td><td>1.7518e-10</td><td>cm-2 s-1 TeV-1</td><td>4.949e-12</td><td>nan</td><td>nan</td><td>False</td><td></td></tr>\n",
       "<tr><td>spectral</td><td>reference</td><td>4.7580e-01</td><td>TeV</td><td>0.000e+00</td><td>nan</td><td>nan</td><td>True</td><td></td></tr>\n",
       "<tr><td>spectral</td><td>alpha</td><td>2.3254e+00</td><td></td><td>2.676e-02</td><td>nan</td><td>nan</td><td>False</td><td></td></tr>\n",
       "<tr><td>spectral</td><td>beta</td><td>6.9726e-02</td><td></td><td>1.718e-02</td><td>nan</td><td>nan</td><td>False</td><td></td></tr>\n",
       "</table></div>"
      ],
      "text/plain": [
       "<Table length=4>\n",
       "  type      name     value         unit      ...   min     max   frozen link\n",
       "  str8      str9    float64       str14      ... float64 float64  bool  str1\n",
       "-------- --------- ---------- -------------- ... ------- ------- ------ ----\n",
       "spectral amplitude 1.7518e-10 cm-2 s-1 TeV-1 ...     nan     nan  False     \n",
       "spectral reference 4.7580e-01            TeV ...     nan     nan   True     \n",
       "spectral     alpha 2.3254e+00                ...     nan     nan  False     \n",
       "spectral      beta 6.9726e-02                ...     nan     nan  False     "
      ]
     },
     "execution_count": 20,
     "metadata": {},
     "output_type": "execute_result"
    }
   ],
   "source": [
    "model_best.parameters.to_table()"
   ]
  },
  {
   "cell_type": "markdown",
   "id": "48f55fc7",
   "metadata": {},
   "source": [
    "# 6. Spectral plots"
   ]
  },
  {
   "cell_type": "code",
   "execution_count": 21,
   "id": "c33c79fb",
   "metadata": {},
   "outputs": [],
   "source": [
    "if obj_name == 'Crab':\n",
    "    ref_label=\"MAGIC LP (JHEAp 2015)\"\n",
    "else:\n",
    "    ref_label=\"Crab MAGIC LP (JHEAp 2015)\""
   ]
  },
  {
   "cell_type": "code",
   "execution_count": 22,
   "id": "c002cd73",
   "metadata": {},
   "outputs": [
    {
     "name": "stdout",
     "output_type": "stream",
     "text": [
      "CPU times: user 1.16 ms, sys: 50 µs, total: 1.21 ms\n",
      "Wall time: 1.23 ms\n"
     ]
    }
   ],
   "source": [
    "%%time\n",
    "# Setting plot axes limits and other args\n",
    "e_plot_min = 0.01 * u.TeV\n",
    "e_plot_max = 40 * u.TeV\n",
    "\n",
    "ds_kwargs = {\n",
    "    \"sed_type\": \"dnde\",\n",
    "    \"energy_bounds\": [e_plot_min, e_plot_max],\n",
    "    \"yunits\": u.Unit(\"erg-1 cm-2 s-1\"),\n",
    "}\n",
    "sed_kwargs = {\n",
    "    \"sed_type\": \"e2dnde\",\n",
    "    \"energy_bounds\": [e_plot_min, e_plot_max],\n",
    "    \"yunits\": u.Unit(\"erg cm-2 s-1\"),\n",
    "\n",
    "}\n",
    "sed_plot_kwargs = {\n",
    "    \"label\": \"LST-1 data\",\n",
    "}\n",
    "plot_ts_kwargs = {\n",
    "    \"color\": \"darkorange\"\n",
    "}"
   ]
  },
  {
   "cell_type": "code",
   "execution_count": 23,
   "id": "e008ca2c",
   "metadata": {
    "scrolled": true
   },
   "outputs": [
    {
     "data": {
      "text/plain": [
       "Text(0.5, 1.0, 'TS Profiles')"
      ]
     },
     "execution_count": 23,
     "metadata": {},
     "output_type": "execute_result"
    },
    {
     "data": {
      "image/png": "[encoded data removed]",
      "text/plain": [
       "<Figure size 576x360 with 2 Axes>"
      ]
     },
     "metadata": {
      "needs_background": "light"
     },
     "output_type": "display_data"
    }
   ],
   "source": [
    "plt.figure(figsize=(8,5))\n",
    "ax = flux_points.plot(sed_type=\"e2dnde\", **plot_ts_kwargs)\n",
    "\n",
    "flux_points.plot_ts_profiles(ax=ax, sed_type=\"e2dnde\")\n",
    "\n",
    "plt.grid(which='both')\n",
    "plt.title('TS Profiles')"
   ]
  },
  {
   "cell_type": "code",
   "execution_count": 24,
   "id": "fcc63a79",
   "metadata": {},
   "outputs": [
    {
     "data": {
      "text/plain": [
       "<AxesSubplot:>"
      ]
     },
     "execution_count": 24,
     "metadata": {},
     "output_type": "execute_result"
    },
    {
     "data": {
      "image/png": "[encoded data removed]",
      "text/plain": [
       "<Figure size 230.4x187.2 with 2 Axes>"
      ]
     },
     "metadata": {
      "needs_background": "light"
     },
     "output_type": "display_data"
    }
   ],
   "source": [
    "# Fit model covariance matrix plot\n",
    "model_best.covariance.plot_correlation()"
   ]
  },
  {
   "cell_type": "code",
   "execution_count": 25,
   "id": "0a7af0bb",
   "metadata": {},
   "outputs": [
    {
     "data": {
      "text/plain": [
       "(0.01, 40.0)"
      ]
     },
     "execution_count": 25,
     "metadata": {},
     "output_type": "execute_result"
    },
    {
     "data": {
      "image/png": "[encoded data removed]",
      "text/plain": [
       "<Figure size 576x576 with 2 Axes>"
      ]
     },
     "metadata": {
      "needs_background": "light"
     },
     "output_type": "display_data"
    }
   ],
   "source": [
    "fig_sed = plt.figure(figsize=(8,8))\n",
    "\n",
    "gs2 = GridSpec(7, 1)\n",
    "\n",
    "gs2.update(hspace=0.1)\n",
    "args1 = [gs2[:5,:]]\n",
    "args2 = [gs2[5:,:]]\n",
    "\n",
    "fig_gs1 = fig_sed.add_subplot(*args1)\n",
    "fig_gs2 = fig_sed.add_subplot(*args2)\n",
    "\n",
    "FluxPointsDataset(data=flux_points, models=model_best).plot_spectrum(\n",
    "    ax=fig_gs1, \n",
    "    kwargs_fp=sed_plot_kwargs, \n",
    ")\n",
    "\n",
    "create_crab_spectral_model(\"magic_lp\").plot(\n",
    "    ax=fig_gs1, **sed_kwargs, label=ref_label\n",
    ")\n",
    "\n",
    "fig_gs1.legend()\n",
    "fig_gs1.set_xlim(e_plot_min.value, e_plot_max.value)\n",
    "fig_gs1.set_ylim(2e-12, 2e-10)\n",
    "fig_gs1.tick_params(labelbottom=False)\n",
    "\n",
    "fig_gs1.grid(which='both')\n",
    "fig_gs1.set_title('SED')\n",
    "\n",
    "flux_points_dataset.plot_residuals(ax=fig_gs2, method='diff/model')\n",
    "fig_gs2.grid(which='both')\n",
    "fig_gs2.set_xlim(e_plot_min.value, e_plot_max.value)"
   ]
  },
  {
   "cell_type": "code",
   "execution_count": 26,
   "id": "c8b48054",
   "metadata": {},
   "outputs": [
    {
     "data": {
      "text/plain": [
       "Text(0, 0.5, 'Residuals \\n (data-model)/sqrt(model)')"
      ]
     },
     "execution_count": 26,
     "metadata": {},
     "output_type": "execute_result"
    },
    {
     "data": {
      "image/png": "[encoded data removed]",
      "text/plain": [
       "<Figure size 576x504 with 2 Axes>"
      ]
     },
     "metadata": {
      "needs_background": "light"
     },
     "output_type": "display_data"
    }
   ],
   "source": [
    "fig = plt.figure(figsize=(8,7))\n",
    "gs = GridSpec(7, 1)\n",
    "\n",
    "args1 = [gs[:5,:]]\n",
    "args2 = [gs[5:,:]]\n",
    "kwargs_res = {\"method\": \"diff/sqrt(model)\"}\n",
    "\n",
    "fig_gs1 = fig.add_subplot(*args1)\n",
    "fig_gs2 = fig.add_subplot(*args2)\n",
    "\n",
    "stacked_dataset.plot_excess(fig_gs1)\n",
    "fig_gs1.grid(which=\"both\")\n",
    "fig_gs1.set_ylabel(\"Excess\")\n",
    "\n",
    "stacked_dataset.plot_residuals_spectral(fig_gs2, **kwargs_res, region=stacked_dataset.counts.geom.region)\n",
    "fig_gs2.grid(which=\"both\")\n",
    "\n",
    "fig_gs2.set_ylabel(f\"Residuals \\n (data-model)/sqrt(model)\")"
   ]
  },
  {
   "cell_type": "code",
   "execution_count": 27,
   "id": "57465e5a",
   "metadata": {},
   "outputs": [
    {
     "data": {
      "text/plain": [
       "Text(0.5, 1.0, 'Differential spectrum')"
      ]
     },
     "execution_count": 27,
     "metadata": {},
     "output_type": "execute_result"
    },
    {
     "data": {
      "image/png": "[encoded data removed]",
      "text/plain": [
       "<Figure size 576x360 with 1 Axes>"
      ]
     },
     "metadata": {
      "needs_background": "light"
     },
     "output_type": "display_data"
    }
   ],
   "source": [
    "plt.figure(figsize=(8,5))\n",
    "\n",
    "flux_points.plot(label='Joint flux')\n",
    "create_crab_spectral_model(\"magic_lp\").plot(**ds_kwargs, label=ref_label)\n",
    "plt.grid(which='both')\n",
    "plt.legend()\n",
    "plt.title('Differential spectrum')"
   ]
  },
  {
   "cell_type": "markdown",
   "id": "7f03c47c",
   "metadata": {},
   "source": [
    "# 7. Save the Flux Points Dataset and Model to separate files"
   ]
  },
  {
   "cell_type": "code",
   "execution_count": 28,
   "id": "55dd5bb2",
   "metadata": {},
   "outputs": [],
   "source": [
    "flux_points.write(\n",
    "    base_dir + dir_path + f'{obj_name}_dataset_{datasets[0].name}_to_{datasets[-1].name}_flux_pts.fits', \n",
    "    overwrite=True\n",
    ")\n",
    "\n",
    "# write the model to a dict and then to a file\n",
    "model_dict = model_best.to_dict(full_output='True')\n",
    "\n",
    "f = open(base_dir + dir_path + f'{obj_name}_dataset_{datasets[0].name}_to_{datasets[-1].name}_flux_model_dict.dat', 'wb')\n",
    "\n",
    "pickle.dump(model_dict, f)\n",
    "f.close()"
   ]
  },
  {
   "cell_type": "code",
   "execution_count": null,
   "id": "b0de0138",
   "metadata": {},
   "outputs": [],
   "source": []
  }
 ],
 "metadata": {
  "kernelspec": {
   "display_name": "lst-dev",
   "language": "python",
   "name": "lst-dev"
  },
  "language_info": {
   "codemirror_mode": {
    "name": "ipython",
    "version": 3
   },
   "file_extension": ".py",
   "mimetype": "text/x-python",
   "name": "python",
   "nbconvert_exporter": "python",
   "pygments_lexer": "ipython3",
   "version": "3.8.12"
  }
 },
 "nbformat": 4,
 "nbformat_minor": 5
}
