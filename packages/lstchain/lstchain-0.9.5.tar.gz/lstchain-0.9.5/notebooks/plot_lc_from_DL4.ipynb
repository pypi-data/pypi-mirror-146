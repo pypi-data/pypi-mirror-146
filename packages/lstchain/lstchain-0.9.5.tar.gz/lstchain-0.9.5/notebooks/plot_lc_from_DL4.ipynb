{
 "cells": [
  {
   "cell_type": "markdown",
   "id": "ab3aa1ba",
   "metadata": {},
   "source": [
    "# This example notebook, uses the provided OGIP files, to plot the Light Curves\n"
   ]
  },
  {
   "cell_type": "markdown",
   "id": "ccf8bc97",
   "metadata": {},
   "source": [
    "One can follow the tutorial from gammapy here https://docs.gammapy.org/0.19/tutorials/analysis/time/light_curve.html"
   ]
  },
  {
   "cell_type": "code",
   "execution_count": 1,
   "id": "eb96ec6a",
   "metadata": {},
   "outputs": [],
   "source": [
    "%matplotlib inline\n",
    "import matplotlib.pyplot as plt\n",
    "from matplotlib.gridspec import GridSpec\n",
    "\n",
    "from pathlib import Path\n",
    "\n",
    "import astropy.units as u\n",
    "from astropy.time import Time\n",
    "from astropy.io import fits\n",
    "from astropy.table import Table\n",
    "\n",
    "import numpy as np\n",
    "\n",
    "from gammapy.modeling import Fit\n",
    "from gammapy.modeling.models import (\n",
    "    PowerLawSpectralModel,\n",
    "    LogParabolaSpectralModel,\n",
    "    create_crab_spectral_model,\n",
    "    SkyModel,\n",
    ")\n",
    "from gammapy.datasets import Datasets, SpectrumDatasetOnOff\n",
    "\n",
    "from gammapy.estimators import LightCurveEstimator"
   ]
  },
  {
   "cell_type": "markdown",
   "id": "c99ae67a",
   "metadata": {},
   "source": [
    "# 1. Get the OGIP files and make some selections if need be"
   ]
  },
  {
   "cell_type": "code",
   "execution_count": 2,
   "id": "9dec3c7e",
   "metadata": {},
   "outputs": [],
   "source": [
    "base_dir = \"/fefs/aswg/workspace/analysis-school-2022/DL3/\"\n",
    "dir_path = \"Crab_src_indep/\"\n",
    "\n",
    "ogip_path = Path(base_dir+dir_path+\"OGIP/\")\n",
    "\n",
    "# Create the Paths if they do not exist already\n",
    "ogip_path.mkdir(exist_ok=True)"
   ]
  },
  {
   "cell_type": "code",
   "execution_count": 3,
   "id": "9f092708",
   "metadata": {},
   "outputs": [],
   "source": [
    "# read all obs ids of the pha files in the given directory\n",
    "obs_ids = []\n",
    "pha_files = list(ogip_path.glob(\"obs_*_arf.fits.gz\"))\n",
    "    \n",
    "for p in pha_files:\n",
    "    run = int(p.name[4:8])\n",
    "    obs_ids.append(run)\n",
    "obs_ids = np.sort(np.array(obs_ids))"
   ]
  },
  {
   "cell_type": "code",
   "execution_count": 4,
   "id": "6e33e77a",
   "metadata": {
    "scrolled": true
   },
   "outputs": [],
   "source": [
    "# Generate the Datasets object back from the OGIP files\n",
    "datasets = Datasets()\n",
    "for obs in obs_ids:\n",
    "    file = ogip_path / f\"obs_{obs}.fits.gz\"\n",
    "    datasets.append(SpectrumDatasetOnOff.read(file))"
   ]
  },
  {
   "cell_type": "markdown",
   "id": "2266dae9",
   "metadata": {},
   "source": [
    "## Read the OGIP files and some metadata stored in it"
   ]
  },
  {
   "cell_type": "code",
   "execution_count": 5,
   "id": "86b1ba26",
   "metadata": {},
   "outputs": [
    {
     "name": "stdout",
     "output_type": "stream",
     "text": [
      "Filename: /fefs/aswg/workspace/analysis-school-2022/DL3/Crab_src_indep/OGIP/obs_2968.fits.gz\n",
      "No.    Name      Ver    Type      Cards   Dimensions   Format\n",
      "  0  PRIMARY       1 PrimaryHDU       4   ()      \n",
      "  1  SPECTRUM      1 BinTableHDU     38   19R x 4C   [I, J, L, K]   \n",
      "  2  EBOUNDS       1 BinTableHDU     26   19R x 3C   [I, D, D]   \n",
      "  3  REGION        1 BinTableHDU     45   1R x 6C   [D, D, 6A, 4D, K, K]   \n",
      "  4  GTI           1 BinTableHDU     29   1R x 2C   [D, D]   \n"
     ]
    }
   ],
   "source": [
    "fits.open(ogip_path / f\"obs_{obs_ids[1]}.fits.gz\").info()"
   ]
  },
  {
   "cell_type": "code",
   "execution_count": 6,
   "id": "0346f90a",
   "metadata": {},
   "outputs": [
    {
     "data": {
      "text/plain": [
       "OrderedDict([('EXTNAME', 'SPECTRUM'),\n",
       "             ('TELESCOP', 'unknown'),\n",
       "             ('INSTRUME', 'unknown'),\n",
       "             ('FILTER', 'None'),\n",
       "             ('EXPOSURE', 1137.20611808597),\n",
       "             ('CORRFILE', ''),\n",
       "             ('CORRSCAL', ''),\n",
       "             ('ANCRFILE', 'obs_2968_arf.fits.gz'),\n",
       "             ('HDUCLASS', 'OGIP'),\n",
       "             ('HDUCLAS1', 'SPECTRUM'),\n",
       "             ('HDUVERS', '1.2.1'),\n",
       "             ('POISSERR', True),\n",
       "             ('CHANTYPE', 'PHA'),\n",
       "             ('DETCHANS', 19),\n",
       "             ('GROUPING', 0),\n",
       "             ('AREASCAL', 1),\n",
       "             ('HDUCLAS2', 'TOTAL'),\n",
       "             ('HDUCLAS3', 'COUNT'),\n",
       "             ('HDUCLAS4', 'TYPE:1'),\n",
       "             ('OBS_ID', '2968'),\n",
       "             ('BACKFILE', 'obs_2968_bkg.fits.gz'),\n",
       "             ('RESPFILE', 'obs_2968_rmf.fits.gz')])"
      ]
     },
     "execution_count": 6,
     "metadata": {},
     "output_type": "execute_result"
    }
   ],
   "source": [
    "Table.read(ogip_path / f\"obs_{obs_ids[1]}.fits.gz\", hdu=\"SPECTRUM\").meta"
   ]
  },
  {
   "cell_type": "code",
   "execution_count": 7,
   "id": "009cfb72",
   "metadata": {},
   "outputs": [
    {
     "data": {
      "text/plain": [
       "OrderedDict([('WCSAXES', 2),\n",
       "             ('CRPIX1', 1800.5),\n",
       "             ('CRPIX2', 900.5),\n",
       "             ('CDELT1', -0.1),\n",
       "             ('CDELT2', 0.1),\n",
       "             ('CUNIT1', 'deg'),\n",
       "             ('CUNIT2', 'deg'),\n",
       "             ('CTYPE1', 'RA---TAN'),\n",
       "             ('CTYPE2', 'DEC--TAN'),\n",
       "             ('CRVAL1', 83.63308333),\n",
       "             ('CRVAL2', 22.0145),\n",
       "             ('LONPOLE', 180.0),\n",
       "             ('LATPOLE', 22.0145),\n",
       "             ('MJDREF', 0.0),\n",
       "             ('RADESYS', 'ICRS'),\n",
       "             ('WCSSHAPE', '(3600,1800)'),\n",
       "             ('EXTNAME', 'REGION'),\n",
       "             ('OBJECT', 'Crab')])"
      ]
     },
     "execution_count": 7,
     "metadata": {},
     "output_type": "execute_result"
    }
   ],
   "source": [
    "Table.read(ogip_path / f\"obs_{obs_ids[1]}.fits.gz\", hdu=\"REGION\").meta"
   ]
  },
  {
   "cell_type": "code",
   "execution_count": 8,
   "id": "3e08d385",
   "metadata": {},
   "outputs": [
    {
     "name": "stdout",
     "output_type": "stream",
     "text": [
      "Filename: /fefs/aswg/workspace/analysis-school-2022/DL3/Crab_src_indep/OGIP/obs_2968_bkg.fits.gz\n",
      "No.    Name      Ver    Type      Cards   Dimensions   Format\n",
      "  0  PRIMARY       1 PrimaryHDU       4   ()      \n",
      "  1  SPECTRUM      1 BinTableHDU     38   19R x 4C   [I, J, L, K]   \n",
      "  2  EBOUNDS       1 BinTableHDU     26   19R x 3C   [I, D, D]   \n",
      "  3  REGION        1 BinTableHDU     44   1R x 6C   [D, D, 6A, 4D, K, K]   \n"
     ]
    }
   ],
   "source": [
    "fits.open(ogip_path / f\"obs_{obs_ids[1]}_bkg.fits.gz\").info()"
   ]
  },
  {
   "cell_type": "code",
   "execution_count": 9,
   "id": "6a6166a0",
   "metadata": {},
   "outputs": [
    {
     "data": {
      "text/plain": [
       "OrderedDict([('EXTNAME', 'SPECTRUM'),\n",
       "             ('TELESCOP', 'unknown'),\n",
       "             ('INSTRUME', 'unknown'),\n",
       "             ('FILTER', 'None'),\n",
       "             ('EXPOSURE', 1137.20611808597),\n",
       "             ('CORRFILE', ''),\n",
       "             ('CORRSCAL', ''),\n",
       "             ('ANCRFILE', 'obs_2968_arf.fits.gz'),\n",
       "             ('HDUCLASS', 'OGIP'),\n",
       "             ('HDUCLAS1', 'SPECTRUM'),\n",
       "             ('HDUVERS', '1.2.1'),\n",
       "             ('POISSERR', True),\n",
       "             ('CHANTYPE', 'PHA'),\n",
       "             ('DETCHANS', 19),\n",
       "             ('GROUPING', 0),\n",
       "             ('AREASCAL', 1),\n",
       "             ('HDUCLAS2', 'BKG'),\n",
       "             ('HDUCLAS3', 'COUNT'),\n",
       "             ('HDUCLAS4', 'TYPE:1'),\n",
       "             ('OBS_ID', '2968'),\n",
       "             ('BACKFILE', 'obs_2968_bkg.fits.gz'),\n",
       "             ('RESPFILE', 'obs_2968_rmf.fits.gz')])"
      ]
     },
     "execution_count": 9,
     "metadata": {},
     "output_type": "execute_result"
    }
   ],
   "source": [
    "Table.read(ogip_path / f\"obs_{obs_ids[1]}_bkg.fits.gz\", hdu=\"SPECTRUM\").meta"
   ]
  },
  {
   "cell_type": "code",
   "execution_count": 10,
   "id": "7bf919cb",
   "metadata": {},
   "outputs": [
    {
     "name": "stdout",
     "output_type": "stream",
     "text": [
      "Filename: /fefs/aswg/workspace/analysis-school-2022/DL3/Crab_src_indep/OGIP/obs_2968_arf.fits.gz\n",
      "No.    Name      Ver    Type      Cards   Dimensions   Format\n",
      "  0  PRIMARY       1 PrimaryHDU       4   ()      \n",
      "  1  SPECRESP      1 BinTableHDU     25   40R x 3C   [D, D, D]   \n"
     ]
    }
   ],
   "source": [
    "fits.open(ogip_path / f\"obs_{obs_ids[1]}_arf.fits.gz\").info()"
   ]
  },
  {
   "cell_type": "code",
   "execution_count": 11,
   "id": "4ee60ef0",
   "metadata": {},
   "outputs": [
    {
     "data": {
      "text/html": [
       "<div><i>Table length=40</i>\n",
       "<table id=\"table140178826951792\" class=\"table-striped table-bordered table-condensed\">\n",
       "<thead><tr><th>ENERG_LO</th><th>ENERG_HI</th><th>SPECRESP</th></tr></thead>\n",
       "<thead><tr><th>TeV</th><th>TeV</th><th>m2</th></tr></thead>\n",
       "<thead><tr><th>float64</th><th>float64</th><th>float64</th></tr></thead>\n",
       "<tr><td>0.010000000000000004</td><td>0.012589254117941677</td><td>63.40700314598604</td></tr>\n",
       "<tr><td>0.012589254117941677</td><td>0.01584893192461114</td><td>322.7464747445423</td></tr>\n",
       "<tr><td>0.01584893192461114</td><td>0.019952623149688802</td><td>582.0859463431004</td></tr>\n",
       "<tr><td>0.019952623149688802</td><td>0.02511886431509582</td><td>1137.660263524147</td></tr>\n",
       "<tr><td>0.02511886431509582</td><td>0.03162277660168381</td><td>1780.3624764647489</td></tr>\n",
       "<tr><td>0.03162277660168381</td><td>0.03981071705534975</td><td>3645.623662013372</td></tr>\n",
       "<tr><td>0.03981071705534975</td><td>0.05011872336272727</td><td>6222.468008589275</td></tr>\n",
       "<tr><td>0.05011872336272727</td><td>0.06309573444801937</td><td>12937.297446757733</td></tr>\n",
       "<tr><td>0.06309573444801937</td><td>0.07943282347242821</td><td>22775.000741735825</td></tr>\n",
       "<tr><td>...</td><td>...</td><td>...</td></tr>\n",
       "<tr><td>10.00000000000001</td><td>12.589254117941685</td><td>301001.0754000701</td></tr>\n",
       "<tr><td>12.589254117941685</td><td>15.84893192461115</td><td>304620.0552256196</td></tr>\n",
       "<tr><td>15.84893192461115</td><td>19.952623149688815</td><td>310872.811107692</td></tr>\n",
       "<tr><td>19.952623149688815</td><td>25.118864315095824</td><td>318354.6624828084</td></tr>\n",
       "<tr><td>25.118864315095824</td><td>31.622776601683817</td><td>293295.559781565</td></tr>\n",
       "<tr><td>31.622776601683817</td><td>39.81071705534979</td><td>264406.5672498698</td></tr>\n",
       "<tr><td>39.81071705534979</td><td>50.11872336272726</td><td>262988.841268737</td></tr>\n",
       "<tr><td>50.11872336272726</td><td>63.095734448019414</td><td>261571.1152876043</td></tr>\n",
       "<tr><td>63.095734448019414</td><td>79.4328234724282</td><td>0.0</td></tr>\n",
       "<tr><td>79.4328234724282</td><td>100.00000000000004</td><td>0.0</td></tr>\n",
       "</table></div>"
      ],
      "text/plain": [
       "<Table length=40>\n",
       "      ENERG_LO             ENERG_HI            SPECRESP     \n",
       "        TeV                  TeV                  m2        \n",
       "      float64              float64             float64      \n",
       "-------------------- -------------------- ------------------\n",
       "0.010000000000000004 0.012589254117941677  63.40700314598604\n",
       "0.012589254117941677  0.01584893192461114  322.7464747445423\n",
       " 0.01584893192461114 0.019952623149688802  582.0859463431004\n",
       "0.019952623149688802  0.02511886431509582  1137.660263524147\n",
       " 0.02511886431509582  0.03162277660168381 1780.3624764647489\n",
       " 0.03162277660168381  0.03981071705534975  3645.623662013372\n",
       " 0.03981071705534975  0.05011872336272727  6222.468008589275\n",
       " 0.05011872336272727  0.06309573444801937 12937.297446757733\n",
       " 0.06309573444801937  0.07943282347242821 22775.000741735825\n",
       "                 ...                  ...                ...\n",
       "   10.00000000000001   12.589254117941685  301001.0754000701\n",
       "  12.589254117941685    15.84893192461115  304620.0552256196\n",
       "   15.84893192461115   19.952623149688815   310872.811107692\n",
       "  19.952623149688815   25.118864315095824  318354.6624828084\n",
       "  25.118864315095824   31.622776601683817   293295.559781565\n",
       "  31.622776601683817    39.81071705534979  264406.5672498698\n",
       "   39.81071705534979    50.11872336272726   262988.841268737\n",
       "   50.11872336272726   63.095734448019414  261571.1152876043\n",
       "  63.095734448019414     79.4328234724282                0.0\n",
       "    79.4328234724282   100.00000000000004                0.0"
      ]
     },
     "execution_count": 11,
     "metadata": {},
     "output_type": "execute_result"
    }
   ],
   "source": [
    "Table.read(ogip_path / f\"obs_{obs_ids[1]}_arf.fits.gz\", hdu=\"SPECRESP\")"
   ]
  },
  {
   "cell_type": "code",
   "execution_count": 12,
   "id": "82f0f78b",
   "metadata": {},
   "outputs": [
    {
     "name": "stdout",
     "output_type": "stream",
     "text": [
      "Filename: /fefs/aswg/workspace/analysis-school-2022/DL3/Crab_src_indep/OGIP/obs_2968_rmf.fits.gz\n",
      "No.    Name      Ver    Type      Cards   Dimensions   Format\n",
      "  0  PRIMARY       1 PrimaryHDU       4   ()      \n",
      "  1  MATRIX        1 BinTableHDU     31   40R x 6C   [E, E, I, PI(5), PI(5), PE(12)]   \n",
      "  2  EBOUNDS       1 BinTableHDU     26   19R x 3C   [I, D, D]   \n"
     ]
    }
   ],
   "source": [
    "fits.open(ogip_path / f\"obs_{obs_ids[1]}_rmf.fits.gz\").info()"
   ]
  },
  {
   "cell_type": "code",
   "execution_count": 13,
   "id": "807e14fb",
   "metadata": {},
   "outputs": [
    {
     "data": {
      "text/html": [
       "<div><i>Table length=40</i>\n",
       "<table id=\"table140178812297328\" class=\"table-striped table-bordered table-condensed\">\n",
       "<thead><tr><th>ENERG_LO</th><th>ENERG_HI</th><th>N_GRP</th><th>F_CHAN</th><th>N_CHAN</th><th>MATRIX</th></tr></thead>\n",
       "<thead><tr><th>TeV</th><th>TeV</th><th></th><th></th><th></th><th></th></tr></thead>\n",
       "<thead><tr><th>float32</th><th>float32</th><th>int16</th><th>object</th><th>object</th><th>object</th></tr></thead>\n",
       "<tr><td>0.01</td><td>0.012589254</td><td>4</td><td>[ 0 10 13 16]</td><td>[5 1 2 2]</td><td>[4.0766637e-17 1.1608712e-01 6.1178356e-01 2.7212933e-01 3.3306691e-16\n",
       " 1.4543922e-14 1.5876189e-14 2.0317081e-14 1.3522516e-13 2.9509728e-13]</td></tr>\n",
       "<tr><td>0.012589254</td><td>0.015848933</td><td>1</td><td>[0]</td><td>[5]</td><td>[0.00246026 0.08069239 0.45363387 0.3970625  0.06615097]</td></tr>\n",
       "<tr><td>0.015848933</td><td>0.019952623</td><td>5</td><td>[ 0  7 11 13 15]</td><td>[6 1 1 1 2]</td><td>[4.6231132e-04 5.8384329e-02 4.1568846e-01 4.0013477e-01 1.2490561e-01\n",
       " 4.2454756e-04 1.5543122e-15 1.7097435e-14 2.9087843e-14 6.7834627e-14\n",
       " 2.3536728e-14]</td></tr>\n",
       "<tr><td>0.019952623</td><td>0.025118865</td><td>5</td><td>[ 0  8 13 15 17]</td><td>[7 2 1 1 1]</td><td>[6.7620154e-04 3.8885526e-02 2.9974499e-01 4.6985328e-01 1.6827162e-01\n",
       " 2.2568386e-02 6.6613381e-16 3.3306691e-15 4.4408921e-16 1.0769163e-14\n",
       " 7.0499162e-14 2.5834890e-13]</td></tr>\n",
       "<tr><td>0.025118865</td><td>0.031622775</td><td>1</td><td>[1]</td><td>[6]</td><td>[0.01528441 0.2387164  0.45635858 0.23983905 0.0487838  0.00101775]</td></tr>\n",
       "<tr><td>0.031622775</td><td>0.039810717</td><td>1</td><td>[0]</td><td>[7]</td><td>[4.5950597e-05 8.9364210e-03 1.2312714e-01 4.2762813e-01 3.4467453e-01\n",
       " 8.6913668e-02 8.6741410e-03]</td></tr>\n",
       "<tr><td>0.039810717</td><td>0.050118722</td><td>1</td><td>[0]</td><td>[10]</td><td>[1.7582128e-05 2.7839690e-03 6.4375289e-02 3.1696880e-01 4.5600775e-01\n",
       " 1.4054219e-01 1.8056044e-02 1.2483725e-03 2.2204460e-15 1.7763568e-15]</td></tr>\n",
       "<tr><td>0.050118722</td><td>0.06309573</td><td>1</td><td>[0]</td><td>[9]</td><td>[9.1975880e-06 8.8620326e-04 2.2375915e-02 1.9449542e-01 5.0154299e-01\n",
       " 2.4091566e-01 3.5224825e-02 4.5497967e-03 3.3306691e-16]</td></tr>\n",
       "<tr><td>0.06309573</td><td>0.07943282</td><td>1</td><td>[1]</td><td>[9]</td><td>[2.5588751e-04 8.0880746e-03 8.4395856e-02 4.5684859e-01 3.8344133e-01\n",
       " 6.0688682e-02 6.1099646e-03 1.7161669e-04 8.8817842e-16]</td></tr>\n",
       "<tr><td>...</td><td>...</td><td>...</td><td>...</td><td>...</td><td>...</td></tr>\n",
       "<tr><td>10.0</td><td>12.589254</td><td>1</td><td>[12]</td><td>[7]</td><td>[4.3287096e-04 5.0392579e-03 3.5816245e-02 3.9670661e-01 5.0302589e-01\n",
       " 5.7135098e-02 1.8440079e-03]</td></tr>\n",
       "<tr><td>12.589254</td><td>15.848932</td><td>1</td><td>[12]</td><td>[7]</td><td>[1.3991131e-05 2.1936379e-03 1.1504069e-02 1.2403450e-01 6.3704926e-01\n",
       " 2.1802109e-01 7.0815347e-03]</td></tr>\n",
       "<tr><td>15.848932</td><td>19.952623</td><td>1</td><td>[13]</td><td>[6]</td><td>[6.9708272e-05 7.0509566e-03 4.2742006e-02 4.1821298e-01 4.8286197e-01\n",
       " 4.9062382e-02]</td></tr>\n",
       "<tr><td>19.952623</td><td>25.118864</td><td>1</td><td>[14]</td><td>[5]</td><td>[0.00289956 0.01999207 0.1949654  0.61569446 0.16412708]</td></tr>\n",
       "<tr><td>25.118864</td><td>31.622776</td><td>1</td><td>[14]</td><td>[5]</td><td>[0.00066712 0.00841899 0.0828878  0.53196627 0.36657563]</td></tr>\n",
       "<tr><td>31.622776</td><td>39.81072</td><td>1</td><td>[15]</td><td>[4]</td><td>[0.00451624 0.03698643 0.33581844 0.60066366]</td></tr>\n",
       "<tr><td>39.81072</td><td>50.118725</td><td>1</td><td>[15]</td><td>[4]</td><td>[0.00244019 0.02191967 0.17224824 0.6775212 ]</td></tr>\n",
       "<tr><td>50.118725</td><td>63.095734</td><td>1</td><td>[16]</td><td>[3]</td><td>[0.01551629 0.10502232 0.5939898 ]</td></tr>\n",
       "<tr><td>63.095734</td><td>79.43282</td><td>1</td><td>[16]</td><td>[3]</td><td>[0.00464479 0.04171627 0.2417892 ]</td></tr>\n",
       "<tr><td>79.43282</td><td>100.0</td><td>1</td><td>[17]</td><td>[2]</td><td>[0.01873794 0.12562984]</td></tr>\n",
       "</table></div>"
      ],
      "text/plain": [
       "<Table length=40>\n",
       "  ENERG_LO  ...\n",
       "    TeV     ...\n",
       "  float32   ...\n",
       "----------- ...\n",
       "       0.01 ...\n",
       "0.012589254 ...\n",
       "0.015848933 ...\n",
       "0.019952623 ...\n",
       "0.025118865 ...\n",
       "0.031622775 ...\n",
       "0.039810717 ...\n",
       "0.050118722 ...\n",
       " 0.06309573 ...\n",
       "        ... ...\n",
       "       10.0 ...\n",
       "  12.589254 ...\n",
       "  15.848932 ...\n",
       "  19.952623 ...\n",
       "  25.118864 ...\n",
       "  31.622776 ...\n",
       "   39.81072 ...\n",
       "  50.118725 ...\n",
       "  63.095734 ...\n",
       "   79.43282 ..."
      ]
     },
     "execution_count": 13,
     "metadata": {},
     "output_type": "execute_result"
    }
   ],
   "source": [
    "Table.read(ogip_path / f\"obs_{obs_ids[1]}_rmf.fits.gz\", hdu=\"MATRIX\")"
   ]
  },
  {
   "cell_type": "markdown",
   "id": "9d07c064",
   "metadata": {},
   "source": [
    "# 2. Get some parameters to use from the datasets"
   ]
  },
  {
   "cell_type": "code",
   "execution_count": 14,
   "id": "46f07c6a",
   "metadata": {},
   "outputs": [
    {
     "name": "stdout",
     "output_type": "stream",
     "text": [
      "[2967 2968 2969 2970 2971 2972 2973 2974 2975 2976 2977]\n",
      "3.62014906320307\n"
     ]
    }
   ],
   "source": [
    "t_start = []\n",
    "t_stop = []\n",
    "tot_time = []\n",
    "obj_name = []\n",
    "\n",
    "for obs in obs_ids:\n",
    "    file = ogip_path / f\"obs_{obs}.fits.gz\"\n",
    "    t = Table.read(file, hdu=\"GTI\")\n",
    "    r = Table.read(file, hdu=\"REGION\").meta\n",
    "    \n",
    "    t_start.append(t[\"START\"][0])\n",
    "    t_stop.append(t[\"STOP\"][0])\n",
    "    tot_time.append(t[\"STOP\"][0] - t[\"START\"][0])\n",
    "    \n",
    "    obj_name.append(r[\"OBJECT\"])\n",
    "print(obs_ids)\n",
    "\n",
    "t_start = np.sort(np.array(t_start))\n",
    "t_stop = np.sort(np.array(t_stop))\n",
    "tot_time = np.array(tot_time)\n",
    "print(tot_time.sum()/3600)\n",
    "\n",
    "obj_name = np.unique(np.array(obj_name))[0]"
   ]
  },
  {
   "cell_type": "code",
   "execution_count": 15,
   "id": "f97ccd79",
   "metadata": {},
   "outputs": [],
   "source": [
    "e_reco_edges = datasets[0].counts.geom.axes[\"energy\"].edges"
   ]
  },
  {
   "cell_type": "code",
   "execution_count": 16,
   "id": "4ef84ba0",
   "metadata": {},
   "outputs": [],
   "source": [
    "# Energy range for estimating the Light Curve.\n",
    "# One can play with different energy bins to check the different LCs\n",
    "\n",
    "# Using these values to check with Crab reference flux of MAGIC JHEAP 2015\n",
    "e_fit_min = 0.3 * u.TeV\n",
    "e_fit_max = 100 * u.TeV"
   ]
  },
  {
   "cell_type": "markdown",
   "id": "910069e1",
   "metadata": {},
   "source": [
    "# 3. Get Pivot energy to fix the reference energy and define the Spectrum Model"
   ]
  },
  {
   "cell_type": "code",
   "execution_count": 17,
   "id": "b895404f",
   "metadata": {},
   "outputs": [],
   "source": [
    "# Find pivot (decorrelation) energy for a Power Law model to get the reference energy for Log Parabola model\n",
    "def get_pivot_energy(datasets, e_ref, e_edges, obj_name):\n",
    "    \"\"\"\n",
    "    Using Power Law spectral model with the given reference energy and\n",
    "    get the decorrelation energy of the fit, within the fit energy range, e_edges\n",
    "    \"\"\"\n",
    "    spectral_model = PowerLawSpectralModel(\n",
    "        index=2, amplitude=2e-11 * u.Unit(\"cm-2 s-1 TeV-1\"), reference=e_ref\n",
    "    )\n",
    "    model = SkyModel(spectral_model=spectral_model, name=obj_name)\n",
    "    model_check = model.copy()\n",
    "\n",
    "    # Stacked dataset method\n",
    "    stacked_dataset = Datasets(datasets).stack_reduce()\n",
    "    stacked_dataset.models = model_check\n",
    "\n",
    "    fit_stacked = Fit()\n",
    "    result_stacked = fit_stacked.run(datasets=stacked_dataset)\n",
    "    \n",
    "    return model_check.spectral_model.pivot_energy\n"
   ]
  },
  {
   "cell_type": "code",
   "execution_count": 18,
   "id": "ce38a20b",
   "metadata": {
    "scrolled": true
   },
   "outputs": [
    {
     "name": "stdout",
     "output_type": "stream",
     "text": [
      "475.79579463258864\n"
     ]
    }
   ],
   "source": [
    "# Using a reference energy close to the expected decorrelation energy\n",
    "ref = get_pivot_energy(datasets, 0.4 * u.TeV, e_reco_edges, obj_name)\n",
    "print(ref.to_value(u.GeV))"
   ]
  },
  {
   "cell_type": "code",
   "execution_count": 19,
   "id": "28fc178f",
   "metadata": {},
   "outputs": [],
   "source": [
    "# Final spectral model of Log Parabola, to be used for estimating the LC.\n",
    "# One can try different Spectral Models as well.\n",
    "# Be careful in the choice of Spectral Model being used for the 2 examples presented here\n",
    "\n",
    "# Using the same values as we get from plotting SED, from the other notebook.\n",
    "# Crab\n",
    "spectral_model_lp = LogParabolaSpectralModel(\n",
    "        amplitude = 1.75e-10 * u.Unit('cm-2 s-1 TeV-1'),\n",
    "        reference = ref,\n",
    "        alpha = 2.325 * u.Unit(''),\n",
    "        beta = 0.0697 * u.Unit('')\n",
    ")\n",
    "model_lp = SkyModel(spectral_model=spectral_model_lp, name=obj_name)"
   ]
  },
  {
   "cell_type": "code",
   "execution_count": 20,
   "id": "3d670c61",
   "metadata": {},
   "outputs": [
    {
     "data": {
      "text/plain": [
       "[{'name': 'amplitude', 'value': 1.75e-10, 'unit': 'cm-2 s-1 TeV-1'},\n",
       " {'name': 'reference',\n",
       "  'value': 0.47579579463258864,\n",
       "  'unit': 'TeV',\n",
       "  'frozen': True},\n",
       " {'name': 'alpha', 'value': 2.325},\n",
       " {'name': 'beta', 'value': 0.0697}]"
      ]
     },
     "execution_count": 20,
     "metadata": {},
     "output_type": "execute_result"
    }
   ],
   "source": [
    "# Use the appropriate models, as per the selection of the source/dataset\n",
    "params=model_lp.to_dict()['spectral']['parameters']\n",
    "params"
   ]
  },
  {
   "cell_type": "markdown",
   "id": "40bcb658",
   "metadata": {},
   "source": [
    "# 4. Estimate the LC"
   ]
  },
  {
   "cell_type": "code",
   "execution_count": 21,
   "id": "fee3d1c5",
   "metadata": {},
   "outputs": [],
   "source": [
    "lc_maker_1d = LightCurveEstimator(\n",
    "    energy_edges=[e_fit_min, e_fit_max], \n",
    "    reoptimize=False, # Re-optimizing other free model parameters (not belonging to the source)\n",
    "    source=obj_name, \n",
    "    selection_optional=\"all\" # Estimates asymmetric errors, upper limits and fit statistic profiles\n",
    ")"
   ]
  },
  {
   "cell_type": "code",
   "execution_count": 22,
   "id": "771bea40",
   "metadata": {},
   "outputs": [],
   "source": [
    "# Need the time start and end\n",
    "t_start = Time(t_start, format='unix')\n",
    "t_stop = Time(t_stop, format='unix')\n",
    "\n",
    "t_day = np.unique(np.rint(t_start.mjd))\n",
    "\n",
    "# To make the range night-wise, keep the MJD range in half integral values\n",
    "t_range = [Time([t-0.5, t+0.5], format=\"mjd\", scale=\"utc\") for t in t_day]\n",
    "\n",
    "lc_maker_night_wise = LightCurveEstimator(\n",
    "    energy_edges=[e_fit_min, e_fit_max], \n",
    "    time_intervals=t_range,\n",
    "    reoptimize=False, \n",
    "    source=obj_name,\n",
    "    selection_optional=\"all\"\n",
    ")"
   ]
  },
  {
   "cell_type": "code",
   "execution_count": 23,
   "id": "592152d1",
   "metadata": {},
   "outputs": [],
   "source": [
    "# Assigning the model for each dataset\n",
    "for data in datasets:\n",
    "    data.models = model_lp\n",
    "\n",
    "lc_1d = lc_maker_1d.run(datasets)\n",
    "lc_night = lc_maker_night_wise.run(datasets)"
   ]
  },
  {
   "cell_type": "code",
   "execution_count": 24,
   "id": "db1aad85",
   "metadata": {},
   "outputs": [
    {
     "data": {
      "text/html": [
       "<div><i>Table length=11</i>\n",
       "<table id=\"table140178797457856\" class=\"table-striped table-bordered table-condensed\">\n",
       "<thead><tr><th>time_min</th><th>time_max</th><th>e_ref [1]</th><th>e_min [1]</th><th>e_max [1]</th><th>flux [1]</th><th>flux_err [1]</th><th>flux_errp [1]</th><th>flux_errn [1]</th><th>flux_ul [1]</th><th>ts [1]</th><th>sqrt_ts [1]</th><th>npred [1,11]</th><th>npred_excess [1,11]</th><th>stat [1]</th><th>is_ul [1]</th><th>counts [1,11]</th><th>success [1]</th><th>norm_scan [1,11]</th><th>stat_scan [1,11]</th></tr></thead>\n",
       "<thead><tr><th></th><th></th><th>TeV</th><th>TeV</th><th>TeV</th><th>1 / (cm2 s)</th><th>1 / (cm2 s)</th><th>1 / (cm2 s)</th><th>1 / (cm2 s)</th><th>1 / (cm2 s)</th><th></th><th></th><th></th><th></th><th></th><th></th><th></th><th></th><th></th><th></th></tr></thead>\n",
       "<thead><tr><th>float64</th><th>float64</th><th>float64</th><th>float64</th><th>float64</th><th>float64</th><th>float64</th><th>float64</th><th>float64</th><th>float64</th><th>float64</th><th>float64</th><th>float64</th><th>float64</th><th>float64</th><th>bool</th><th>float64</th><th>bool</th><th>float64</th><th>float64</th></tr></thead>\n",
       "<tr><td>59174.01970061281</td><td>59174.03356212063</td><td>3.6254207399646123</td><td>0.32859188854413895</td><td>40.0</td><td>1.1160402261100464e-10</td><td>9.336329845170476e-12</td><td>9.397999119494703e-12</td><td>9.27515131232602e-12</td><td>1.3051605581833935e-10</td><td>146.36651864885195</td><td>12.098203116531478</td><td>481.85477762308057 .. nan</td><td>300.7205505371094 .. nan</td><td>11.026053555275455</td><td>False</td><td>477.0 .. nan</td><td>True</td><td>0.2 .. 4.999999999999999</td><td>112.10813353714337 .. 916.2117037040198</td></tr>\n",
       "<tr><td>59174.03458026783</td><td>59174.04829881451</td><td>3.6254207399646123</td><td>0.32859188854413895</td><td>40.0</td><td>1.1535268934985908e-10</td><td>9.122470683690817e-12</td><td>9.211386337297716e-12</td><td>9.03738073728094e-12</td><td>1.3396074740760632e-10</td><td>171.38449248778787</td><td>13.091390013584801</td><td>nan .. nan</td><td>nan .. nan</td><td>6.174779802273332</td><td>False</td><td>nan .. nan</td><td>True</td><td>0.2 .. 4.999999999999999</td><td>126.61409840452191 .. 891.2920745345148</td></tr>\n",
       "<tr><td>59174.04913458202</td><td>59174.062836007324</td><td>3.6254207399646123</td><td>0.32859188854413895</td><td>40.0</td><td>1.0405791673710491e-10</td><td>9.004921426368216e-12</td><td>9.07686944941766e-12</td><td>8.943843098417602e-12</td><td>1.224397367559429e-10</td><td>137.32679020689392</td><td>11.71865138174585</td><td>nan .. nan</td><td>nan .. nan</td><td>19.033049279785743</td><td>False</td><td>nan .. nan</td><td>True</td><td>0.2 .. 4.999999999999999</td><td>110.8907906726669 .. 975.5050338119838</td></tr>\n",
       "<tr><td>59174.06372647877</td><td>59174.07741072641</td><td>3.6254207399646123</td><td>0.32859188854413895</td><td>40.0</td><td>9.377684783028222e-11</td><td>8.974640926222677e-12</td><td>9.081710027429617e-12</td><td>8.866549720405009e-12</td><td>1.1215249854667036e-10</td><td>103.5857852432957</td><td>10.177710216119129</td><td>nan .. nan</td><td>nan .. nan</td><td>16.649394109911885</td><td>False</td><td>nan .. nan</td><td>True</td><td>0.2 .. 4.999999999999999</td><td>83.1958078775222 .. 987.0157273194475</td></tr>\n",
       "<tr><td>59174.07831871167</td><td>59174.09210337368</td><td>3.6254207399646123</td><td>0.32859188854413895</td><td>40.0</td><td>9.711569464450751e-11</td><td>8.798161245835126e-12</td><td>8.89534420280601e-12</td><td>8.703706492105634e-12</td><td>1.1511080847666606e-10</td><td>132.18170332728192</td><td>11.497030195980262</td><td>nan .. nan</td><td>nan .. nan</td><td>3.1820077097463244</td><td>False</td><td>nan .. nan</td><td>True</td><td>0.2 .. 4.999999999999999</td><td>89.9076389018422 .. 985.8874574455388</td></tr>\n",
       "<tr><td>59174.09287601319</td><td>59174.10661263799</td><td>3.6254207399646123</td><td>0.32859188854413895</td><td>40.0</td><td>1.0377537445143098e-10</td><td>9.279010951897971e-12</td><td>9.376352606706957e-12</td><td>9.183689548001638e-12</td><td>1.2272812480805695e-10</td><td>137.60165116434013</td><td>11.730373018976852</td><td>nan .. nan</td><td>nan .. nan</td><td>13.207479030951843</td><td>False</td><td>nan .. nan</td><td>True</td><td>0.2 .. 4.999999999999999</td><td>104.86209558089269 .. 921.0109605041064</td></tr>\n",
       "<tr><td>59174.10755984179</td><td>59174.12127623159</td><td>3.6254207399646123</td><td>0.32859188854413895</td><td>40.0</td><td>9.247942816268829e-11</td><td>8.882527618800154e-12</td><td>8.975808140901312e-12</td><td>8.790842669618357e-12</td><td>1.10618790652112e-10</td><td>108.67358426938179</td><td>10.42466230960897</td><td>nan .. nan</td><td>nan .. nan</td><td>5.271350722065299</td><td>False</td><td>nan .. nan</td><td>True</td><td>0.2 .. 4.999999999999999</td><td>74.16091700918707 .. 1005.2971399996472</td></tr>\n",
       "<tr><td>59174.12211270787</td><td>59174.13590920742</td><td>3.6254207399646123</td><td>0.32859188854413895</td><td>40.0</td><td>7.931790332431868e-11</td><td>8.69502992658847e-12</td><td>8.773452623330612e-12</td><td>8.622747976741169e-12</td><td>9.703386985353146e-11</td><td>88.15809417061025</td><td>9.389254186068788</td><td>nan .. nan</td><td>nan .. nan</td><td>10.525380722627606</td><td>False</td><td>nan .. nan</td><td>True</td><td>0.2 .. 4.999999999999999</td><td>61.05404854609784 .. 1083.201714307384</td></tr>\n",
       "<tr><td>59174.13670877219</td><td>59174.15047358928</td><td>3.6254207399646123</td><td>0.32859188854413895</td><td>40.0</td><td>9.137333913356408e-11</td><td>8.926185333771508e-12</td><td>9.005091445155206e-12</td><td>8.851000430175936e-12</td><td>1.0954583211924461e-10</td><td>111.8141819582543</td><td>10.574222522637506</td><td>nan .. nan</td><td>nan .. nan</td><td>11.090221328172554</td><td>False</td><td>nan .. nan</td><td>True</td><td>0.2 .. 4.999999999999999</td><td>80.80930060698566 .. 1019.0784521428328</td></tr>\n",
       "<tr><td>59174.15136390725</td><td>59174.16478350505</td><td>3.6254207399646123</td><td>0.32859188854413895</td><td>40.0</td><td>9.799760781749787e-11</td><td>8.995994102236788e-12</td><td>9.07864862482877e-12</td><td>8.917281991170217e-12</td><td>1.1632816251814098e-10</td><td>129.2022640260674</td><td>11.366717381287678</td><td>nan .. nan</td><td>nan .. nan</td><td>2.3775136441741562</td><td>False</td><td>nan .. nan</td><td>True</td><td>0.2 .. 4.999999999999999</td><td>86.64637035586507 .. 963.1221560891937</td></tr>\n",
       "<tr><td>59174.16587087028</td><td>59174.17952609609</td><td>3.6254207399646123</td><td>0.32859188854413895</td><td>40.0</td><td>9.693224393750701e-11</td><td>9.340492546996149e-12</td><td>9.410710606160776e-12</td><td>9.276825098253733e-12</td><td>1.1590983144623538e-10</td><td>112.37177530318593</td><td>10.60055542427782</td><td>nan .. 455.27496432831776</td><td>nan .. 256.5550537109375</td><td>7.042694210249146</td><td>False</td><td>nan .. 458.0</td><td>True</td><td>0.2 .. 4.999999999999999</td><td>79.3514926485241 .. 952.8523317611915</td></tr>\n",
       "</table></div>"
      ],
      "text/plain": [
       "<Table length=11>\n",
       "     time_min          time_max      ...             stat_scan [1,11]           \n",
       "                                     ...                                        \n",
       "     float64           float64       ...                 float64                \n",
       "----------------- ------------------ ... ---------------------------------------\n",
       "59174.01970061281  59174.03356212063 ... 112.10813353714337 .. 916.2117037040198\n",
       "59174.03458026783  59174.04829881451 ... 126.61409840452191 .. 891.2920745345148\n",
       "59174.04913458202 59174.062836007324 ...  110.8907906726669 .. 975.5050338119838\n",
       "59174.06372647877  59174.07741072641 ...   83.1958078775222 .. 987.0157273194475\n",
       "59174.07831871167  59174.09210337368 ...   89.9076389018422 .. 985.8874574455388\n",
       "59174.09287601319  59174.10661263799 ... 104.86209558089269 .. 921.0109605041064\n",
       "59174.10755984179  59174.12127623159 ... 74.16091700918707 .. 1005.2971399996472\n",
       "59174.12211270787  59174.13590920742 ...  61.05404854609784 .. 1083.201714307384\n",
       "59174.13670877219  59174.15047358928 ... 80.80930060698566 .. 1019.0784521428328\n",
       "59174.15136390725  59174.16478350505 ...  86.64637035586507 .. 963.1221560891937\n",
       "59174.16587087028  59174.17952609609 ...   79.3514926485241 .. 952.8523317611915"
      ]
     },
     "execution_count": 24,
     "metadata": {},
     "output_type": "execute_result"
    }
   ],
   "source": [
    "# Check the various column data of the Light Curve object\n",
    "lc_1d.to_table(sed_type=\"flux\", format=\"lightcurve\")"
   ]
  },
  {
   "cell_type": "code",
   "execution_count": 25,
   "id": "da1cd90e",
   "metadata": {},
   "outputs": [
    {
     "data": {
      "text/html": [
       "<div><i>Table length=1</i>\n",
       "<table id=\"table140178811003424\" class=\"table-striped table-bordered table-condensed\">\n",
       "<thead><tr><th>time_min</th><th>time_max</th><th>e_ref [1]</th><th>e_min [1]</th><th>e_max [1]</th><th>flux [1]</th><th>flux_err [1]</th><th>flux_errp [1]</th><th>flux_errn [1]</th><th>flux_ul [1]</th><th>ts [1]</th><th>sqrt_ts [1]</th><th>npred [1,11]</th><th>npred_excess [1,11]</th><th>stat [1]</th><th>is_ul [1]</th><th>counts [1,11]</th><th>success [1]</th><th>norm_scan [1,11]</th><th>stat_scan [1,11]</th></tr></thead>\n",
       "<thead><tr><th></th><th></th><th>TeV</th><th>TeV</th><th>TeV</th><th>1 / (cm2 s)</th><th>1 / (cm2 s)</th><th>1 / (cm2 s)</th><th>1 / (cm2 s)</th><th>1 / (cm2 s)</th><th></th><th></th><th></th><th></th><th></th><th></th><th></th><th></th><th></th><th></th></tr></thead>\n",
       "<thead><tr><th>float64</th><th>float64</th><th>float64</th><th>float64</th><th>float64</th><th>float64</th><th>float64</th><th>float64</th><th>float64</th><th>float64</th><th>float64</th><th>float64</th><th>float64</th><th>float64</th><th>float64</th><th>bool</th><th>float64</th><th>bool</th><th>float64</th><th>float64</th></tr></thead>\n",
       "<tr><td>59173.50080074074</td><td>59174.50080074074</td><td>3.6254207399646123</td><td>0.32859188854413895</td><td>40.0</td><td>9.850053548655774e-11</td><td>2.728733822435559e-12</td><td>2.7362030213745862e-12</td><td>2.721373125434961e-12</td><td>1.0398816005393912e-10</td><td>1366.31638107646</td><td>36.96371708955229</td><td>456.5964168914928 .. 458.2324465544902</td><td>265.41278076171875 .. 260.7059326171875</td><td>117.93038384472474</td><td>False</td><td>477.0 .. 458.0</td><td>True</td><td>0.2 .. 4.999999999999999</td><td>1009.6006941412489 .. 10700.474751619859</td></tr>\n",
       "</table></div>"
      ],
      "text/plain": [
       "<Table length=1>\n",
       "     time_min          time_max     ...             stat_scan [1,11]            \n",
       "                                    ...                                         \n",
       "     float64           float64      ...                 float64                 \n",
       "----------------- ----------------- ... ----------------------------------------\n",
       "59173.50080074074 59174.50080074074 ... 1009.6006941412489 .. 10700.474751619859"
      ]
     },
     "execution_count": 25,
     "metadata": {},
     "output_type": "execute_result"
    }
   ],
   "source": [
    "# If there are more than 1 night of data, one can see the integrated light curve for each night\n",
    "lc_night.to_table(sed_type=\"flux\", format=\"lightcurve\")"
   ]
  },
  {
   "cell_type": "markdown",
   "id": "78c40f9e",
   "metadata": {},
   "source": [
    "# 5. Plot the Light Curve"
   ]
  },
  {
   "cell_type": "code",
   "execution_count": 26,
   "id": "6c010bef",
   "metadata": {},
   "outputs": [
    {
     "name": "stdout",
     "output_type": "stream",
     "text": [
      "1.1988092745620748e-10 1 / (cm2 s) 1.3284263540422391e-12 1 / (cm2 s)\n"
     ]
    },
    {
     "name": "stderr",
     "output_type": "stream",
     "text": [
      "/home/chaitanya.priyadarsh/anaconda3/envs/lst-dev/lib/python3.8/site-packages/astropy/units/quantity.py:377: VisibleDeprecationWarning: Creating an ndarray from ragged nested sequences (which is a list-or-tuple of lists-or-tuples-or ndarrays with different lengths or shapes) is deprecated. If you meant to do this, you must specify 'dtype=object' when creating the ndarray.\n",
      "  value = np.array(value, dtype=dtype, copy=copy, order=order,\n"
     ]
    }
   ],
   "source": [
    "# Calculate & plot Crab reference flux\n",
    "# https://doi.org/10.1016/j.jheap.2015.01.002\n",
    "crab = create_crab_spectral_model(\"magic_lp\")\n",
    "crab.amplitude.error = 0.03e-11 * u.Unit(\"cm-2 s-1 TeV-1\")\n",
    "crab.alpha.error = 0.01\n",
    "crab.beta.error = 0.01/np.log(10)\n",
    "\n",
    "flux_crab, flux_crab_error = crab.integral_error(e_fit_min, e_fit_max)\n",
    "print(flux_crab, flux_crab_error)"
   ]
  },
  {
   "cell_type": "code",
   "execution_count": 27,
   "id": "a6297d89",
   "metadata": {
    "scrolled": true
   },
   "outputs": [
    {
     "name": "stderr",
     "output_type": "stream",
     "text": [
      "No artists with labels found to put in legend.  Note that artists whose label start with an underscore are ignored when legend() is called with no argument.\n"
     ]
    },
    {
     "data": {
      "text/plain": [
       "<matplotlib.legend.Legend at 0x7f7dec4deb50>"
      ]
     },
     "execution_count": 27,
     "metadata": {},
     "output_type": "execute_result"
    },
    {
     "data": {
      "image/png": "[encoded data removed]",
      "text/plain": [
       "<Figure size 576x720 with 2 Axes>"
      ]
     },
     "metadata": {
      "needs_background": "light"
     },
     "output_type": "display_data"
    }
   ],
   "source": [
    "fig_lc = plt.figure(figsize=(8,10))\n",
    "\n",
    "gs2 = GridSpec(10, 5)\n",
    "\n",
    "gs2.update(wspace=0.4)\n",
    "args1 = [gs2[:5,:]]\n",
    "args2 = [gs2[5:,:]]\n",
    "\n",
    "fig_gs1 = fig_lc.add_subplot(*args1)\n",
    "fig_gs2 = fig_lc.add_subplot(*args2, sharey=fig_gs1)\n",
    "\n",
    "lc_1d.plot(\n",
    "    ax=fig_gs1,\n",
    "    sed_type=\"flux\",\n",
    "    marker=\"o\", label=\"LST-1\"\n",
    ")\n",
    "fig_gs1.axhline(\n",
    "    flux_crab.to_value(\"cm-2 s-1\"), c='red', ls='--', \n",
    "    label='Crab (MAGIC, JHEAp 2015)'\n",
    ")\n",
    "fig_gs1.axhspan(\n",
    "    (flux_crab - flux_crab_error).to_value(\"cm-2 s-1\"), \n",
    "    (flux_crab + flux_crab_error).to_value(\"cm-2 s-1\"), \n",
    "    alpha=0.2, color='tab:orange'\n",
    ")\n",
    "fig_gs1.get_xaxis().set_ticklabels([])\n",
    "fig_gs1.grid(which='both')\n",
    "fig_gs1.set_title(\n",
    "    f'LC LST-1 {obj_name}: {e_fit_min} < E < {e_fit_max} \\nRun-wise {tot_time.sum()/3600:.2f} hrs, night-wise {len(t_day)} nights'\n",
    ")\n",
    "fig_gs1.legend()\n",
    "fig_gs1.get_yaxis().get_offset_text().set_position((-0.06,1))\n",
    "\n",
    "lc_night.plot(\n",
    "    ax=fig_gs2,\n",
    "    sed_type=\"flux\",\n",
    "    axis_name=\"time\",\n",
    "    marker=\"o\", label=\"LST-1\"\n",
    ")\n",
    "fig_gs2.axhline(\n",
    "    flux_crab.to_value(\"cm-2 s-1\"), c='red', ls='--', \n",
    "    label='Crab (MAGIC, JHEAp 2015)'\n",
    ")\n",
    "fig_gs2.axhspan(\n",
    "    (flux_crab - flux_crab_error).to_value(\"cm-2 s-1\"), \n",
    "    (flux_crab + flux_crab_error).to_value(\"cm-2 s-1\"), \n",
    "    alpha=0.2, color='tab:orange'\n",
    ")\n",
    "\n",
    "fig_gs2.grid(which='both')\n",
    "fig_gs2.legend()"
   ]
  },
  {
   "cell_type": "code",
   "execution_count": null,
   "id": "d8eec94c",
   "metadata": {},
   "outputs": [],
   "source": []
  }
 ],
 "metadata": {
  "kernelspec": {
   "display_name": "lst-dev",
   "language": "python",
   "name": "lst-dev"
  },
  "language_info": {
   "codemirror_mode": {
    "name": "ipython",
    "version": 3
   },
   "file_extension": ".py",
   "mimetype": "text/x-python",
   "name": "python",
   "nbconvert_exporter": "python",
   "pygments_lexer": "ipython3",
   "version": "3.8.12"
  }
 },
 "nbformat": 4,
 "nbformat_minor": 5
}
