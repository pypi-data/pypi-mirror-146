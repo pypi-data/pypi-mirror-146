{
 "cells": [
  {
   "cell_type": "markdown",
   "metadata": {},
   "source": [
    "#  Chapter 3"
   ]
  },
  {
   "cell_type": "code",
   "execution_count": 1,
   "metadata": {},
   "outputs": [],
   "source": [
    "import numpy as np\n",
    "from numpy.linalg import *\n",
    "from math import pi, sqrt\n",
    "import scipy as sp\n",
    "from sympy import simplify\n",
    "\n",
    "import matplotlib; matplotlib.use(\"TkAgg\") #THIS IS KEY TO ANIMATIONS WORKING\n",
    "import matplotlib.pyplot as plt\n",
    "\n",
    "from spatialmath.base import *\n",
    "from spatialmath.base import sym\n",
    "from spatialmath import SE3, SO2, SO3, UnitQuaternion\n",
    "from roboticstoolbox import tpoly, lspb, mtraj, qplot, ctraj\n",
    "\n",
    "np.set_printoptions(linewidth=120, formatter={'float': lambda x: f\"{x:8.4g}\" if abs(x) > 1e-10 else f\"{0:8.4g}\"})\n",
    "\n",
    "%config ZMQInteractiveShell.ast_node_interactivity = 'last_expr_or_assign'\n"
   ]
  },
  {
   "cell_type": "code",
   "execution_count": 6,
   "metadata": {},
   "outputs": [
    {
     "name": "stdout",
     "output_type": "stream",
     "text": [
      "calling run\n",
      "returning from run\n"
     ]
    }
   ],
   "source": [
    "J = np.array([[2, -1, 0], [-1, 4, 0], [0, 0, 3]])\n",
    "dt = 0.05\n",
    "def attitude():\n",
    "   attitude = UnitQuaternion()\n",
    "   w = 0.2 * np.r_[1, 2, 2].T\n",
    "   for t in np.arange(0, 10, dt):\n",
    "      wd =  -np.linalg.inv(J) @ (np.cross(w, J @ w))\n",
    "      w += wd * dt\n",
    "      attitude.increment(w * dt)\n",
    "      yield attitude.R\n",
    "    \n",
    "plotvol3(2)\n",
    "tranimate(attitude())\n"
   ]
  },
  {
   "cell_type": "markdown",
   "metadata": {},
   "source": [
    "# Sec 3.1 Time-varying pose\n",
    "## Sec. 3.1.2 transforming spatial velocity"
   ]
  },
  {
   "cell_type": "code",
   "execution_count": 7,
   "metadata": {},
   "outputs": [
    {
     "data": {
      "text/plain": [
       "SE3:  \u001b[38;5;1m 0          \u001b[0m\u001b[38;5;1m 0          \u001b[0m\u001b[38;5;1m-1          \u001b[0m\u001b[38;5;4m-2          \u001b[0m  \u001b[0m\n",
       "      \u001b[38;5;1m-1          \u001b[0m\u001b[38;5;1m 0          \u001b[0m\u001b[38;5;1m 0          \u001b[0m\u001b[38;5;4m 0          \u001b[0m  \u001b[0m\n",
       "      \u001b[38;5;1m 0          \u001b[0m\u001b[38;5;1m 1          \u001b[0m\u001b[38;5;1m 0          \u001b[0m\u001b[38;5;4m 0          \u001b[0m  \u001b[0m\n",
       "      \u001b[38;5;244m 0          \u001b[0m\u001b[38;5;244m 0          \u001b[0m\u001b[38;5;244m 0          \u001b[0m\u001b[38;5;244m 1          \u001b[0m  \u001b[0m\n",
       "    "
      ]
     },
     "execution_count": 7,
     "metadata": {},
     "output_type": "execute_result"
    }
   ],
   "source": [
    "aTb = SE3(-2, 0, 0) * SE3.Rz(-pi/2) * SE3.Rx(pi/2)"
   ]
  },
  {
   "cell_type": "code",
   "execution_count": 8,
   "metadata": {},
   "outputs": [],
   "source": [
    "wT = SE3()\n",
    "aTb = SE3(-2, 0, 0) * SE3.Rz(-pi/2) * SE3.Rx(pi/2);\n",
    "\n",
    "plotvol3(5)\n",
    "wT.plot(frame='A', color='b')\n",
    "aTb.plot(frame='B', color='r')"
   ]
  },
  {
   "cell_type": "code",
   "execution_count": 9,
   "metadata": {},
   "outputs": [
    {
     "data": {
      "text/plain": [
       "[1, 2, 3, 4, 5, 6]"
      ]
     },
     "execution_count": 9,
     "metadata": {},
     "output_type": "execute_result"
    }
   ],
   "source": [
    "# body to world frame\n",
    "bV = [1, 2, 3, 4, 5, 6]"
   ]
  },
  {
   "cell_type": "code",
   "execution_count": 10,
   "metadata": {},
   "outputs": [
    {
     "data": {
      "text/plain": [
       "array([      -3,       -1,        2,       -6,       -4,        5])"
      ]
     },
     "execution_count": 10,
     "metadata": {},
     "output_type": "execute_result"
    }
   ],
   "source": [
    "aV = aTb.jacob() @ bV"
   ]
  },
  {
   "cell_type": "code",
   "execution_count": 11,
   "metadata": {},
   "outputs": [
    {
     "data": {
      "text/plain": [
       "array([      -3,       -1,        2,        0,        0,        0])"
      ]
     },
     "execution_count": 11,
     "metadata": {},
     "output_type": "execute_result"
    }
   ],
   "source": [
    "# same body\n",
    "aV = aTb.Ad() @ [1, 2, 3, 0, 0, 0]"
   ]
  },
  {
   "cell_type": "code",
   "execution_count": 12,
   "metadata": {},
   "outputs": [
    {
     "data": {
      "text/plain": [
       "array([       0,        0,        2,        0,       -1,        0])"
      ]
     },
     "execution_count": 12,
     "metadata": {},
     "output_type": "execute_result"
    }
   ],
   "source": [
    "aV = aTb.Ad() @ [0, 0, 0, 1, 0, 0]"
   ]
  },
  {
   "cell_type": "code",
   "execution_count": 13,
   "metadata": {
    "lines_to_next_cell": 2
   },
   "outputs": [
    {
     "data": {
      "text/plain": [
       "array([      -3,       -1,        4,        0,       -1,        0])"
      ]
     },
     "execution_count": 13,
     "metadata": {},
     "output_type": "execute_result"
    }
   ],
   "source": [
    "aV = aTb.Ad() @ [1, 2, 3, 1, 0, 0]"
   ]
  },
  {
   "cell_type": "markdown",
   "metadata": {},
   "source": [
    "# 3.1.3 incremental rotation"
   ]
  },
  {
   "cell_type": "code",
   "execution_count": 14,
   "metadata": {
    "lines_to_next_cell": 2
   },
   "outputs": [
    {
     "data": {
      "text/plain": [
       "array([[       1,        0,        0],\n",
       "       [       0,        1,   -0.001],\n",
       "       [       0,    0.001,        1]])"
      ]
     },
     "execution_count": 14,
     "metadata": {},
     "output_type": "execute_result"
    }
   ],
   "source": [
    "rotx(0.001)"
   ]
  },
  {
   "cell_type": "code",
   "execution_count": 15,
   "metadata": {},
   "outputs": [],
   "source": [
    "R1 = np.eye(3,3);\n",
    "R1cheap = np.eye(3,3);\n",
    "w = np.r_[1, 0, 0]\n",
    "dt = 0.01\n",
    "for i in range(100):\n",
    "   R1 = R1 @ trexp(skew(w*dt))\n",
    "   R1cheap = R1cheap + R1cheap @ skew(w*dt)"
   ]
  },
  {
   "cell_type": "code",
   "execution_count": 16,
   "metadata": {},
   "outputs": [
    {
     "data": {
      "text/plain": [
       "-2.886579864025407e-15"
      ]
     },
     "execution_count": 16,
     "metadata": {},
     "output_type": "execute_result"
    }
   ],
   "source": [
    "np.linalg.det(R1) - 1"
   ]
  },
  {
   "cell_type": "code",
   "execution_count": 17,
   "metadata": {},
   "outputs": [
    {
     "data": {
      "text/plain": [
       "0.010049662092876055"
      ]
     },
     "execution_count": 17,
     "metadata": {},
     "output_type": "execute_result"
    }
   ],
   "source": [
    "np.linalg.det(R1cheap) - 1"
   ]
  },
  {
   "cell_type": "code",
   "execution_count": 18,
   "metadata": {},
   "outputs": [
    {
     "data": {
      "text/plain": [
       "(1.0, array([       1,        0,        0]))"
      ]
     },
     "execution_count": 18,
     "metadata": {},
     "output_type": "execute_result"
    }
   ],
   "source": [
    "tr2angvec(trnorm(R1))"
   ]
  },
  {
   "cell_type": "code",
   "execution_count": 19,
   "metadata": {},
   "outputs": [
    {
     "data": {
      "text/plain": [
       "(0.9999666686665241, array([       1,        0,        0]))"
      ]
     },
     "execution_count": 19,
     "metadata": {},
     "output_type": "execute_result"
    }
   ],
   "source": [
    "tr2angvec(trnorm(R1cheap))"
   ]
  },
  {
   "cell_type": "markdown",
   "metadata": {},
   "source": [
    "# 3.2.1 dynamics of moving bodies"
   ]
  },
  {
   "cell_type": "code",
   "execution_count": 20,
   "metadata": {
    "scrolled": true
   },
   "outputs": [
    {
     "data": {
      "text/plain": [
       "array([[ 2, -1,  0],\n",
       "       [-1,  4,  0],\n",
       "       [ 0,  0,  3]])"
      ]
     },
     "execution_count": 20,
     "metadata": {},
     "output_type": "execute_result"
    }
   ],
   "source": [
    "J = np.array([[2, -1, 0], [-1, 4, 0], [0, 0, 3]])"
   ]
  },
  {
   "cell_type": "code",
   "execution_count": 21,
   "metadata": {
    "lines_to_next_cell": 1
   },
   "outputs": [
    {
     "data": {
      "text/plain": [
       "0.05"
      ]
     },
     "execution_count": 21,
     "metadata": {},
     "output_type": "execute_result"
    }
   ],
   "source": [
    "dt = 0.05"
   ]
  },
  {
   "cell_type": "code",
   "execution_count": 22,
   "metadata": {
    "lines_to_next_cell": 1
   },
   "outputs": [],
   "source": [
    "def attitude():\n",
    "   attitude = UnitQuaternion()\n",
    "   w = 0.2 * np.r_[1, 2, 2].T\n",
    "   for t in np.arange(0, 10, dt):\n",
    "      wd =  -np.linalg.inv(J) @ (np.cross(w, J @ w))\n",
    "      w += wd * dt\n",
    "      attitude.increment(w * dt)\n",
    "      yield r2t(attitude.R)"
   ]
  },
  {
   "cell_type": "code",
   "execution_count": 23,
   "metadata": {},
   "outputs": [
    {
     "name": "stdout",
     "output_type": "stream",
     "text": [
      "calling run\n",
      "returning from run\n"
     ]
    }
   ],
   "source": [
    "plt.figure()\n",
    "plotvol3(2)\n",
    "tranimate(attitude())"
   ]
  },
  {
   "cell_type": "markdown",
   "metadata": {},
   "source": [
    "# 3.2.2 transforming forces/torques\n",
    "wrench example"
   ]
  },
  {
   "cell_type": "code",
   "execution_count": 24,
   "metadata": {},
   "outputs": [
    {
     "data": {
      "text/plain": [
       "array([      -3,       -1,        2,        0,        4,        2])"
      ]
     },
     "execution_count": 24,
     "metadata": {},
     "output_type": "execute_result"
    }
   ],
   "source": [
    "aW = aTb.inv().Ad().T @ [1, 2, 3, 0, 0, 0]"
   ]
  },
  {
   "cell_type": "markdown",
   "metadata": {},
   "source": [
    "# 3.3 smooth 1D trajectories"
   ]
  },
  {
   "cell_type": "code",
   "execution_count": 25,
   "metadata": {},
   "outputs": [],
   "source": [
    "traj = tpoly(0, 1, np.linspace(0, 1, 50))\n",
    "traj.plot()"
   ]
  },
  {
   "cell_type": "code",
   "execution_count": 26,
   "metadata": {},
   "outputs": [],
   "source": [
    "traj2 = tpoly(0, 1, np.linspace(0, 1, 50), 10, 0)\n",
    "traj2.plot()"
   ]
  },
  {
   "cell_type": "code",
   "execution_count": 27,
   "metadata": {},
   "outputs": [
    {
     "data": {
      "text/plain": [
       "0.523102222222222"
      ]
     },
     "execution_count": 27,
     "metadata": {},
     "output_type": "execute_result"
    }
   ],
   "source": [
    "np.mean(traj.yd) / np.max(traj.yd)"
   ]
  },
  {
   "cell_type": "code",
   "execution_count": 28,
   "metadata": {},
   "outputs": [],
   "source": [
    "traj = lspb(0, 1, np.linspace(0, 1, 50))\n",
    "traj.plot()"
   ]
  },
  {
   "cell_type": "code",
   "execution_count": 29,
   "metadata": {},
   "outputs": [
    {
     "data": {
      "text/plain": [
       "0.653061224489796"
      ]
     },
     "execution_count": 29,
     "metadata": {},
     "output_type": "execute_result"
    }
   ],
   "source": [
    "np.mean(traj.yd) / np.max(traj.yd)"
   ]
  },
  {
   "cell_type": "code",
   "execution_count": 31,
   "metadata": {},
   "outputs": [],
   "source": [
    "traj = lspb(0, 1, np.linspace(0, 1, 50))\n",
    "traj.plot()"
   ]
  },
  {
   "cell_type": "code",
   "execution_count": 33,
   "metadata": {},
   "outputs": [],
   "source": [
    "traj = lspb(0, 1, np.linspace(0, 1, 50), 1.2)\n",
    "traj.plot()"
   ]
  },
  {
   "cell_type": "code",
   "execution_count": 34,
   "metadata": {},
   "outputs": [
    {
     "data": {
      "text/plain": [
       "1.2"
      ]
     },
     "execution_count": 34,
     "metadata": {},
     "output_type": "execute_result"
    }
   ],
   "source": [
    "np.max(traj.yd)"
   ]
  },
  {
   "cell_type": "markdown",
   "metadata": {},
   "source": [
    "# 3.3.2 multi-dimensional case"
   ]
  },
  {
   "cell_type": "code",
   "execution_count": 35,
   "metadata": {},
   "outputs": [],
   "source": [
    "q = mtraj(lspb, [0, 2], [1, -1], 50)\n",
    "qplot(q.y)\n",
    "# HACK q = [T1.t' T1.torpy]"
   ]
  },
  {
   "cell_type": "code",
   "execution_count": null,
   "metadata": {},
   "outputs": [],
   "source": [
    "## 3.3.3 multi-segment trajectoreis\n",
    "via = SO2(30, unit='deg') * np.array([[-1, 1, 1, -1, -1], [1, 1, -1, -1, 1]])"
   ]
  },
  {
   "cell_type": "code",
   "execution_count": null,
   "metadata": {},
   "outputs": [],
   "source": [
    "traj0 = mstraj(via.T, dt=0.2, tacc=0, qdmax=[2, 1])"
   ]
  },
  {
   "cell_type": "code",
   "execution_count": null,
   "metadata": {},
   "outputs": [],
   "source": [
    "plt.plot(traj0.q[:,0], traj0.q[:,1])"
   ]
  },
  {
   "cell_type": "code",
   "execution_count": null,
   "metadata": {
    "lines_to_next_cell": 2
   },
   "outputs": [],
   "source": [
    "traj2 = mstraj(via.T, dt=0.2, tacc=2, qdmax=[2, 1])"
   ]
  },
  {
   "cell_type": "markdown",
   "metadata": {},
   "source": [
    "HACK q0 = mstraj(via(:,[2 3 4 1])', [2,1], [], via(:,1)', 0.2, 0)\n",
    "HACK plot(q0[:,0], q0[:,1])"
   ]
  },
  {
   "cell_type": "markdown",
   "metadata": {},
   "source": [
    "HACK q2 = mstraj(via(:,[2 3 4 1])', [2,1], [], via(:,1)', 0.2, 2)"
   ]
  },
  {
   "cell_type": "code",
   "execution_count": null,
   "metadata": {},
   "outputs": [],
   "source": [
    "[len(traj0), len(traj2)]"
   ]
  },
  {
   "cell_type": "code",
   "execution_count": null,
   "metadata": {},
   "outputs": [],
   "source": [
    "## 3.3.4 interpotation of orientation\n",
    "R0 = SO3.Rz(-1) * SO3.Ry(-1)\n",
    "R1 = SO3.Rz(1) * SO3.Ry(1)"
   ]
  },
  {
   "cell_type": "code",
   "execution_count": null,
   "metadata": {},
   "outputs": [],
   "source": [
    "rpy0 = R0.rpy()\n",
    "rpy1 = R1.rpy()\n",
    "rpy = mtraj(tpoly, rpy0, rpy1, 50)\n",
    "pose = SO3.RPY(rpy.y)\n",
    "len(pose)\n",
    "plotvol3(2); pose.animate()"
   ]
  },
  {
   "cell_type": "code",
   "execution_count": null,
   "metadata": {},
   "outputs": [],
   "source": [
    "q0 = UnitQuaternion(R0)\n",
    "q1 = UnitQuaternion(R1)"
   ]
  },
  {
   "cell_type": "code",
   "execution_count": null,
   "metadata": {},
   "outputs": [],
   "source": [
    "# HACK\n",
    "q = q0.interp(q1, 50)\n",
    "len(q)\n",
    "plotvol3(2); q.animate()"
   ]
  },
  {
   "cell_type": "code",
   "execution_count": null,
   "metadata": {},
   "outputs": [],
   "source": [
    "## 3.3.5 direction of rotation\n",
    "q0 = UnitQuaternion.Rz(-2)\n",
    "q1 = UnitQuaternion.Rz(2)\n",
    "q = q0.interp(q1, 50)\n",
    "q.animate()"
   ]
  },
  {
   "cell_type": "code",
   "execution_count": null,
   "metadata": {},
   "outputs": [],
   "source": [
    "q = q0.interp(q1, 50, shortest=True)\n",
    "q.animate()"
   ]
  },
  {
   "cell_type": "code",
   "execution_count": null,
   "metadata": {
    "lines_to_next_cell": 2
   },
   "outputs": [],
   "source": [
    "## 3.3.6 Cartesian motion\n",
    "T0 = SE3([0.4, 0.2, 0]) * SE3.RPY([0, 0, 3])\n",
    "T1 = SE3([-0.4, -0.2, 0.3]) * SE3.RPY([-pi/4, pi/4, -pi/2])"
   ]
  },
  {
   "cell_type": "code",
   "execution_count": null,
   "metadata": {},
   "outputs": [],
   "source": [
    "T0.interp(T1, 0.5)"
   ]
  },
  {
   "cell_type": "code",
   "execution_count": null,
   "metadata": {},
   "outputs": [],
   "source": [
    "Ts = T0.interp(T1, 50)"
   ]
  },
  {
   "cell_type": "code",
   "execution_count": null,
   "metadata": {},
   "outputs": [],
   "source": [
    "len(Ts)"
   ]
  },
  {
   "cell_type": "code",
   "execution_count": null,
   "metadata": {},
   "outputs": [],
   "source": [
    "Ts[0]"
   ]
  },
  {
   "cell_type": "code",
   "execution_count": null,
   "metadata": {},
   "outputs": [],
   "source": [
    "plotvol3(2)\n",
    "Ts.animate()\n",
    "P = Ts.t\n",
    "P.shape\n",
    "qplot(P)"
   ]
  },
  {
   "cell_type": "code",
   "execution_count": null,
   "metadata": {
    "lines_to_next_cell": 2
   },
   "outputs": [],
   "source": [
    "rpy = Ts.rpy()\n",
    "qplot(rpy)"
   ]
  },
  {
   "cell_type": "code",
   "execution_count": null,
   "metadata": {
    "lines_to_next_cell": 2
   },
   "outputs": [],
   "source": [
    "Ts = T0.interp(T1,lspb(0, 1, 50).y)\n",
    "Ts = ctraj(T0, T1, 50)"
   ]
  },
  {
   "cell_type": "markdown",
   "metadata": {},
   "source": [
    "# 3.4.1.2 estimating orientation"
   ]
  },
  {
   "cell_type": "code",
   "execution_count": null,
   "metadata": {},
   "outputs": [],
   "source": [
    "from imu_data import IMU\n",
    "true, imu = IMU()"
   ]
  },
  {
   "cell_type": "code",
   "execution_count": null,
   "metadata": {},
   "outputs": [],
   "source": [
    "attitude = UnitQuaternion()\n",
    "for w in true.omega[:-1,:]:\n",
    "   attitude.append(attitude[-1] * UnitQuaternion.EulerVec(w*true.dt))"
   ]
  },
  {
   "cell_type": "code",
   "execution_count": null,
   "metadata": {},
   "outputs": [],
   "source": [
    "print(attitude[99])\n",
    "attitude.animate(true=imu.t)"
   ]
  },
  {
   "cell_type": "code",
   "execution_count": null,
   "metadata": {},
   "outputs": [],
   "source": [
    "plt.clf()\n",
    "plt.plot(true.t, attitude.rpy())"
   ]
  },
  {
   "cell_type": "code",
   "execution_count": null,
   "metadata": {},
   "outputs": [],
   "source": [
    "## 3.4.4 sensor fusion\n",
    "from imu_data import IMU\n",
    "true, imu = IMU()\n",
    "t = imu.t\n",
    "attitude_naive = UnitQuaternion()\n",
    "for w in imu.gyro[:-1]:\n",
    "   attitude_naive.append(attitude_naive[-1] * UnitQuaternion.EulerVec(w * imu.dt))"
   ]
  },
  {
   "cell_type": "code",
   "execution_count": null,
   "metadata": {},
   "outputs": [],
   "source": [
    "plt.clf()\n",
    "plt.plot(attitude_naive.rpy())\n",
    "plt.title('naive')\n",
    "plt.figure()\n",
    "plt.plot(true.attitude.rpy())\n",
    "plt.title('true')\n",
    "plt.figure()\n",
    "plt.plot(t, attitude_naive.angdist(true.attitude, metric=1), 'r' )"
   ]
  },
  {
   "cell_type": "code",
   "execution_count": null,
   "metadata": {},
   "outputs": [],
   "source": [
    "kI = 0.2\n",
    "kP =1"
   ]
  },
  {
   "cell_type": "code",
   "execution_count": null,
   "metadata": {},
   "outputs": [],
   "source": [
    "b = np.zeros(imu.gyro.shape)  # initial bias\n",
    "attitude_ECF = UnitQuaternion()"
   ]
  },
  {
   "cell_type": "code",
   "execution_count": null,
   "metadata": {
    "lines_to_next_cell": 2
   },
   "outputs": [],
   "source": [
    "for k, (wm, am, mm) in enumerate(zip(imu.gyro[:-1], imu.accel[:-1], imu.magno[:-1])):\n",
    "   invq = attitude_ecf[k].inv()\n",
    "   sigmaR = np.cross(am, invq * true.g) + np.cross(mm, invq * true.B)\n",
    "   wp = wm - b[k,:] + kP * sigmaR\n",
    "   attitude_ECF.append(attitude_ECF[k] * UnitQuaternion.EulerVec(wp * imu.dt))\n",
    "   b[k+1,:] = b[k,:] - kI * sigmaR * imu.dt"
   ]
  },
  {
   "cell_type": "code",
   "execution_count": null,
   "metadata": {},
   "outputs": [],
   "source": [
    "plt.plot(t, attitude_ECF.angdist(true.attitude, metric=1), 'b')\n",
    "plt.xlim(0, 20)\n",
    "plt.ylim(0, 0.8)\n",
    "plt.legend('Naive integration', 'ECF')"
   ]
  },
  {
   "cell_type": "code",
   "execution_count": null,
   "metadata": {},
   "outputs": [],
   "source": [
    "plt.figure()\n",
    "plt.plot(t, b)\n",
    "plt.show(block=True)"
   ]
  }
 ],
 "metadata": {
  "jupytext": {
   "cell_metadata_filter": "-all",
   "notebook_metadata_filter": "-all",
   "text_representation": {
    "extension": ".py",
    "format_name": "light"
   }
  },
  "kernelspec": {
   "display_name": "Python 3",
   "language": "python",
   "name": "python3"
  },
  "language_info": {
   "codemirror_mode": {
    "name": "ipython",
    "version": 3
   },
   "file_extension": ".py",
   "mimetype": "text/x-python",
   "name": "python",
   "nbconvert_exporter": "python",
   "pygments_lexer": "ipython3",
   "version": "3.8.5"
  },
  "toc": {
   "base_numbering": 1,
   "nav_menu": {},
   "number_sections": true,
   "sideBar": true,
   "skip_h1_title": false,
   "title_cell": "Table of Contents",
   "title_sidebar": "Contents",
   "toc_cell": false,
   "toc_position": {},
   "toc_section_display": true,
   "toc_window_display": false
  },
  "varInspector": {
   "cols": {
    "lenName": 16,
    "lenType": 16,
    "lenVar": 40
   },
   "kernels_config": {
    "python": {
     "delete_cmd_postfix": "",
     "delete_cmd_prefix": "del ",
     "library": "var_list.py",
     "varRefreshCmd": "print(var_dic_list())"
    },
    "r": {
     "delete_cmd_postfix": ") ",
     "delete_cmd_prefix": "rm(",
     "library": "var_list.r",
     "varRefreshCmd": "cat(var_dic_list()) "
    }
   },
   "types_to_exclude": [
    "module",
    "function",
    "builtin_function_or_method",
    "instance",
    "_Feature"
   ],
   "window_display": false
  }
 },
 "nbformat": 4,
 "nbformat_minor": 4
}
