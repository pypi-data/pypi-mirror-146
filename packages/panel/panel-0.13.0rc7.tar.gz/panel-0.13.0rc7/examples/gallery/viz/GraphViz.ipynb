{
 "cells": [
  {
   "cell_type": "code",
   "execution_count": null,
   "id": "fc69e05f-be77-4c75-9157-60c60dcba6a5",
   "metadata": {},
   "outputs": [],
   "source": [
    "from graphviz import Graph\n",
    "import panel as pn\n",
    "\n",
    "pn.extension(sizing_mode=\"stretch_width\")"
   ]
  },
  {
   "cell_type": "markdown",
   "id": "fe92851c-51a2-4684-97a5-a1603da30ff2",
   "metadata": {},
   "source": [
    "# Panel and GraphViz\n",
    "\n",
    "The purpose of this example is to show how easy it is to use [GraphViz](https://graphviz.readthedocs.io/en/stable/manual.html#) with Panel."
   ]
  },
  {
   "cell_type": "markdown",
   "id": "15f4789d-68d2-43d9-9791-8b7659f85be4",
   "metadata": {},
   "source": [
    "## Creating a Graph with GraphViz\n",
    "\n",
    "This section is independent of Panel. You can find a tutorial and examples in the [GraphViz Documentation](https://graphviz.readthedocs.io/en/stable/manual.html#)."
   ]
  },
  {
   "cell_type": "code",
   "execution_count": null,
   "id": "c03112b3-cc8d-4d87-a87e-ba21c897072c",
   "metadata": {},
   "outputs": [],
   "source": [
    "def create_graph(word1=\"Hello\", word2=\"world\", node_color='#00aa41'):\n",
    "    graphviz_graph = Graph(word1, format='svg', node_attr={'color': node_color, 'style': 'filled', \"fontcolor\": 'white'})\n",
    "    graphviz_graph.attr(bgcolor='#A01346:pink', label='My Awesome Graph', fontcolor='white')\n",
    "    graphviz_graph.edge(word1, word2)\n",
    "    return graphviz_graph\n",
    "\n",
    "create_graph()"
   ]
  },
  {
   "cell_type": "markdown",
   "id": "3bdace1d-b268-4e10-8285-172b0a5be0c2",
   "metadata": {},
   "source": [
    "## Making the Graph Interactive with Panel\n",
    "\n",
    "Panel recognizes and shows GraphViz objects in the `svg` format out of the box."
   ]
  },
  {
   "cell_type": "code",
   "execution_count": null,
   "id": "60c3d76a-6672-4b28-8dfc-eb43a5511782",
   "metadata": {},
   "outputs": [],
   "source": [
    "word1 = pn.widgets.TextInput(value=\"Hello\", name=\"Node 1\")\n",
    "word2 = pn.widgets.TextInput(value=\"World\", name=\"Node 2\")\n",
    "node_color = pn.widgets.ColorPicker(value='#00aa41', name=\"Node Color\")\n",
    "\n",
    "create_graph = pn.bind(create_graph, word1=word1, word2=word2, node_color=node_color)\n",
    "\n",
    "create_graph_component = pn.Row(pn.Spacer(), pn.panel(create_graph, width=105, sizing_mode=\"fixed\"), pn.Spacer())\n",
    "\n",
    "component = pn.Column(word1, word2, node_color, create_graph_component)\n",
    "component"
   ]
  },
  {
   "cell_type": "markdown",
   "id": "a6d8f7c7-9b94-478d-83cd-d74195e5d947",
   "metadata": {},
   "source": [
    "## Deploying it as an interactive App\n",
    "\n",
    "You can serve the app with `panel serve GraphViz.ipynb` an find the live app at http://localhost:5006/GraphViz"
   ]
  },
  {
   "cell_type": "code",
   "execution_count": null,
   "id": "a8272216-f3a9-4710-8589-ecac9e49cf86",
   "metadata": {},
   "outputs": [],
   "source": [
    "pn.template.FastListTemplate(\n",
    "    site=\"Panel\",\n",
    "    site_url=\"https://panel.holoviz.org/_static/logo_horizontal.png\",\n",
    "    title=\"Graphviz - Basic Example\",\n",
    "    main=[component],\n",
    ").servable();"
   ]
  }
 ],
 "metadata": {
  "kernelspec": {
   "display_name": "Python 3 (ipykernel)",
   "language": "python",
   "name": "python3"
  },
  "language_info": {
   "codemirror_mode": {
    "name": "ipython",
    "version": 3
   },
   "file_extension": ".py",
   "mimetype": "text/x-python",
   "name": "python",
   "nbconvert_exporter": "python",
   "pygments_lexer": "ipython3",
   "version": "3.9.7"
  }
 },
 "nbformat": 4,
 "nbformat_minor": 5
}
