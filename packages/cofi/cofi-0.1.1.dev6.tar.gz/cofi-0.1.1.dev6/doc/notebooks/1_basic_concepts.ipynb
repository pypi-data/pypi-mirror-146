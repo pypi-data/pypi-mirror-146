{
 "cells": [
  {
   "cell_type": "markdown",
   "metadata": {},
   "source": [
    "# 1. CoFI Basic Concepts\n",
    "\n",
    "In this tutorial, we get to know the concepts of \"objective\" and \"solver\" in the context of CoFI (Common Framework of Inversion). \n",
    "\n",
    "The core idea of CoFI is to provide a standard way to define both geophysical problems and inverse solvers, so that different problems (from different sources) can be fed into various solvers that implement this interface.\n",
    "\n",
    "Therefore, knowing how to define problems (we name it \"objective\") and solvers is the first step in this tutorial.\n",
    "\n",
    "The following two blocks are what they look like and what they have:"
   ]
  },
  {
   "cell_type": "code",
   "execution_count": 1,
   "metadata": {},
   "outputs": [],
   "source": [
    "class BaseObjective:\n",
    "    def __init__(self):\n",
    "        pass\n",
    "\n",
    "    def misfit(self, model):\n",
    "        pass"
   ]
  },
  {
   "cell_type": "code",
   "execution_count": 2,
   "metadata": {},
   "outputs": [],
   "source": [
    "class BaseSolver:\n",
    "    def __init__(self, objective):\n",
    "        pass\n",
    "    \n",
    "    def solve(self):\n",
    "        pass"
   ]
  },
  {
   "cell_type": "markdown",
   "metadata": {},
   "source": [
    "The basic requirement of an \"objective\" is to provide an evaluation given a model - we call this function \"misfit\", so that we want it to be as small as possible.\n",
    "\n",
    "The basic requirement of a \"solver\" is to find information about the best-fit model or model distribution. Given a problem description (in form of an \"objective\" instance), each solver has its own way but all will have the function name \"solve\" to start the process and return a result.\n",
    "\n",
    "Note that both of the classes defined above are a part of CoFI package already, so you don't need to define a \"BaseObjective\" or \"BaseSolver\". Whenever we want to define a new problem, we define a subclass of \"BaseObjective\", like how we'll do it in the next code block below. The same idea applies to \"BaseSolver\"."
   ]
  },
  {
   "cell_type": "markdown",
   "metadata": {},
   "source": [
    "### Example: an \"objective\"\n",
    "\n",
    "Here's a minimum example! Let's see how we can define an \"objective\" if we'd like our solver to calculate the \"$x$\" that minimises \"$x^2-2x+1$\". So here the value of this function is our \"misfit\"."
   ]
  },
  {
   "cell_type": "code",
   "execution_count": 3,
   "metadata": {},
   "outputs": [],
   "source": [
    "class MyOwnObjective(BaseObjective):\n",
    "    def __init__(self):\n",
    "        pass\n",
    "\n",
    "    def misfit(self, model):\n",
    "        return model * model - 2 * model + 1\n",
    "    "
   ]
  },
  {
   "cell_type": "markdown",
   "metadata": {},
   "source": [
    "In practice, we usually use collected data to calculate the misfit. In such cases, you can pass in your dataset through the `__init__` constructor and then use them to calculate the misfit."
   ]
  },
  {
   "cell_type": "markdown",
   "metadata": {},
   "source": [
    "### Example: a \"solver\""
   ]
  },
  {
   "cell_type": "markdown",
   "metadata": {},
   "source": [
    "Now that we've got a well defined \"objective\", let's define a very simple solver. "
   ]
  },
  {
   "cell_type": "code",
   "execution_count": 4,
   "metadata": {},
   "outputs": [],
   "source": [
    "class MyOwnSolver(BaseSolver):\n",
    "    def __init__(self, objective):\n",
    "        self.objective = objective\n",
    "\n",
    "    def solve(self):\n",
    "        test_range = [0,1,2,3]\n",
    "        test_misfits = []\n",
    "        for test_model in test_range:\n",
    "            misfit = self.objective.misfit(test_model)\n",
    "            test_misfits.append(misfit)\n",
    "        min_misfit = min(test_misfits)\n",
    "        min_index = test_misfits.index(min_misfit)\n",
    "        return test_range[min_index]"
   ]
  },
  {
   "cell_type": "markdown",
   "metadata": {},
   "source": [
    "This is totally a dumb solver, which only compare the misfit value within an unreasonably small range and return the one that has the lowest misfit. In reality, the \"solve\" function can be very complicated or wrap another optimisation or sampling method. "
   ]
  },
  {
   "cell_type": "markdown",
   "metadata": {},
   "source": [
    "### Example: using `MyOwnSolver` to solve `MyOwnObjective`\n",
    "\n",
    "An example of using the classes defined above:"
   ]
  },
  {
   "cell_type": "code",
   "execution_count": 5,
   "metadata": {},
   "outputs": [
    {
     "name": "stdout",
     "output_type": "stream",
     "text": [
      "best fit model according to our solver: 1\n"
     ]
    }
   ],
   "source": [
    "objective = MyOwnObjective()\n",
    "solver = MyOwnSolver(objective)\n",
    "model = solver.solve()\n",
    "print(\"best fit model according to our solver:\", model)"
   ]
  },
  {
   "cell_type": "markdown",
   "metadata": {},
   "source": [
    "### Under \"objective\": \"forward\"\n",
    "\n",
    "Here we are talking about forward operators, as another possible option to define an objective. \n",
    "\n",
    "Let's take the cannon ball as an example, where there are 3 unknowns:\n",
    "- $m_1$, starting height above the surface\n",
    "- $m_2$, initial velocity\n",
    "- $m_3$, gravitational acceleration\n",
    "\n",
    "With $m_1$, $m_2$ and $m_3$, we get the following relationship between position and time:\n",
    "$$ y(t) = m_1 + m_2 t - \\frac{1}{2} m_3 t^2 $$\n",
    "\n",
    "It's common to use data collected from an experiment to estimate these unknown parameters. If we define this problem by subclassing \"BaseObjective\":"
   ]
  },
  {
   "cell_type": "code",
   "execution_count": 6,
   "metadata": {},
   "outputs": [],
   "source": [
    "class CannonBallObjective(BaseObjective):\n",
    "    def __init__(self, t, y):\n",
    "        self.t = t\n",
    "        self.y = y\n",
    "\n",
    "    def misfit(self, model):\n",
    "        y_predicted = model[0] + model[1] * self.t - 1/2 * model[2] * self.t * self.t\n",
    "        residual = y_predicted - self.y\n",
    "        return residual.T @ residual"
   ]
  },
  {
   "cell_type": "markdown",
   "metadata": {},
   "source": [
    "Given a forward problem, if we'd like to use least squares to calculate misfit, then the formula is always to perform a forward operation and then calculate the L2 norm of the residual vector. So I came to thinking maybe we can let users define less if they want to, and implement this pattern on our side."
   ]
  },
  {
   "cell_type": "code",
   "execution_count": 7,
   "metadata": {},
   "outputs": [],
   "source": [
    "# LeastSquaresObjective is included in cofi, here (below) is only some sample code\n",
    "# from cofi.cofi_objective import LeastSquareObjective\n",
    "class LeastSquareObjective(BaseObjective):\n",
    "    def __init__(self, x, y, forward):\n",
    "        self.x = x\n",
    "        self.y = y\n",
    "        self.forward = forward\n",
    "\n",
    "    def misfit(self, model):\n",
    "        y_predicted = self.forward(model, self.x)\n",
    "        residual = y_predicted - self.y\n",
    "        return residual.T @ residual"
   ]
  },
  {
   "cell_type": "markdown",
   "metadata": {},
   "source": [
    "The above `LeastSquareObjective` is also included in `cofi` so you don't have to define it by yourself. The convenience of it is that users only need to define a forward operator in the form of either a function or a class (namely a subclass of `BaseForward` class).\n",
    "\n",
    "See the following example, in which the cannon ball forward operator is defined and passed into `LeastSquareObjective`."
   ]
  },
  {
   "cell_type": "code",
   "execution_count": 8,
   "metadata": {},
   "outputs": [],
   "source": [
    "# define forward operator\n",
    "def cannon_ball_forward(model, t):\n",
    "    return model[0] + model[1] * t - 1/2 * model[2] * t * t\n",
    "\n",
    "# sample experiment data\n",
    "data_y = [26.94, 33.45, 40.72, 42.32, 44.30, 47.19, 43.33, 40.13]\n",
    "t = [1,2,3,4,5,6,7,8]\n",
    "\n",
    "# instantiate objective\n",
    "cannon_ball_obj = LeastSquareObjective(t, data_y, cannon_ball_forward)\n",
    "\n",
    "# now cannon_ball_obj can be passed to solvers...\n",
    "# scipy_solver = cofi.optimizers.ScipyOptimizerSolver(cannon_ball_obj)\n",
    "# model = scipy_solver.solve()"
   ]
  },
  {
   "cell_type": "markdown",
   "metadata": {},
   "source": [
    "In the X-Ray Tomography and Receiver Function examples (in section 3 and 4), there are both \"forward\" class and \"objective\" class relating to them, and the \"objective\" class typically contains an instance of \"forward\" as a field. I'm imagining that \"objective\" class, as a problem statement, can contain some user defined metadata (like the pixel dimension of X-Ray Tomography problem).\n",
    "\n",
    "If this \"forward\" idea still sounds confusing, maybe trying out the `ReceiverFunction` section 4 (in step 2) will give you a better idea.\n",
    "\n",
    "When we utilise test problems from `inversion-test-suite`, implementing a forward operator and then building an objective class from it can be more convenient. And forward operators defined explicitly can also help you generate sample data, etc."
   ]
  },
  {
   "cell_type": "markdown",
   "metadata": {},
   "source": [
    "----"
   ]
  }
 ],
 "metadata": {
  "interpreter": {
   "hash": "4afcd9d08e41888fafe3ba654bc6525ba38257e43586c01cbe298b2693ab2550"
  },
  "kernelspec": {
   "display_name": "Python 3 (ipykernel)",
   "language": "python",
   "name": "python3"
  },
  "language_info": {
   "codemirror_mode": {
    "name": "ipython",
    "version": 3
   },
   "file_extension": ".py",
   "mimetype": "text/x-python",
   "name": "python",
   "nbconvert_exporter": "python",
   "pygments_lexer": "ipython3",
   "version": "3.10.2"
  }
 },
 "nbformat": 4,
 "nbformat_minor": 4
}
