{
 "cells": [
  {
   "cell_type": "markdown",
   "metadata": {},
   "source": [
    "# 2. Linear regression"
   ]
  },
  {
   "cell_type": "markdown",
   "metadata": {},
   "source": [
    "First, make sure you've installed `cofi`: (Check the README.md file for furthur instructions)\n",
    "\n",
    "```bash\n",
    "pip install cofi\n",
    "```"
   ]
  },
  {
   "cell_type": "code",
   "execution_count": 1,
   "metadata": {},
   "outputs": [
    {
     "name": "stderr",
     "output_type": "stream",
     "text": [
      "/usr/local/anaconda3/envs/cofi_test/lib/python3.9/site-packages/cofi/optimizers/_petsc_tao.py:11: UserWarning: Please install petsc4py if you'd like to use its solvers\n",
      "  warnings.warn(\"Please install petsc4py if you'd like to use its solvers\")\n"
     ]
    }
   ],
   "source": [
    "import numpy as np\n",
    "import matplotlib.pyplot as plt\n",
    "\n",
    "import cofi"
   ]
  },
  {
   "cell_type": "markdown",
   "metadata": {},
   "source": [
    "It's normal if you see a warning about other packages like `petsc4py`. They are optional dependencies of `cofi`, and you need to install them accordingly if you'd like to use solvers built on them.\n",
    "\n",
    "To get full dependency while installing `cofi`, use the command:\n",
    "```console\n",
    "pip install cofi[all]\n",
    "```"
   ]
  },
  {
   "cell_type": "markdown",
   "metadata": {},
   "source": [
    "----\n",
    "\n",
    "Remember the concepts of \"objective\" and \"solver\" we mentioned in section 1? Here we use an example \"objective\" class - `LinearFittingObjective`, and an example \"solver\" class - `LRNormalEquation`. They are both now included in this package."
   ]
  },
  {
   "cell_type": "markdown",
   "metadata": {},
   "source": [
    "### Step 1: import"
   ]
  },
  {
   "cell_type": "code",
   "execution_count": 2,
   "metadata": {},
   "outputs": [],
   "source": [
    "from cofi.cofi_objective import LinearFittingObjective\n",
    "from cofi.linear_reg import LRNormalEquation"
   ]
  },
  {
   "cell_type": "markdown",
   "metadata": {},
   "source": [
    "### Step 2: generate sample data"
   ]
  },
  {
   "cell_type": "code",
   "execution_count": 3,
   "metadata": {},
   "outputs": [],
   "source": [
    "true_model = [3, 2, 5]\n",
    "npts = 25\n",
    "xpts = np.random.uniform(0, 1, npts)\n",
    "\n",
    "def calc_design_matrix(xpts):\n",
    "    return np.array([xpts ** i for i in range(3)]).T\n",
    "\n",
    "def polynomial_forward(xpts, true_model):\n",
    "    nparams = np.asarray(true_model).shape[0]\n",
    "    design_matrix = calc_design_matrix(xpts)\n",
    "    return design_matrix @ true_model\n",
    "    \n",
    "ypts = polynomial_forward(xpts, true_model)\n",
    "ypts = ypts + np.random.normal(0, 0.5, size=npts)"
   ]
  },
  {
   "cell_type": "code",
   "execution_count": 4,
   "metadata": {},
   "outputs": [
    {
     "data": {
      "image/png": "[encoded data removed]",
      "text/plain": [
       "<Figure size 720x576 with 1 Axes>"
      ]
     },
     "metadata": {
      "needs_background": "light"
     },
     "output_type": "display_data"
    }
   ],
   "source": [
    "plt.figure(figsize=(10, 8))\n",
    "plt.plot(xpts, ypts, \"x\")\n",
    "plt.plot(np.linspace(0, 1, 100), polynomial_forward(np.linspace(0,1,100), true_model))\n",
    "plt.show()"
   ]
  },
  {
   "cell_type": "markdown",
   "metadata": {},
   "source": [
    "### Step 3: define objective"
   ]
  },
  {
   "cell_type": "code",
   "execution_count": 5,
   "metadata": {},
   "outputs": [],
   "source": [
    "linear_obj = LinearFittingObjective(xpts, ypts, 3, calc_design_matrix)"
   ]
  },
  {
   "cell_type": "markdown",
   "metadata": {},
   "source": [
    "### Step 4: solve"
   ]
  },
  {
   "cell_type": "code",
   "execution_count": 6,
   "metadata": {},
   "outputs": [
    {
     "name": "stdout",
     "output_type": "stream",
     "text": [
      "[2.79563597 2.59232428 4.30396606]\n"
     ]
    },
    {
     "name": "stderr",
     "output_type": "stream",
     "text": [
      "/usr/local/anaconda3/envs/cofi_test/lib/python3.9/site-packages/cofi/linear_reg/_utils.py:6: UserWarning: You are using linear regression formula solver, please note that this is only for small scale of data\n",
      "  warn(\n"
     ]
    }
   ],
   "source": [
    "linear_solver = LRNormalEquation(linear_obj)\n",
    "model = linear_solver.solve()\n",
    "print(model.values())"
   ]
  },
  {
   "cell_type": "markdown",
   "metadata": {},
   "source": [
    "----"
   ]
  }
 ],
 "metadata": {
  "kernelspec": {
   "display_name": "Python 3 (ipykernel)",
   "language": "python",
   "name": "python3"
  },
  "language_info": {
   "codemirror_mode": {
    "name": "ipython",
    "version": 3
   },
   "file_extension": ".py",
   "mimetype": "text/x-python",
   "name": "python",
   "nbconvert_exporter": "python",
   "pygments_lexer": "ipython3",
   "version": "3.10.2"
  }
 },
 "nbformat": 4,
 "nbformat_minor": 4
}
