{
 "cells": [
  {
   "cell_type": "code",
   "execution_count": 1,
   "id": "27d30f73",
   "metadata": {
    "execution": {
     "iopub.execute_input": "2022-04-07T14:27:36.411859Z",
     "iopub.status.busy": "2022-04-07T14:27:36.411859Z",
     "iopub.status.idle": "2022-04-07T14:27:36.571852Z",
     "shell.execute_reply": "2022-04-07T14:27:36.571852Z"
    }
   },
   "outputs": [],
   "source": [
    "import numpy as np\n",
    "np.set_printoptions(precision=5)"
   ]
  },
  {
   "cell_type": "code",
   "execution_count": 2,
   "id": "a932adcd",
   "metadata": {
    "execution": {
     "iopub.execute_input": "2022-04-07T14:27:36.574854Z",
     "iopub.status.busy": "2022-04-07T14:27:36.574854Z",
     "iopub.status.idle": "2022-04-07T14:27:38.941852Z",
     "shell.execute_reply": "2022-04-07T14:27:38.941852Z"
    }
   },
   "outputs": [
    {
     "name": "stdout",
     "output_type": "stream",
     "text": [
      "1.0526315789473684 -0.03289473684210526\n"
     ]
    }
   ],
   "source": [
    "import stanpy as stp\n",
    "\n",
    "s = {\"EI\":32000, \"GA\":20000, \"N\":-1000}\n",
    "gamma, K = stp.gamma_K(**s)\n",
    "print(gamma, K)"
   ]
  },
  {
   "cell_type": "code",
   "execution_count": 3,
   "id": "d62ca51b",
   "metadata": {
    "execution": {
     "iopub.execute_input": "2022-04-07T14:27:38.945860Z",
     "iopub.status.busy": "2022-04-07T14:27:38.945860Z",
     "iopub.status.idle": "2022-04-07T14:27:38.956854Z",
     "shell.execute_reply": "2022-04-07T14:27:38.956854Z"
    }
   },
   "outputs": [
    {
     "name": "stdout",
     "output_type": "stream",
     "text": [
      "[[0.      0.      0.      0.      0.      0.     ]\n",
      " [1.      0.      0.      0.      0.      0.     ]\n",
      " [1.      2.      2.      1.33333 0.66667 0.26667]\n",
      " [1.      3.      4.5     4.5     3.375   2.025  ]]\n"
     ]
    }
   ],
   "source": [
    "import stanpy as stp\n",
    "\n",
    "aj = stp.aj(x=[-1,0,2,3],n=5)\n",
    "print(aj)"
   ]
  },
  {
   "cell_type": "code",
   "execution_count": 4,
   "id": "e28c6b09",
   "metadata": {
    "execution": {
     "iopub.execute_input": "2022-04-07T14:27:38.960858Z",
     "iopub.status.busy": "2022-04-07T14:27:38.959852Z",
     "iopub.status.idle": "2022-04-07T14:27:38.971852Z",
     "shell.execute_reply": "2022-04-07T14:27:38.971852Z"
    }
   },
   "outputs": [
    {
     "name": "stdout",
     "output_type": "stream",
     "text": [
      "[[0.      0.      0.      0.      0.      0.     ]\n",
      " [1.      0.      0.      0.      0.      0.     ]\n",
      " [0.93493 1.95643 1.97817 1.32459 0.66375 0.26583]\n",
      " [0.85559 2.85415 4.39007 4.43386 3.34187 2.01078]]\n"
     ]
    }
   ],
   "source": [
    "import stanpy as stp\n",
    "\n",
    "s = {\"EI\":32000, \"GA\":20000, \"N\":-1000}\n",
    "bj = stp.bj(x=[-1,0,2,3],**s)\n",
    "print(bj)"
   ]
  },
  {
   "cell_type": "code",
   "execution_count": 5,
   "id": "ae869448",
   "metadata": {
    "execution": {
     "iopub.execute_input": "2022-04-07T14:27:38.975859Z",
     "iopub.status.busy": "2022-04-07T14:27:38.974857Z",
     "iopub.status.idle": "2022-04-07T14:27:39.167864Z",
     "shell.execute_reply": "2022-04-07T14:27:39.166861Z"
    }
   },
   "outputs": [
    {
     "name": "stdout",
     "output_type": "stream",
     "text": [
      "[[[0.      0.      0.      0.      0.     ]\n",
      "  [0.      0.      0.      0.      0.     ]]\n",
      "\n",
      " [[1.      0.      0.      0.      0.     ]\n",
      "  [0.      1.      0.      0.      0.     ]]\n",
      "\n",
      " [[1.      2.      1.71429 1.0562  0.50369]\n",
      "  [0.      1.      1.59184 1.46939 0.94129]]\n",
      "\n",
      " [[1.      3.      3.6     3.20794 2.24511]\n",
      "  [0.      1.      2.16    2.88    2.71603]]\n",
      "\n",
      " [[1.      4.      6.      6.88538 6.29242]\n",
      "  [0.      1.      2.625   4.5     5.55731]]]\n"
     ]
    }
   ],
   "source": [
    "import sympy as sym\n",
    "import stanpy as stp\n",
    "\n",
    "x = sym.Symbol(\"x\")\n",
    "E = 32000  # kN/m2\n",
    "b = 0.2  # m\n",
    "ha = hb = 0.3  # m\n",
    "hc = 0.4  # m\n",
    "l = 4  # m\n",
    "hx = ha + (hc - hb) / l * x\n",
    "\n",
    "cs_props = stp.cs(b=b, h=hx)\n",
    "s = {\"E\": E, \"cs\": cs_props, \"l\": l}\n",
    "bj = stp.bj(x=[-1,0,2,3,4],**s)\n",
    "print(bj)"
   ]
  },
  {
   "cell_type": "code",
   "execution_count": 6,
   "id": "241d1378",
   "metadata": {
    "execution": {
     "iopub.execute_input": "2022-04-07T14:27:39.170855Z",
     "iopub.status.busy": "2022-04-07T14:27:39.170855Z",
     "iopub.status.idle": "2022-04-07T14:27:39.241852Z",
     "shell.execute_reply": "2022-04-07T14:27:39.241852Z"
    }
   },
   "outputs": [
    {
     "name": "stdout",
     "output_type": "stream",
     "text": [
      "[[  0.        0.        0.       -0.        1.     ]\n",
      " [  0.        0.        0.       -0.        1.     ]\n",
      " [  0.17489   0.32684 -10.      -10.        1.     ]\n",
      " [  0.77955   0.94307 -22.5     -15.        1.     ]\n",
      " [  2.18487   1.92962 -40.      -20.        1.     ]]\n"
     ]
    }
   ],
   "source": [
    "import sympy as sym\n",
    "import stanpy as stp\n",
    "\n",
    "x = sym.Symbol(\"x\")\n",
    "E = 32000  # kN/m2\n",
    "b = 0.2  # m\n",
    "ha = hb = 0.3  # m\n",
    "hc = 0.4  # m\n",
    "l = 4  # m\n",
    "q = 5 # kN/m\n",
    "hx = ha + (hc - hb) / l * x\n",
    "\n",
    "cs_props = stp.cs(b=b, h=hx)\n",
    "s = {\"E\": E, \"cs\": cs_props, \"l\": l, \"q\":q}\n",
    "li = stp.load_integral(x=[-1,0,2,3,4],**s)\n",
    "print(li)"
   ]
  },
  {
   "cell_type": "code",
   "execution_count": 7,
   "id": "e85f987b",
   "metadata": {
    "execution": {
     "iopub.execute_input": "2022-04-07T14:27:39.245856Z",
     "iopub.status.busy": "2022-04-07T14:27:39.244853Z",
     "iopub.status.idle": "2022-04-07T14:27:39.256852Z",
     "shell.execute_reply": "2022-04-07T14:27:39.256852Z"
    }
   },
   "outputs": [
    {
     "name": "stdout",
     "output_type": "stream",
     "text": [
      "[[[ 1.00000e+00  0.00000e+00  0.00000e+00  0.00000e+00  0.00000e+00]\n",
      "  [ 0.00000e+00  1.00000e+00  0.00000e+00  0.00000e+00  0.00000e+00]\n",
      "  [ 0.00000e+00  0.00000e+00  1.00000e+00  0.00000e+00  0.00000e+00]\n",
      "  [ 0.00000e+00  0.00000e+00  0.00000e+00  1.00000e+00  0.00000e+00]\n",
      "  [ 0.00000e+00  0.00000e+00  0.00000e+00  0.00000e+00  1.00000e+00]]\n",
      "\n",
      " [[ 1.00000e+00  2.50000e+00 -9.76563e-05  4.36198e-05 -2.10775e-04]\n",
      "  [ 0.00000e+00  1.00000e+00 -7.81250e-05 -9.76563e-05  1.62760e-04]\n",
      "  [ 0.00000e+00  0.00000e+00  1.00000e+00  2.50000e+00 -6.25000e+00]\n",
      "  [ 0.00000e+00  0.00000e+00  0.00000e+00  1.00000e+00 -5.00000e+00]\n",
      "  [ 0.00000e+00  0.00000e+00  0.00000e+00  0.00000e+00  1.00000e+00]]\n",
      "\n",
      " [[ 1.00000e+00  5.00000e+00 -3.90625e-04 -4.01042e-04  3.77604e-04]\n",
      "  [ 0.00000e+00  1.00000e+00 -1.56250e-04 -3.90625e-04  1.30208e-03]\n",
      "  [ 0.00000e+00  0.00000e+00  1.00000e+00  5.00000e+00 -2.50000e+01]\n",
      "  [ 0.00000e+00  0.00000e+00  0.00000e+00  1.00000e+00 -1.00000e+01]\n",
      "  [ 0.00000e+00  0.00000e+00  0.00000e+00  0.00000e+00  1.00000e+00]]]\n"
     ]
    }
   ],
   "source": [
    "import stanpy as stp\n",
    "\n",
    "l = 5 #m\n",
    "s = {\"EI\":32000, \"GA\":20000, \"l\":l, \"q\":2}\n",
    "Fik = stp.tr(s, x=[0,l/2,l])\n",
    "print(Fik)"
   ]
  },
  {
   "cell_type": "code",
   "execution_count": 8,
   "id": "59f97adb",
   "metadata": {
    "execution": {
     "iopub.execute_input": "2022-04-07T14:27:39.260854Z",
     "iopub.status.busy": "2022-04-07T14:27:39.259853Z",
     "iopub.status.idle": "2022-04-07T14:27:39.271852Z",
     "shell.execute_reply": "2022-04-07T14:27:39.271852Z"
    }
   },
   "outputs": [
    {
     "name": "stdout",
     "output_type": "stream",
     "text": [
      "[[[ 1.00000e+00  0.00000e+00  0.00000e+00  0.00000e+00  0.00000e+00]\n",
      "  [ 0.00000e+00  1.00000e+00  0.00000e+00  0.00000e+00  0.00000e+00]\n",
      "  [ 0.00000e+00  0.00000e+00  1.00000e+00  0.00000e+00  0.00000e+00]\n",
      "  [ 0.00000e+00  0.00000e+00  0.00000e+00  1.00000e+00  0.00000e+00]\n",
      "  [ 0.00000e+00  0.00000e+00  0.00000e+00  0.00000e+00  1.00000e+00]]\n",
      "\n",
      " [[ 1.00000e+00  5.00000e+00 -3.90625e-04 -4.01042e-04  3.77604e-04]\n",
      "  [ 0.00000e+00  1.00000e+00 -1.56250e-04 -3.90625e-04  1.30208e-03]\n",
      "  [ 0.00000e+00  0.00000e+00  1.00000e+00  5.00000e+00 -2.50000e+01]\n",
      "  [ 0.00000e+00  0.00000e+00  0.00000e+00  1.00000e+00 -1.00000e+01]\n",
      "  [ 0.00000e+00  0.00000e+00  0.00000e+00  0.00000e+00  1.00000e+00]]\n",
      "\n",
      " [[ 1.00000e+00  1.00000e+01 -1.56250e-03 -4.70833e-03  2.10417e-02]\n",
      "  [ 0.00000e+00  1.00000e+00 -3.12500e-04 -1.56250e-03  1.04167e-02]\n",
      "  [ 0.00000e+00  0.00000e+00  1.00000e+00  1.00000e+01 -1.00000e+02]\n",
      "  [ 0.00000e+00  0.00000e+00  0.00000e+00  1.00000e+00 -2.00000e+01]\n",
      "  [ 0.00000e+00  0.00000e+00  0.00000e+00  0.00000e+00  1.00000e+00]]]\n"
     ]
    }
   ],
   "source": [
    "import stanpy as stp\n",
    "\n",
    "l = 5 #m\n",
    "s1 = {\"EI\":32000, \"GA\":20000, \"l\":l, \"q\":2}\n",
    "s2 = {\"EI\":32000, \"GA\":20000, \"l\":l, \"q\":2}\n",
    "s = [s1,s2]\n",
    "\n",
    "Fik = stp.tr(*s, x=np.linspace(0, 2*l, 3))\n",
    "print(Fik)"
   ]
  },
  {
   "cell_type": "code",
   "execution_count": 9,
   "id": "c5b500cd",
   "metadata": {
    "execution": {
     "iopub.execute_input": "2022-04-07T14:27:39.275853Z",
     "iopub.status.busy": "2022-04-07T14:27:39.274853Z",
     "iopub.status.idle": "2022-04-07T14:27:39.286854Z",
     "shell.execute_reply": "2022-04-07T14:27:39.286854Z"
    }
   },
   "outputs": [
    {
     "name": "stdout",
     "output_type": "stream",
     "text": [
      "[[ 0.00000e+00  0.00000e+00  0.00000e+00  0.00000e+00  1.00000e+00]\n",
      " [-2.10775e-04  1.62760e-04 -6.25000e+00 -5.00000e+00  1.00000e+00]\n",
      " [ 3.77604e-04  1.30208e-03 -2.50000e+01 -1.00000e+01  1.00000e+00]]\n"
     ]
    }
   ],
   "source": [
    "import stanpy as stp\n",
    "\n",
    "l = 5 #m\n",
    "s = {\"EI\":32000, \"GA\":20000, \"l\":l, \"q\":2}\n",
    "load_integral_Q = stp.calc_load_integral_Q(x=[0,l/2,l],**s)\n",
    "print(load_integral_Q)"
   ]
  },
  {
   "cell_type": "code",
   "execution_count": 10,
   "id": "cb3a498f",
   "metadata": {
    "execution": {
     "iopub.execute_input": "2022-04-07T14:27:39.290857Z",
     "iopub.status.busy": "2022-04-07T14:27:39.289857Z",
     "iopub.status.idle": "2022-04-07T14:27:39.301852Z",
     "shell.execute_reply": "2022-04-07T14:27:39.301852Z"
    }
   },
   "outputs": [
    {
     "name": "stdout",
     "output_type": "stream",
     "text": [
      "[[ 1.00000e+00  5.00000e+00 -3.90625e-04 -9.01042e-04  3.77604e-04]\n",
      " [ 0.00000e+00  1.00000e+00 -3.90625e-04 -9.01042e-04  1.30208e-03]\n",
      " [ 0.00000e+00  0.00000e+00  1.00000e+00  5.00000e+00 -2.50000e+01]\n",
      " [ 0.00000e+00  0.00000e+00 -0.00000e+00  1.00000e+00 -1.00000e+01]\n",
      " [ 0.00000e+00  0.00000e+00  0.00000e+00  0.00000e+00  1.00000e+00]]\n"
     ]
    }
   ],
   "source": [
    "import stanpy as stp\n",
    "\n",
    "l = 5 #m\n",
    "s = {\"EI\":32000, \"GA\":20000, \"l\":l, \"q\":2}\n",
    "Fik = stp.tr_Q(**s)\n",
    "print(Fik)"
   ]
  },
  {
   "cell_type": "code",
   "execution_count": 11,
   "id": "8f676bdb",
   "metadata": {
    "execution": {
     "iopub.execute_input": "2022-04-07T14:27:39.304855Z",
     "iopub.status.busy": "2022-04-07T14:27:39.304855Z",
     "iopub.status.idle": "2022-04-07T14:27:39.316855Z",
     "shell.execute_reply": "2022-04-07T14:27:39.316855Z"
    }
   },
   "outputs": [
    {
     "name": "stdout",
     "output_type": "stream",
     "text": [
      "[[ 0.00000e+00  0.00000e+00  0.00000e+00 -0.00000e+00  1.00000e+00]\n",
      " [-2.17002e-04  1.69574e-04 -6.46700e+00 -5.00000e+00  1.00000e+00]\n",
      " [ 4.38933e-04  1.31535e-03 -2.45611e+01 -1.00000e+01  1.00000e+00]]\n"
     ]
    }
   ],
   "source": [
    "import stanpy as stp\n",
    "\n",
    "l = 5 #m\n",
    "s = {\"EI\":32000, \"GA\":20000, \"l\":l, \"q\":2, \"N\":-1000}\n",
    "load_integral_R = stp.calc_load_integral_R(x=[0,l/2,l],**s)\n",
    "print(load_integral_R)"
   ]
  },
  {
   "cell_type": "code",
   "execution_count": 12,
   "id": "5ad4b882",
   "metadata": {
    "execution": {
     "iopub.execute_input": "2022-04-07T14:27:39.320857Z",
     "iopub.status.busy": "2022-04-07T14:27:39.319858Z",
     "iopub.status.idle": "2022-04-07T14:27:39.331852Z",
     "shell.execute_reply": "2022-04-07T14:27:39.331852Z"
    }
   },
   "outputs": [
    {
     "name": "stdout",
     "output_type": "stream",
     "text": [
      "[[ 1.00000e+00  4.57087e+00 -3.83767e-04 -4.29130e-04  4.38933e-04]\n",
      " [ 0.00000e+00  6.16233e-01 -1.35698e-04 -3.83767e-04  1.31535e-03]\n",
      " [ 0.00000e+00  4.57087e+03  6.16233e-01  4.57087e+00 -2.45611e+01]\n",
      " [ 0.00000e+00  0.00000e+00  0.00000e+00  1.00000e+00 -1.00000e+01]\n",
      " [ 0.00000e+00  0.00000e+00  0.00000e+00  0.00000e+00  1.00000e+00]]\n"
     ]
    }
   ],
   "source": [
    "import stanpy as stp\n",
    "\n",
    "l = 5 #m\n",
    "s = {\"EI\":32000, \"GA\":20000, \"l\":l, \"q\":2, \"N\":-1000}\n",
    "Fik = stp.tr_R(**s)\n",
    "print(Fik)"
   ]
  },
  {
   "cell_type": "code",
   "execution_count": 13,
   "id": "9562213f",
   "metadata": {
    "execution": {
     "iopub.execute_input": "2022-04-07T14:27:39.334852Z",
     "iopub.status.busy": "2022-04-07T14:27:39.334852Z",
     "iopub.status.idle": "2022-04-07T14:27:39.436852Z",
     "shell.execute_reply": "2022-04-07T14:27:39.436852Z"
    }
   },
   "outputs": [
    {
     "name": "stdout",
     "output_type": "stream",
     "text": [
      "[[ 0.00000e+00  0.00000e+00  0.00000e+00  0.00000e+00  1.00000e+00]\n",
      " [ 1.18053e-04  2.94153e-04 -1.12500e+01 -1.50000e+01  1.00000e+00]\n",
      " [ 1.47479e-03  1.73666e-03 -4.50000e+01 -3.00000e+01  1.00000e+00]]\n"
     ]
    }
   ],
   "source": [
    "import stanpy as stp\n",
    "\n",
    "x = sym.Symbol(\"x\")\n",
    "E = 3*10**7  # kN/m2\n",
    "b = 0.2  # m\n",
    "hi = 0.3  # m\n",
    "hk = 0.4  # m\n",
    "l = 3  # m\n",
    "hx = hi + (hk - hi) / l * x\n",
    "\n",
    "cs_props = stp.cs(b=b, h=hx)\n",
    "s = {\"E\": E, \"cs\": cs_props, \"l\": l, \"q\":10}\n",
    "load_integral_Q = stp.calc_load_integral_Q_poly(x=[0,l/2,l],**s)\n",
    "\n",
    "print(load_integral_Q)"
   ]
  },
  {
   "cell_type": "code",
   "execution_count": 14,
   "id": "9b172357",
   "metadata": {
    "execution": {
     "iopub.execute_input": "2022-04-07T14:27:39.440854Z",
     "iopub.status.busy": "2022-04-07T14:27:39.439853Z",
     "iopub.status.idle": "2022-04-07T14:27:39.511852Z",
     "shell.execute_reply": "2022-04-07T14:27:39.511852Z"
    }
   },
   "outputs": [
    {
     "name": "stdout",
     "output_type": "stream",
     "text": [
      "[[ 1.00000e+00  3.00000e+00 -2.50000e-04 -2.15168e-04  1.47479e-03]\n",
      " [ 0.00000e+00  1.00000e+00 -1.45833e-04 -1.87500e-04  1.73666e-03]\n",
      " [ 0.00000e+00  0.00000e+00  1.00000e+00  3.00000e+00 -4.50000e+01]\n",
      " [ 0.00000e+00  0.00000e+00  0.00000e+00  1.00000e+00 -3.00000e+01]\n",
      " [ 0.00000e+00  0.00000e+00  0.00000e+00  0.00000e+00  1.00000e+00]]"
     ]
    },
    {
     "name": "stdout",
     "output_type": "stream",
     "text": [
      "\n"
     ]
    }
   ],
   "source": [
    "import stanpy as stp\n",
    "\n",
    "x = sym.Symbol(\"x\")\n",
    "E = 3*10**7  # kN/m2\n",
    "b = 0.2  # m\n",
    "hi = 0.3  # m\n",
    "hk = 0.4  # m\n",
    "l = 3  # m\n",
    "hx = hi + (hk - hi) / l * x\n",
    "\n",
    "cs_props = stp.cs(b=b, h=hx)\n",
    "s = {\"E\": E, \"cs\": cs_props, \"l\": l, \"q\":10}\n",
    "\n",
    "Fik = stp.tr_Q_poly(**s)\n",
    "print(Fik)"
   ]
  },
  {
   "cell_type": "code",
   "execution_count": 15,
   "id": "c6527625",
   "metadata": {
    "execution": {
     "iopub.execute_input": "2022-04-07T14:27:39.514854Z",
     "iopub.status.busy": "2022-04-07T14:27:39.514854Z",
     "iopub.status.idle": "2022-04-07T14:27:39.661852Z",
     "shell.execute_reply": "2022-04-07T14:27:39.661852Z"
    }
   },
   "outputs": [
    {
     "name": "stdout",
     "output_type": "stream",
     "text": [
      "[[ 0.00000e+00  0.00000e+00  0.00000e+00 -0.00000e+00  1.00000e+00]\n",
      " [ 1.17545e-04  2.92291e-04 -1.11325e+01 -1.50000e+01  1.00000e+00]\n",
      " [ 1.45456e-03  1.70226e-03 -4.35454e+01 -3.00000e+01  1.00000e+00]]\n"
     ]
    }
   ],
   "source": [
    "import stanpy as stp\n",
    "\n",
    "x = sym.Symbol(\"x\")\n",
    "E = 3*10**7  # kN/m2\n",
    "b = 0.2  # m\n",
    "hi = 0.3  # m\n",
    "hk = 0.4  # m\n",
    "l = 3  # m\n",
    "hx = hi + (hk - hi) / l * x\n",
    "\n",
    "cs_props = stp.cs(b=b, h=hx)\n",
    "s = {\"E\": E, \"cs\": cs_props, \"l\": l, \"q\":10, \"N\":-1000}\n",
    "load_integral_R = stp.calc_load_integral_R_poly(x=[0,l/2,l],**s)\n",
    "\n",
    "print(load_integral_R)"
   ]
  },
  {
   "cell_type": "code",
   "execution_count": 16,
   "id": "96d16b3e",
   "metadata": {
    "execution": {
     "iopub.execute_input": "2022-04-07T14:27:39.665857Z",
     "iopub.status.busy": "2022-04-07T14:27:39.665857Z",
     "iopub.status.idle": "2022-04-07T14:27:39.751854Z",
     "shell.execute_reply": "2022-04-07T14:27:39.751854Z"
    }
   },
   "outputs": [
    {
     "name": "stdout",
     "output_type": "stream",
     "text": [
      "[[ 1.00000e+00  2.78942e+00 -2.40910e-04 -2.10583e-04  1.45456e-03]\n",
      " [ 0.00000e+00  8.18939e-01 -1.35638e-04 -1.81061e-04  1.70226e-03]\n",
      " [ 0.00000e+00  2.78942e+03  7.59090e-01  2.78942e+00 -4.35454e+01]\n",
      " [ 0.00000e+00  0.00000e+00  0.00000e+00  1.00000e+00 -3.00000e+01]\n",
      " [ 0.00000e+00  0.00000e+00  0.00000e+00  0.00000e+00  1.00000e+00]]\n"
     ]
    }
   ],
   "source": [
    "import stanpy as stp\n",
    "\n",
    "x = sym.Symbol(\"x\")\n",
    "E = 3*10**7  # kN/m2\n",
    "b = 0.2  # m\n",
    "hi = 0.3  # m\n",
    "hk = 0.4  # m\n",
    "l = 3  # m\n",
    "hx = hi + (hk - hi) / l * x\n",
    "\n",
    "cs_props = stp.cs(b=b, h=hx)\n",
    "s = {\"E\": E, \"cs\": cs_props, \"l\": l, \"q\":10, \"N\":-1000}\n",
    "\n",
    "Fik = stp.tr_R_poly(**s)\n",
    "print(Fik)"
   ]
  }
 ],
 "metadata": {
  "kernelspec": {
   "display_name": "Python 3 (ipykernel)",
   "language": "python",
   "name": "python3"
  },
  "language_info": {
   "codemirror_mode": {
    "name": "ipython",
    "version": 3
   },
   "file_extension": ".py",
   "mimetype": "text/x-python",
   "name": "python",
   "nbconvert_exporter": "python",
   "pygments_lexer": "ipython3",
   "version": "3.9.7"
  }
 },
 "nbformat": 4,
 "nbformat_minor": 5
}