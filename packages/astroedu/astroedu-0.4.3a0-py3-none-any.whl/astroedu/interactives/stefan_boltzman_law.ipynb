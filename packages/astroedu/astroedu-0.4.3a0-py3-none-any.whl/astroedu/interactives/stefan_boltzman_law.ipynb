{
 "cells": [
  {
   "cell_type": "markdown",
   "id": "speaking-affect",
   "metadata": {},
   "source": [
    "<center>\n",
    "    <img width=\"100%\" src=\"https://raw.githubusercontent.com/astroDimitrios/astroedu/c925a15e655fba2c8e40587033b77a00e72c6efb/assets/logo/astroeduLOGOtag.svg\" alt='AP Logo'>\n",
    "</center>\n",
    "\n",
    "# Stefan Boltzman's Law Interactive\n",
    "\n",
    "The Stefan-Boltzmann Law relates a stars temperature and radius to its luminosity (the amount of energy radiated per second):\n",
    "\n",
    "$L = 4\\pi R^2\\sigma T_{e}^{4}$\n",
    "\n",
    "where $\\sigma$ is the Stefan-Boltzman constant and $T_{e}$ is the effective temperature. $T_{e}$ is the temperature of a blackbody that would emit the same amount of radiation as the star.  \n",
    "\n",
    "Alter the Radius of the star in units of solar radii and the Temperature in K to calculate the luminosity.\n",
    "\n",
    "Click on the 3 dots below to unhide the code for the widget!"
   ]
  },
  {
   "cell_type": "code",
   "execution_count": 1,
   "id": "victorian-coach",
   "metadata": {
    "jupyter": {
     "source_hidden": true
    }
   },
   "outputs": [],
   "source": [
    "from ipywidgets import interact, HBox, Label, FloatSlider\n",
    "import numpy as np\n",
    "\n",
    "style = {'description_width': 'initial'} # set text box length\n",
    "\n",
    "R = FloatSlider(\n",
    "    value=1,\n",
    "    min=.5,\n",
    "    max=30.0,\n",
    "    step=0.01,\n",
    "    description='Radius / $R_{\\odot}$:',\n",
    "    disabled=False,\n",
    "    continuous_update=False,\n",
    "    orientation='horizontal',\n",
    "    readout=True,\n",
    "    readout_format='.1f',\n",
    "    style = style\n",
    ")\n",
    "\n",
    "T = FloatSlider(\n",
    "    value=5772,\n",
    "    min=2500,\n",
    "    max=10000,\n",
    "    step=1,\n",
    "    description='Temperature / K:',\n",
    "    disabled=False,\n",
    "    continuous_update=False,\n",
    "    orientation='horizontal',\n",
    "    readout=True,\n",
    "    readout_format='.0f',\n",
    "    style = style\n",
    ")"
   ]
  },
  {
   "cell_type": "code",
   "execution_count": 2,
   "id": "canadian-projection",
   "metadata": {},
   "outputs": [],
   "source": [
    "sigma = 5.670374419*10**(-8) # W m^-2 K^-4\n",
    "Tsun = 5772 # K\n",
    "Rsun = 6.957*10**8 # m\n",
    "Lsun = 4*np.pi*Rsun**2*sigma*Tsun**4\n",
    "\n",
    "def luminosity(R, T):\n",
    "    Lstar = 4*np.pi*(R*Rsun)**2*sigma*T**4\n",
    "    ratio = Lstar/Lsun\n",
    "    print(f'\\n The Luminosity of the star is : {Lsun:.2e} W or {ratio:.2f} times that of the sun.\\n')"
   ]
  },
  {
   "cell_type": "code",
   "execution_count": 3,
   "id": "desperate-feeding",
   "metadata": {},
   "outputs": [
    {
     "data": {
      "application/vnd.jupyter.widget-view+json": {
       "model_id": "015ca2cf79434c6ea4b0aab53141fa8b",
       "version_major": 2,
       "version_minor": 0
      },
      "text/plain": [
       "interactive(children=(FloatSlider(value=1.0, continuous_update=False, description='Radius / $R_{\\\\odot}$:', ma…"
      ]
     },
     "metadata": {},
     "output_type": "display_data"
    },
    {
     "data": {
      "text/plain": [
       "<function __main__.luminosity(R, T)>"
      ]
     },
     "execution_count": 3,
     "metadata": {},
     "output_type": "execute_result"
    }
   ],
   "source": [
    "interact(luminosity, R=R, T=T)"
   ]
  },
  {
   "cell_type": "markdown",
   "id": "academic-contrast",
   "metadata": {},
   "source": [
    "### Sharing\n",
    "\n",
    "You may share and modify this interactive freely for educational purposes. See the astroedu license [here](https://github.com/astroDimitrios/astroedu/blob/main/LICENSE) for more info.    \n",
    "Please raise an issue [here](https://github.com/astroDimitrios/astroedu/issues) on GitHub if you find a mistake, want to contribute, or have suggestions for improvements.\n",
    "\n",
    "© astroedu 2021"
   ]
  }
 ],
 "metadata": {
  "kernelspec": {
   "display_name": "Python 3",
   "language": "python",
   "name": "python3"
  },
  "language_info": {
   "codemirror_mode": {
    "name": "ipython",
    "version": 3
   },
   "file_extension": ".py",
   "mimetype": "text/x-python",
   "name": "python",
   "nbconvert_exporter": "python",
   "pygments_lexer": "ipython3",
   "version": "3.6.12"
  }
 },
 "nbformat": 4,
 "nbformat_minor": 5
}
