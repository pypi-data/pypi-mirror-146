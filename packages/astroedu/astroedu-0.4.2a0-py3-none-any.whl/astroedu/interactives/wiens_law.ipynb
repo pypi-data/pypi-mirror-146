{
 "cells": [
  {
   "cell_type": "markdown",
   "id": "common-winter",
   "metadata": {},
   "source": [
    "<center>\n",
    "    <img width=\"100%\" src=\"https://raw.githubusercontent.com/astroDimitrios/astroedu/c925a15e655fba2c8e40587033b77a00e72c6efb/assets/logo/astroeduLOGOtag.svg\" alt='AP Logo'>\n",
    "</center>\n",
    "\n",
    "# Wien's Law Interactive\n",
    "\n",
    "Enter a value for temperature in Kelvin.\n",
    "The code calculates the peak wavelength using Wien's Law:\n",
    "\n",
    "$$\\lambda_{peak} = \\frac{b}{T}$$\n",
    "\n",
    "where $b = 2.897771955\\times10^{-3}\\ mK$.  \n",
    "\n",
    "Click on the 3 dots below to unhide the code for the widget!"
   ]
  },
  {
   "cell_type": "code",
   "execution_count": 1,
   "id": "twelve-sleeping",
   "metadata": {
    "jupyter": {
     "source_hidden": true
    }
   },
   "outputs": [],
   "source": [
    "from ipywidgets import interact, FloatText\n",
    "\n",
    "style = {'description_width': 'initial'} # set text box length\n",
    "\n",
    "T = FloatText(\n",
    "    value = 5800,\n",
    "    description = 'Temperature / K:',\n",
    "    disabled = False,\n",
    "    style = style\n",
    ")"
   ]
  },
  {
   "cell_type": "code",
   "execution_count": 2,
   "id": "amazing-master",
   "metadata": {},
   "outputs": [],
   "source": [
    "b = 2.897771955*10**(-3) # m K\n",
    "\n",
    "def wiens(T):\n",
    "    lp = b/T\n",
    "    print(f'\\n The peak wavelength for temp {T:.1f} K is : {lp*10**9:.1f} nm \\n')"
   ]
  },
  {
   "cell_type": "code",
   "execution_count": 3,
   "id": "ongoing-tooth",
   "metadata": {},
   "outputs": [
    {
     "data": {
      "application/vnd.jupyter.widget-view+json": {
       "model_id": "c2a67a3bed1c4a83be9531e998d9de07",
       "version_major": 2,
       "version_minor": 0
      },
      "text/plain": [
       "interactive(children=(FloatText(value=5800.0, description='Temperature / K:', style=DescriptionStyle(descripti…"
      ]
     },
     "metadata": {},
     "output_type": "display_data"
    },
    {
     "data": {
      "text/plain": [
       "<function __main__.wiens(T)>"
      ]
     },
     "execution_count": 3,
     "metadata": {},
     "output_type": "execute_result"
    }
   ],
   "source": [
    "interact(wiens, T=T)"
   ]
  },
  {
   "cell_type": "markdown",
   "id": "indie-spending",
   "metadata": {},
   "source": [
    "### Sharing\n",
    "\n",
    "You may share and modify this interactive freely for educational purposes. See the astroedu license [here](https://github.com/astroDimitrios/astroedu/blob/main/LICENSE) for more info.    \n",
    "Please raise an issue [here](https://github.com/astroDimitrios/astroedu/issues) on GitHub if you find a mistake, want to contribute, or have suggestions for improvements.\n",
    "\n",
    "© astroedu 2021"
   ]
  }
 ],
 "metadata": {
  "kernelspec": {
   "display_name": "Python 3",
   "language": "python",
   "name": "python3"
  },
  "language_info": {
   "codemirror_mode": {
    "name": "ipython",
    "version": 3
   },
   "file_extension": ".py",
   "mimetype": "text/x-python",
   "name": "python",
   "nbconvert_exporter": "python",
   "pygments_lexer": "ipython3",
   "version": "3.6.12"
  }
 },
 "nbformat": 4,
 "nbformat_minor": 5
}
