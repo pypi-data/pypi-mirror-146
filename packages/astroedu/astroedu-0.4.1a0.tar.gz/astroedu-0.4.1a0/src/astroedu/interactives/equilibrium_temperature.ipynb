{
 "cells": [
  {
   "cell_type": "markdown",
   "id": "adjacent-roller",
   "metadata": {},
   "source": [
    "<center>\n",
    "    <img width=\"100%\" src=\"https://raw.githubusercontent.com/astroDimitrios/astroedu/c925a15e655fba2c8e40587033b77a00e72c6efb/assets/logo/astroeduLOGOtag.svg\" alt='AP Logo'>\n",
    "</center>\n",
    "\n",
    "# Equilibrium Temperature Interactive\n",
    "\n",
    "Alter the Albedo, Distance of the planet in AU, Temperature of the host star in K, and the Radius of the host star in terms of $R_{\\odot}$ to calculate the equilibrium temperature!\n",
    "\n",
    "Click on the 3 dots below to unhide the code for the widget!"
   ]
  },
  {
   "cell_type": "code",
   "execution_count": 1,
   "id": "victorian-statistics",
   "metadata": {
    "jupyter": {
     "source_hidden": true
    }
   },
   "outputs": [],
   "source": [
    "from ipywidgets import interact, HBox, Label, FloatSlider\n",
    "import ipywidgets as widgets\n",
    "import numpy as np\n",
    "\n",
    "style = {'description_width': 'initial'} # set text box length\n",
    "\n",
    "a = FloatSlider(\n",
    "    value=.5,\n",
    "    min=0,\n",
    "    max=1.0,\n",
    "    step=0.01,\n",
    "    description='Albedo:',\n",
    "    disabled=False,\n",
    "    continuous_update=False,\n",
    "    orientation='horizontal',\n",
    "    readout=True,\n",
    "    readout_format='.1f',\n",
    "    style = style\n",
    ")\n",
    "\n",
    "D = FloatSlider(\n",
    "    value=1,\n",
    "    min=0.01,\n",
    "    max=100,\n",
    "    step=0.01,\n",
    "    description='Distance / AU:',\n",
    "    disabled=False,\n",
    "    continuous_update=False,\n",
    "    orientation='horizontal',\n",
    "    readout=True,\n",
    "    readout_format='.2f',\n",
    "    style = style\n",
    ")\n",
    "\n",
    "T = FloatSlider(\n",
    "    value=5780,\n",
    "    min=2500,\n",
    "    max=10000,\n",
    "    step=1,\n",
    "    description='Temperature / K:',\n",
    "    disabled=False,\n",
    "    continuous_update=False,\n",
    "    orientation='horizontal',\n",
    "    readout=True,\n",
    "    readout_format='.0f',\n",
    "    style = style\n",
    ")\n",
    "\n",
    "R = FloatSlider(\n",
    "    value=1,\n",
    "    min=0.5,\n",
    "    max=30,\n",
    "    step=0.1,\n",
    "    description=r'Radius / $R_{\\odot}$',\n",
    "    disabled=False,\n",
    "    continuous_update=False,\n",
    "    orientation='horizontal',\n",
    "    readout=True,\n",
    "    readout_format='.1f',\n",
    "    style = style\n",
    ")"
   ]
  },
  {
   "cell_type": "code",
   "execution_count": 2,
   "id": "technical-apartment",
   "metadata": {},
   "outputs": [],
   "source": [
    "Rsun = 6.957*10**8 # m\n",
    "AU = 149597870700 # m\n",
    "KtoC = 273.15 # Kelvin to Celcius\n",
    "\n",
    "def Tp(a, D, T, R):\n",
    "    radius = R*Rsun\n",
    "    dist = D * AU\n",
    "    Tp = T*(1-a)**0.25*np.sqrt(radius/2/dist)\n",
    "    print(f'\\n The Equilibrium Temperature of this body is: {Tp:.0f} K or {Tp-KtoC:.0f} \\u00b0C\\n')"
   ]
  },
  {
   "cell_type": "code",
   "execution_count": 3,
   "id": "iraqi-uzbekistan",
   "metadata": {},
   "outputs": [
    {
     "data": {
      "application/vnd.jupyter.widget-view+json": {
       "model_id": "851ad273c7ff48d085dff2c2100dc320",
       "version_major": 2,
       "version_minor": 0
      },
      "text/plain": [
       "interactive(children=(FloatSlider(value=0.5, continuous_update=False, description='Albedo:', max=1.0, readout_…"
      ]
     },
     "metadata": {},
     "output_type": "display_data"
    },
    {
     "data": {
      "text/plain": [
       "<function __main__.Tp(a, D, T, R)>"
      ]
     },
     "execution_count": 3,
     "metadata": {},
     "output_type": "execute_result"
    }
   ],
   "source": [
    "interact(Tp, a=a, D=D, T=T, R=R)"
   ]
  },
  {
   "cell_type": "markdown",
   "id": "automated-brunei",
   "metadata": {},
   "source": [
    "## Info\n",
    "\n",
    "The power a planet receives is given by:\n",
    "\n",
    "$P_{in} = L(1-a)(\\frac{\\pi R_{p}^{2}}{4\\pi D^2})$\n",
    "\n",
    "$P_{in} = 4\\pi R^{2}\\sigma T^{4}(1-a)(\\frac{\\pi R_{p}^{2}}{4\\pi D^2})$\n",
    "\n",
    "This is the luminosity of the star times the fraction of light that is absorbed by the planet $(1-a)$. The final term is the area of the planet divided by the area of the sphere whos radius is the distance of the planet to the star. It's the amount of sunlight that reaches the planet since the radiation spreads out after leaving the stars surface according to the inverse square law.\n",
    "\n",
    "The power radiated from the planet is found using the stefan boltzmann law, $P_{out} = 4\\pi R_p^2\\sigma T_{p}^{4}$.\n",
    "Equating $P_{in}$ and $P_{out}$ and solving for the equilibrium temperature, $T_{p}$, we get:\n",
    "\n",
    "$T_{p} = T(1-a)^{\\frac{1}{4}}\\sqrt{\\frac{R}{2D}}$\n",
    "\n",
    "### Sharing\n",
    "\n",
    "You may share and modify this interactive freely for educational purposes. See the astroedu license [here](https://github.com/astroDimitrios/astroedu/blob/main/LICENSE) for more info.    \n",
    "Please raise an issue [here](https://github.com/astroDimitrios/astroedu/issues) on GitHub if you find a mistake, want to contribute, or have suggestions for improvements.\n",
    "\n",
    "© astroedu 2021"
   ]
  }
 ],
 "metadata": {
  "kernelspec": {
   "display_name": "Python 3",
   "language": "python",
   "name": "python3"
  },
  "language_info": {
   "codemirror_mode": {
    "name": "ipython",
    "version": 3
   },
   "file_extension": ".py",
   "mimetype": "text/x-python",
   "name": "python",
   "nbconvert_exporter": "python",
   "pygments_lexer": "ipython3",
   "version": "3.6.12"
  }
 },
 "nbformat": 4,
 "nbformat_minor": 5
}
