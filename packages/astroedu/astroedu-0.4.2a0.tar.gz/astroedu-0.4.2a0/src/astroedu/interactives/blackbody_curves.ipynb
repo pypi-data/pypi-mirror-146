{
 "cells": [
  {
   "cell_type": "markdown",
   "id": "sunset-james",
   "metadata": {},
   "source": [
    "<center>\n",
    "    <img width=\"100%\" src=\"https://raw.githubusercontent.com/astroDimitrios/astroedu/c925a15e655fba2c8e40587033b77a00e72c6efb/assets/logo/astroeduLOGOtag.svg\" alt='AP Logo'>\n",
    "</center>\n",
    "\n",
    "# Blackbody Curve Interactive\n",
    "\n",
    "Compare two blackbody curves. Just alter the two temperatures in Kelvin!\n",
    "\n",
    "Click on the 3 dots below to unhide the plotting and widget code!"
   ]
  },
  {
   "cell_type": "code",
   "execution_count": 1,
   "id": "moral-increase",
   "metadata": {
    "jupyter": {
     "source_hidden": true
    }
   },
   "outputs": [],
   "source": [
    "import matplotlib.pyplot as plt\n",
    "import numpy as np\n",
    "from ipywidgets import FloatSlider, interactive\n",
    "\n",
    "style = {'description_width': 'initial'} # set text box length\n",
    "\n",
    "T = FloatSlider(\n",
    "    value=5760,\n",
    "    min=1,\n",
    "    max=10000,\n",
    "    step=1,\n",
    "    description='Temperature 1 / K:',\n",
    "    disabled=False,\n",
    "    continuous_update=False,\n",
    "    orientation='horizontal',\n",
    "    readout=True,\n",
    "    readout_format='.0f',\n",
    "    style = style\n",
    ")\n",
    "\n",
    "T2 = FloatSlider(\n",
    "    value=3000,\n",
    "    min=1,\n",
    "    max=10000,\n",
    "    step=1,\n",
    "    description='Temperature 2 / K:',\n",
    "    disabled=False,\n",
    "    continuous_update=False,\n",
    "    orientation='horizontal',\n",
    "    readout=True,\n",
    "    readout_format='.0f',\n",
    "    style = style\n",
    ")\n",
    "\n",
    "def plot_blackBody(l, T, T2, B, B2):\n",
    "    fig = plt.figure(num=3,figsize=(15,10))\n",
    "    ymax = max(max(B)/10**13+1, max(B2)/10**13+1)\n",
    "    ax = plt.subplot(xlim=(0,3000),ylim=(0,np.floor(ymax)))\n",
    "    ax.plot(l*10**9, B/10**13, c=\"gold\", label=f'T = {T:.0f} K')\n",
    "    ax.plot(l*10**9, B2/10**13, c=\"forestgreen\", label=f'T = {T2:.0f} K')\n",
    "    ax.set_xlabel(r\"Wavelength / $nm$\")\n",
    "    ax.set_ylabel(r\"Spectral Intensity / $10^{4}\\ Wsr^{-1}m^{-2}nm^{-1}$\")\n",
    "    ax.spines[\"top\"].set_visible(False)\n",
    "    ax.spines[\"right\"].set_visible(False)\n",
    "    ax.legend(loc='upper right', bbox_to_anchor=(0.8, 0.8), fontsize='large', frameon=False)\n",
    "    plt.show()"
   ]
  },
  {
   "cell_type": "code",
   "execution_count": 2,
   "id": "swiss-blocking",
   "metadata": {},
   "outputs": [],
   "source": [
    "kb = 1.380649*10**(-23)  # J/K\n",
    "c = 299792458            # m/s\n",
    "h = 6.62607015*10**(-34) # Js\n",
    "l = np.arange(0.01,4,0.01)*10**(-6) # m\n",
    "\n",
    "def blackBody(T, T2):\n",
    "    B = 2*h*c**2/l**5 * 1/(np.exp(h*c/(l*kb*T))-1)\n",
    "    B2 = 2*h*c**2/l**5 * 1/(np.exp(h*c/(l*kb*T2))-1)\n",
    "    plot_blackBody(l, T, T2, B, B2)"
   ]
  },
  {
   "cell_type": "code",
   "execution_count": 3,
   "id": "indian-victoria",
   "metadata": {},
   "outputs": [
    {
     "data": {
      "application/vnd.jupyter.widget-view+json": {
       "model_id": "1a02a112ce084847b3846c46a9c14de8",
       "version_major": 2,
       "version_minor": 0
      },
      "text/plain": [
       "interactive(children=(FloatSlider(value=5760.0, continuous_update=False, description='Temperature 1 / K:', max…"
      ]
     },
     "metadata": {},
     "output_type": "display_data"
    }
   ],
   "source": [
    "interactive(blackBody, T=T, T2=T2)"
   ]
  },
  {
   "cell_type": "markdown",
   "id": "limiting-webster",
   "metadata": {},
   "source": [
    "## Info\n",
    "\n",
    "This uses Planck's Law to calculate the intensity for a range of wavelengths ($\\lambda$):\n",
    "\n",
    "$$B(\\lambda,T) = \\frac{2hc^2}{\\lambda^5}\\frac{1}{e^{\\frac{hc}{\\lambda k_B T}}-1}$$\n",
    "\n",
    "where $h$ is Planck's constant, $c$ is the speed of light, and $k_B$ is Boltzman's constant.\n",
    "\n",
    "### Sharing\n",
    "\n",
    "You may share and modify this interactive freely for educational purposes. See the astroedu license [here](https://github.com/astroDimitrios/astroedu/blob/main/LICENSE) for more info.    \n",
    "Please raise an issue [here](https://github.com/astroDimitrios/astroedu/issues) on GitHub if you find a mistake, want to contribute, or have suggestions for improvements.\n",
    "\n",
    "© astroedu 2021"
   ]
  }
 ],
 "metadata": {
  "kernelspec": {
   "display_name": "Python 3",
   "language": "python",
   "name": "python3"
  },
  "language_info": {
   "codemirror_mode": {
    "name": "ipython",
    "version": 3
   },
   "file_extension": ".py",
   "mimetype": "text/x-python",
   "name": "python",
   "nbconvert_exporter": "python",
   "pygments_lexer": "ipython3",
   "version": "3.6.12"
  }
 },
 "nbformat": 4,
 "nbformat_minor": 5
}
